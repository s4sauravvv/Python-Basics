{
 "cells": [
  {
   "cell_type": "code",
   "execution_count": 1,
   "id": "5b1d9ca5",
   "metadata": {},
   "outputs": [],
   "source": [
    "#List"
   ]
  },
  {
   "cell_type": "code",
   "execution_count": 2,
   "id": "c410aead",
   "metadata": {},
   "outputs": [],
   "source": [
    "my_list=[12,25,'saurav',2.35,'datatrained']"
   ]
  },
  {
   "cell_type": "code",
   "execution_count": 3,
   "id": "5cbb6ab7",
   "metadata": {},
   "outputs": [
    {
     "data": {
      "text/plain": [
       "[12, 25, 'saurav', 2.35, 'datatrained']"
      ]
     },
     "execution_count": 3,
     "metadata": {},
     "output_type": "execute_result"
    }
   ],
   "source": [
    "my_list"
   ]
  },
  {
   "cell_type": "code",
   "execution_count": 4,
   "id": "f5efff7e",
   "metadata": {},
   "outputs": [],
   "source": [
    "#lentgh of my list."
   ]
  },
  {
   "cell_type": "code",
   "execution_count": 5,
   "id": "c5ccbc31",
   "metadata": {},
   "outputs": [
    {
     "data": {
      "text/plain": [
       "5"
      ]
     },
     "execution_count": 5,
     "metadata": {},
     "output_type": "execute_result"
    }
   ],
   "source": [
    "len(my_list)"
   ]
  },
  {
   "cell_type": "code",
   "execution_count": 6,
   "id": "5648406b",
   "metadata": {},
   "outputs": [],
   "source": [
    "#Indexing and Slicing"
   ]
  },
  {
   "cell_type": "code",
   "execution_count": 12,
   "id": "bc087b97",
   "metadata": {},
   "outputs": [],
   "source": [
    "my_list=['one','two',3,'four',5,6]"
   ]
  },
  {
   "cell_type": "code",
   "execution_count": 13,
   "id": "ae50a97a",
   "metadata": {},
   "outputs": [
    {
     "data": {
      "text/plain": [
       "['one', 'two', 3, 'four', 5, 6]"
      ]
     },
     "execution_count": 13,
     "metadata": {},
     "output_type": "execute_result"
    }
   ],
   "source": [
    "my_list"
   ]
  },
  {
   "cell_type": "code",
   "execution_count": 14,
   "id": "871b7011",
   "metadata": {},
   "outputs": [
    {
     "data": {
      "text/plain": [
       "'one'"
      ]
     },
     "execution_count": 14,
     "metadata": {},
     "output_type": "execute_result"
    }
   ],
   "source": [
    "my_list[0]"
   ]
  },
  {
   "cell_type": "code",
   "execution_count": 15,
   "id": "d44c1c97",
   "metadata": {},
   "outputs": [
    {
     "data": {
      "text/plain": [
       "[3, 'four', 5, 6]"
      ]
     },
     "execution_count": 15,
     "metadata": {},
     "output_type": "execute_result"
    }
   ],
   "source": [
    "my_list[2:]"
   ]
  },
  {
   "cell_type": "code",
   "execution_count": 16,
   "id": "6a85e46c",
   "metadata": {},
   "outputs": [
    {
     "data": {
      "text/plain": [
       "['four', 5, 6]"
      ]
     },
     "execution_count": 16,
     "metadata": {},
     "output_type": "execute_result"
    }
   ],
   "source": [
    "my_list[3:]"
   ]
  },
  {
   "cell_type": "code",
   "execution_count": 17,
   "id": "92225e06",
   "metadata": {},
   "outputs": [
    {
     "data": {
      "text/plain": [
       "[3, 'four', 5, 6]"
      ]
     },
     "execution_count": 17,
     "metadata": {},
     "output_type": "execute_result"
    }
   ],
   "source": [
    "my_list[2:]"
   ]
  },
  {
   "cell_type": "code",
   "execution_count": 19,
   "id": "b409b0f2",
   "metadata": {},
   "outputs": [
    {
     "data": {
      "text/plain": [
       "'one'"
      ]
     },
     "execution_count": 19,
     "metadata": {},
     "output_type": "execute_result"
    }
   ],
   "source": [
    "my_list[0]"
   ]
  },
  {
   "cell_type": "code",
   "execution_count": 29,
   "id": "132dd6c3",
   "metadata": {},
   "outputs": [
    {
     "data": {
      "text/plain": [
       "['one', 'two', 3, 'four']"
      ]
     },
     "execution_count": 29,
     "metadata": {},
     "output_type": "execute_result"
    }
   ],
   "source": [
    "my_list[:4]"
   ]
  },
  {
   "cell_type": "code",
   "execution_count": 30,
   "id": "b8313fcf",
   "metadata": {},
   "outputs": [
    {
     "data": {
      "text/plain": [
       "['one', 'two']"
      ]
     },
     "execution_count": 30,
     "metadata": {},
     "output_type": "execute_result"
    }
   ],
   "source": [
    "my_list[:2]"
   ]
  },
  {
   "cell_type": "code",
   "execution_count": 31,
   "id": "9e2619f0",
   "metadata": {},
   "outputs": [
    {
     "data": {
      "text/plain": [
       "['one', 'two', 3, 'four', 5, 6, 'new item']"
      ]
     },
     "execution_count": 31,
     "metadata": {},
     "output_type": "execute_result"
    }
   ],
   "source": [
    "#concatinate items in list"
   ]
  },
  {
   "cell_type": "code",
   "execution_count": 32,
   "id": "2792b883",
   "metadata": {},
   "outputs": [
    {
     "data": {
      "text/plain": [
       "['one', 'two', 3, 'four', 5, 6, 'new item']"
      ]
     },
     "execution_count": 32,
     "metadata": {},
     "output_type": "execute_result"
    }
   ],
   "source": [
    "my_list+['new item']"
   ]
  },
  {
   "cell_type": "code",
   "execution_count": 33,
   "id": "7bbd9b74",
   "metadata": {},
   "outputs": [],
   "source": [
    "#permanently concatinate wuth list"
   ]
  },
  {
   "cell_type": "code",
   "execution_count": 35,
   "id": "ec1e1281",
   "metadata": {},
   "outputs": [],
   "source": [
    "my_list=my_list+[\"add permanent item in list\"]"
   ]
  },
  {
   "cell_type": "code",
   "execution_count": 36,
   "id": "42f8a2a6",
   "metadata": {},
   "outputs": [
    {
     "data": {
      "text/plain": [
       "['one', 'two', 3, 'four', 5, 6, 'add permanent item in list']"
      ]
     },
     "execution_count": 36,
     "metadata": {},
     "output_type": "execute_result"
    }
   ],
   "source": [
    "my_list"
   ]
  },
  {
   "cell_type": "code",
   "execution_count": 37,
   "id": "b551b3b1",
   "metadata": {},
   "outputs": [],
   "source": [
    "#we can also use * for multi[lying the list"
   ]
  },
  {
   "cell_type": "code",
   "execution_count": 38,
   "id": "b142a716",
   "metadata": {},
   "outputs": [
    {
     "data": {
      "text/plain": [
       "['one',\n",
       " 'two',\n",
       " 3,\n",
       " 'four',\n",
       " 5,\n",
       " 6,\n",
       " 'add permanent item in list',\n",
       " 'one',\n",
       " 'two',\n",
       " 3,\n",
       " 'four',\n",
       " 5,\n",
       " 6,\n",
       " 'add permanent item in list']"
      ]
     },
     "execution_count": 38,
     "metadata": {},
     "output_type": "execute_result"
    }
   ],
   "source": [
    "my_list*2"
   ]
  },
  {
   "cell_type": "code",
   "execution_count": 39,
   "id": "41d50195",
   "metadata": {},
   "outputs": [],
   "source": [
    "#Basic list method"
   ]
  },
  {
   "cell_type": "code",
   "execution_count": 40,
   "id": "b947f641",
   "metadata": {},
   "outputs": [],
   "source": [
    "l1=[1,2,3,4,5,6]"
   ]
  },
  {
   "cell_type": "code",
   "execution_count": 41,
   "id": "c3a88b6c",
   "metadata": {},
   "outputs": [],
   "source": [
    "#append method to add permanently in list"
   ]
  },
  {
   "cell_type": "code",
   "execution_count": 42,
   "id": "b1e268df",
   "metadata": {},
   "outputs": [],
   "source": [
    "l1.append('append me')"
   ]
  },
  {
   "cell_type": "code",
   "execution_count": 43,
   "id": "c03600bc",
   "metadata": {},
   "outputs": [
    {
     "data": {
      "text/plain": [
       "[1, 2, 3, 4, 5, 6, 'append me']"
      ]
     },
     "execution_count": 43,
     "metadata": {},
     "output_type": "execute_result"
    }
   ],
   "source": [
    "l1"
   ]
  },
  {
   "cell_type": "code",
   "execution_count": 44,
   "id": "4c39d611",
   "metadata": {},
   "outputs": [],
   "source": [
    "#use pop method to pop off from list"
   ]
  },
  {
   "cell_type": "code",
   "execution_count": 47,
   "id": "36b9fb14",
   "metadata": {},
   "outputs": [
    {
     "data": {
      "text/plain": [
       "1"
      ]
     },
     "execution_count": 47,
     "metadata": {},
     "output_type": "execute_result"
    }
   ],
   "source": [
    "l1.pop(0)"
   ]
  },
  {
   "cell_type": "code",
   "execution_count": 48,
   "id": "57060585",
   "metadata": {},
   "outputs": [
    {
     "data": {
      "text/plain": [
       "[2, 3, 4, 5, 6, 'append me']"
      ]
     },
     "execution_count": 48,
     "metadata": {},
     "output_type": "execute_result"
    }
   ],
   "source": [
    "l1"
   ]
  },
  {
   "cell_type": "code",
   "execution_count": 50,
   "id": "45d16ce6",
   "metadata": {},
   "outputs": [],
   "source": [
    "#For remember which item yoy get pop then use this method"
   ]
  },
  {
   "cell_type": "code",
   "execution_count": 51,
   "id": "858fbca9",
   "metadata": {},
   "outputs": [],
   "source": [
    "popped_item=l1.pop(-1)"
   ]
  },
  {
   "cell_type": "code",
   "execution_count": 53,
   "id": "8b3bcf3f",
   "metadata": {},
   "outputs": [
    {
     "data": {
      "text/plain": [
       "'append me'"
      ]
     },
     "execution_count": 53,
     "metadata": {},
     "output_type": "execute_result"
    }
   ],
   "source": [
    "popped_item"
   ]
  },
  {
   "cell_type": "code",
   "execution_count": 54,
   "id": "40251f9e",
   "metadata": {},
   "outputs": [],
   "source": [
    "#we can use  sort,insert,reverse method"
   ]
  },
  {
   "cell_type": "code",
   "execution_count": 55,
   "id": "2e0eefdf",
   "metadata": {},
   "outputs": [],
   "source": [
    "l1.sort()"
   ]
  },
  {
   "cell_type": "code",
   "execution_count": 56,
   "id": "b6361115",
   "metadata": {},
   "outputs": [
    {
     "data": {
      "text/plain": [
       "[2, 3, 4, 5, 6]"
      ]
     },
     "execution_count": 56,
     "metadata": {},
     "output_type": "execute_result"
    }
   ],
   "source": [
    "l1"
   ]
  },
  {
   "cell_type": "code",
   "execution_count": 58,
   "id": "3c377acf",
   "metadata": {},
   "outputs": [],
   "source": [
    "l1.insert(4,\"saurav is great\")"
   ]
  },
  {
   "cell_type": "code",
   "execution_count": 59,
   "id": "95d47c56",
   "metadata": {},
   "outputs": [
    {
     "data": {
      "text/plain": [
       "[2, 3, 4, 5, 'saurav is great', 6]"
      ]
     },
     "execution_count": 59,
     "metadata": {},
     "output_type": "execute_result"
    }
   ],
   "source": [
    "l1"
   ]
  },
  {
   "cell_type": "code",
   "execution_count": 60,
   "id": "394a899e",
   "metadata": {},
   "outputs": [],
   "source": [
    "l1.reverse()"
   ]
  },
  {
   "cell_type": "code",
   "execution_count": 61,
   "id": "99e5c942",
   "metadata": {},
   "outputs": [
    {
     "data": {
      "text/plain": [
       "[6, 'saurav is great', 5, 4, 3, 2]"
      ]
     },
     "execution_count": 61,
     "metadata": {},
     "output_type": "execute_result"
    }
   ],
   "source": [
    "l1"
   ]
  },
  {
   "cell_type": "code",
   "execution_count": 62,
   "id": "42883c9f",
   "metadata": {},
   "outputs": [],
   "source": [
    "#NESTING LIST"
   ]
  },
  {
   "cell_type": "code",
   "execution_count": 63,
   "id": "2c2f0089",
   "metadata": {},
   "outputs": [],
   "source": [
    "list1=[1,2,3,4,5,6]\n",
    "list2=[4,5,6,1,2,3]\n",
    "list3=[7,8,9,4,5,6]"
   ]
  },
  {
   "cell_type": "code",
   "execution_count": 65,
   "id": "f10028a8",
   "metadata": {},
   "outputs": [],
   "source": [
    "matrix=[list1,list2,list3]"
   ]
  },
  {
   "cell_type": "code",
   "execution_count": 66,
   "id": "87411cb2",
   "metadata": {},
   "outputs": [
    {
     "data": {
      "text/plain": [
       "[[1, 2, 3, 4, 5, 6], [4, 5, 6, 1, 2, 3], [7, 8, 9, 4, 5, 6]]"
      ]
     },
     "execution_count": 66,
     "metadata": {},
     "output_type": "execute_result"
    }
   ],
   "source": [
    "matrix"
   ]
  },
  {
   "cell_type": "code",
   "execution_count": 67,
   "id": "27cfa4df",
   "metadata": {},
   "outputs": [
    {
     "data": {
      "text/plain": [
       "[1, 2, 3, 4, 5, 6]"
      ]
     },
     "execution_count": 67,
     "metadata": {},
     "output_type": "execute_result"
    }
   ],
   "source": [
    "matrix[0]"
   ]
  },
  {
   "cell_type": "code",
   "execution_count": 68,
   "id": "eb9a0763",
   "metadata": {},
   "outputs": [
    {
     "data": {
      "text/plain": [
       "[4, 5, 6, 1, 2, 3]"
      ]
     },
     "execution_count": 68,
     "metadata": {},
     "output_type": "execute_result"
    }
   ],
   "source": [
    "matrix[1]"
   ]
  },
  {
   "cell_type": "code",
   "execution_count": 69,
   "id": "d138ff2f",
   "metadata": {},
   "outputs": [
    {
     "data": {
      "text/plain": [
       "[7, 8, 9, 4, 5, 6]"
      ]
     },
     "execution_count": 69,
     "metadata": {},
     "output_type": "execute_result"
    }
   ],
   "source": [
    "matrix[2]"
   ]
  },
  {
   "cell_type": "code",
   "execution_count": 70,
   "id": "e5c7e8ac",
   "metadata": {},
   "outputs": [
    {
     "data": {
      "text/plain": [
       "2"
      ]
     },
     "execution_count": 70,
     "metadata": {},
     "output_type": "execute_result"
    }
   ],
   "source": [
    "matrix[0][1]"
   ]
  },
  {
   "cell_type": "code",
   "execution_count": 71,
   "id": "4c51ad49",
   "metadata": {},
   "outputs": [
    {
     "data": {
      "text/plain": [
       "3"
      ]
     },
     "execution_count": 71,
     "metadata": {},
     "output_type": "execute_result"
    }
   ],
   "source": [
    "matrix[0][2]"
   ]
  },
  {
   "cell_type": "code",
   "execution_count": 73,
   "id": "6c5d8be9",
   "metadata": {},
   "outputs": [
    {
     "data": {
      "text/plain": [
       "4"
      ]
     },
     "execution_count": 73,
     "metadata": {},
     "output_type": "execute_result"
    }
   ],
   "source": [
    "matrix[0][3]"
   ]
  },
  {
   "cell_type": "code",
   "execution_count": 74,
   "id": "b8a12bc1",
   "metadata": {},
   "outputs": [],
   "source": [
    "#list comprehension"
   ]
  },
  {
   "cell_type": "code",
   "execution_count": 82,
   "id": "2de5ae28",
   "metadata": {},
   "outputs": [],
   "source": [
    "first_col=[row[1]for row in matrix]"
   ]
  },
  {
   "cell_type": "code",
   "execution_count": 83,
   "id": "c6e1eda5",
   "metadata": {},
   "outputs": [
    {
     "data": {
      "text/plain": [
       "[2, 5, 8]"
      ]
     },
     "execution_count": 83,
     "metadata": {},
     "output_type": "execute_result"
    }
   ],
   "source": [
    "first_col"
   ]
  },
  {
   "cell_type": "code",
   "execution_count": 85,
   "id": "1402aa3c",
   "metadata": {},
   "outputs": [],
   "source": [
    "first_col=[row[-1] for row in matrix]"
   ]
  },
  {
   "cell_type": "code",
   "execution_count": 86,
   "id": "cb927099",
   "metadata": {},
   "outputs": [
    {
     "data": {
      "text/plain": [
       "[6, 3, 6]"
      ]
     },
     "execution_count": 86,
     "metadata": {},
     "output_type": "execute_result"
    }
   ],
   "source": [
    "first_col"
   ]
  },
  {
   "cell_type": "code",
   "execution_count": 88,
   "id": "72b879b1",
   "metadata": {},
   "outputs": [],
   "source": [
    "first_col=[row[3]for row in matrix]"
   ]
  },
  {
   "cell_type": "code",
   "execution_count": 89,
   "id": "0511bb62",
   "metadata": {},
   "outputs": [
    {
     "data": {
      "text/plain": [
       "[4, 1, 4]"
      ]
     },
     "execution_count": 89,
     "metadata": {},
     "output_type": "execute_result"
    }
   ],
   "source": [
    "first_col"
   ]
  },
  {
   "cell_type": "code",
   "execution_count": null,
   "id": "db7a36ba",
   "metadata": {},
   "outputs": [],
   "source": [
    "#student of Datatrained\n",
    "#Python by Shankar sir"
   ]
  }
 ],
 "metadata": {
  "kernelspec": {
   "display_name": "Python 3 (ipykernel)",
   "language": "python",
   "name": "python3"
  },
  "language_info": {
   "codemirror_mode": {
    "name": "ipython",
    "version": 3
   },
   "file_extension": ".py",
   "mimetype": "text/x-python",
   "name": "python",
   "nbconvert_exporter": "python",
   "pygments_lexer": "ipython3",
   "version": "3.9.7"
  }
 },
 "nbformat": 4,
 "nbformat_minor": 5
}
