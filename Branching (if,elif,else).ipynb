{
 "cells": [
  {
   "cell_type": "code",
   "execution_count": 1,
   "id": "e75581e2",
   "metadata": {},
   "outputs": [],
   "source": [
    "#Branching(if,elif,else)"
   ]
  },
  {
   "cell_type": "code",
   "execution_count": 2,
   "id": "b5cc92f4",
   "metadata": {},
   "outputs": [
    {
     "name": "stdout",
     "output_type": "stream",
     "text": [
      "4 is greater\n"
     ]
    }
   ],
   "source": [
    "i=4\n",
    "if i<3:\n",
    "    print(\"3 is less then 4\")\n",
    "else:\n",
    "    print('4 is greater')"
   ]
  },
  {
   "cell_type": "code",
   "execution_count": 8,
   "id": "226cba90",
   "metadata": {},
   "outputs": [
    {
     "name": "stdout",
     "output_type": "stream",
     "text": [
      "5 is greater\n"
     ]
    }
   ],
   "source": [
    "i=5\n",
    "if i<4:\n",
    "    print(\"4 is greater\")\n",
    "elif i>3:\n",
    "    print(\"5 is greater\")\n",
    "else:\n",
    "    print(\"i\")"
   ]
  },
  {
   "cell_type": "code",
   "execution_count": 9,
   "id": "b0bc09df",
   "metadata": {},
   "outputs": [],
   "source": [
    "#other way to use if,elif,else condition"
   ]
  },
  {
   "cell_type": "code",
   "execution_count": 11,
   "id": "28cb7674",
   "metadata": {},
   "outputs": [
    {
     "name": "stdout",
     "output_type": "stream",
     "text": [
      "B\n"
     ]
    }
   ],
   "source": [
    "a=330\n",
    "b=330\n",
    "print(\"A\")if a<320 else print(\"B\")"
   ]
  },
  {
   "cell_type": "code",
   "execution_count": 15,
   "id": "32569733",
   "metadata": {},
   "outputs": [
    {
     "name": "stdout",
     "output_type": "stream",
     "text": [
      "B\n"
     ]
    }
   ],
   "source": [
    "a=330\n",
    "b=330\n",
    "print(\"A\")if a<320 else print(\"B\") if a==b else print(\"C\")"
   ]
  },
  {
   "cell_type": "code",
   "execution_count": 16,
   "id": "d3dbb294",
   "metadata": {},
   "outputs": [],
   "source": [
    "#Example"
   ]
  },
  {
   "cell_type": "code",
   "execution_count": 19,
   "id": "0a3d1603",
   "metadata": {},
   "outputs": [
    {
     "name": "stdout",
     "output_type": "stream",
     "text": [
      "Both are true\n"
     ]
    }
   ],
   "source": [
    "a=1000\n",
    "b=400\n",
    "c=350\n",
    "if a>b and c<b:\n",
    "    print(\"Both are true\")"
   ]
  },
  {
   "cell_type": "code",
   "execution_count": 20,
   "id": "e18b2c66",
   "metadata": {},
   "outputs": [
    {
     "name": "stdout",
     "output_type": "stream",
     "text": [
      "atleast one conditon are true\n"
     ]
    }
   ],
   "source": [
    "a=1000\n",
    "b=400\n",
    "c=350\n",
    "if a<b or c<a:\n",
    "    print(\"atleast one conditon are true\")"
   ]
  },
  {
   "cell_type": "code",
   "execution_count": 21,
   "id": "99792922",
   "metadata": {},
   "outputs": [],
   "source": [
    "#Real Bracnching"
   ]
  },
  {
   "cell_type": "code",
   "execution_count": 22,
   "id": "696fe27b",
   "metadata": {},
   "outputs": [
    {
     "name": "stdout",
     "output_type": "stream",
     "text": [
      "x is greater\n",
      "x is greater\n"
     ]
    }
   ],
   "source": [
    "x=65\n",
    "if x>40:\n",
    "    print(\"x is greater\")\n",
    "    if x>50:\n",
    "        print('x is greater')\n",
    "    else:\n",
    "        print(\"50 is greater\")"
   ]
  },
  {
   "cell_type": "code",
   "execution_count": 23,
   "id": "d1f7580f",
   "metadata": {},
   "outputs": [],
   "source": [
    "a=33\n",
    "b=200\n",
    "if a<200:\n",
    "    pass"
   ]
  },
  {
   "cell_type": "code",
   "execution_count": 24,
   "id": "787f577f",
   "metadata": {},
   "outputs": [],
   "source": [
    "#pass means nothing. nothing means pass"
   ]
  },
  {
   "cell_type": "code",
   "execution_count": 25,
   "id": "d8c922c1",
   "metadata": {},
   "outputs": [
    {
     "name": "stdout",
     "output_type": "stream",
     "text": [
      "Thats Correct\n"
     ]
    }
   ],
   "source": [
    "i=500\n",
    "if i<250:\n",
    "    print(\"250 id greater\")\n",
    "elif i==450:\n",
    "    print(\"450=450\")\n",
    "elif i==500:\n",
    "    print(\"Thats Correct\")\n",
    "else:\n",
    "    print(\"nothing is correct\")"
   ]
  },
  {
   "cell_type": "code",
   "execution_count": null,
   "id": "56b1ac81",
   "metadata": {},
   "outputs": [],
   "source": [
    "#Student Of Datatrained\n",
    "#Codes By Shankar sir"
   ]
  }
 ],
 "metadata": {
  "kernelspec": {
   "display_name": "Python 3 (ipykernel)",
   "language": "python",
   "name": "python3"
  },
  "language_info": {
   "codemirror_mode": {
    "name": "ipython",
    "version": 3
   },
   "file_extension": ".py",
   "mimetype": "text/x-python",
   "name": "python",
   "nbconvert_exporter": "python",
   "pygments_lexer": "ipython3",
   "version": "3.9.7"
  }
 },
 "nbformat": 4,
 "nbformat_minor": 5
}
