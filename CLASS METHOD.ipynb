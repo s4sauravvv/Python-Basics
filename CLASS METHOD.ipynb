{
 "cells": [
  {
   "cell_type": "code",
   "execution_count": 1,
   "id": "e2c4b28f",
   "metadata": {},
   "outputs": [],
   "source": [
    "#object oriented programming\n",
    "\n",
    "#OOPS CONCEPTS\n",
    "\n",
    "\n",
    "#Two importent concept in object oriented programming - \n",
    "#class-(i)- properties-color,cost\n",
    "      #(ii)- behavious-make call,playing games\n",
    "    "
   ]
  },
  {
   "cell_type": "code",
   "execution_count": 3,
   "id": "ad3c1c68",
   "metadata": {},
   "outputs": [],
   "source": [
    "#creating a class\n",
    "#name of class always in capital\n",
    "#like \n",
    "#class Phone - Phona ka P hamesha capital mai hi rahgea.\n",
    "#there self in first parameter of class, which can be all times when we you class."
   ]
  },
  {
   "cell_type": "code",
   "execution_count": 4,
   "id": "4477b2c6",
   "metadata": {},
   "outputs": [],
   "source": [
    "class Phone:\n",
    "    def make_call(self):\n",
    "        print(\"making call\")\n",
    "    def play_games(self):\n",
    "        print(\"playing games\")\n",
    "    "
   ]
  },
  {
   "cell_type": "code",
   "execution_count": 9,
   "id": "354e5c57",
   "metadata": {},
   "outputs": [],
   "source": [
    "p1=Phone()"
   ]
  },
  {
   "cell_type": "code",
   "execution_count": 10,
   "id": "e8eb6688",
   "metadata": {},
   "outputs": [
    {
     "name": "stdout",
     "output_type": "stream",
     "text": [
      "making call\n"
     ]
    }
   ],
   "source": [
    "p1.make_call()"
   ]
  },
  {
   "cell_type": "code",
   "execution_count": 11,
   "id": "85e88140",
   "metadata": {},
   "outputs": [
    {
     "name": "stdout",
     "output_type": "stream",
     "text": [
      "playing games\n"
     ]
    }
   ],
   "source": [
    "p1.play_games()"
   ]
  },
  {
   "cell_type": "code",
   "execution_count": 12,
   "id": "678f2a43",
   "metadata": {},
   "outputs": [],
   "source": [
    "#adding parameter to class"
   ]
  },
  {
   "cell_type": "code",
   "execution_count": 29,
   "id": "24070673",
   "metadata": {},
   "outputs": [],
   "source": [
    "class Phone:\n",
    "    def self_color(self,color):\n",
    "        self.color=color\n",
    "    def self_cost(self,cost):\n",
    "        self.cost=cost\n",
    "    def show_color(self):\n",
    "        return self.color\n",
    "    def show_cost(self):\n",
    "        return self.cost\n",
    "    def make_call(self):\n",
    "        print(\"making call\")\n",
    "    def playing_games(self):\n",
    "        print(\"plaring games\")"
   ]
  },
  {
   "cell_type": "code",
   "execution_count": 30,
   "id": "64eecca8",
   "metadata": {},
   "outputs": [],
   "source": [
    "p2=Phone()"
   ]
  },
  {
   "cell_type": "code",
   "execution_count": 31,
   "id": "9fbc5246",
   "metadata": {},
   "outputs": [],
   "source": [
    "p2.self_cost('22')"
   ]
  },
  {
   "cell_type": "code",
   "execution_count": 32,
   "id": "facd5983",
   "metadata": {},
   "outputs": [
    {
     "data": {
      "text/plain": [
       "'22'"
      ]
     },
     "execution_count": 32,
     "metadata": {},
     "output_type": "execute_result"
    }
   ],
   "source": [
    "p2.show_cost()"
   ]
  },
  {
   "cell_type": "code",
   "execution_count": 33,
   "id": "ef4ef787",
   "metadata": {},
   "outputs": [],
   "source": [
    "p2.self_color('blue')"
   ]
  },
  {
   "cell_type": "code",
   "execution_count": 34,
   "id": "3c7094e4",
   "metadata": {},
   "outputs": [
    {
     "data": {
      "text/plain": [
       "'blue'"
      ]
     },
     "execution_count": 34,
     "metadata": {},
     "output_type": "execute_result"
    }
   ],
   "source": [
    "p2.show_color()"
   ]
  },
  {
   "cell_type": "code",
   "execution_count": 35,
   "id": "a307dbb5",
   "metadata": {},
   "outputs": [],
   "source": [
    "\n",
    "#what in constructor\n",
    "#constructor is a one type of special methon which can be assign all values when we create a code .\n",
    "#constructor use __init__ method(__init__)to define anything"
   ]
  },
  {
   "cell_type": "code",
   "execution_count": 44,
   "id": "02047c41",
   "metadata": {},
   "outputs": [],
   "source": [
    "class Employee:\n",
    "    def __init__ (self,name,age,salary,gender):\n",
    "        self.name=name\n",
    "        self.age=age\n",
    "        self.salary=salary\n",
    "        self.gender=gender\n",
    "    def employee_details(self):\n",
    "        print('name of emplyee',self.name)\n",
    "        print('age of employee', self.age)\n",
    "        print('salary of employee',self.salary)\n",
    "        print('gender of employee',self.gender)"
   ]
  },
  {
   "cell_type": "code",
   "execution_count": 45,
   "id": "41808834",
   "metadata": {},
   "outputs": [],
   "source": [
    "p3=Employee('saurav',22,10000,'M')"
   ]
  },
  {
   "cell_type": "code",
   "execution_count": 46,
   "id": "74b04ac9",
   "metadata": {},
   "outputs": [
    {
     "name": "stdout",
     "output_type": "stream",
     "text": [
      "name of emplyee saurav\n",
      "age of employee 22\n",
      "salary of employee 10000\n",
      "gender of employee M\n"
     ]
    }
   ],
   "source": [
    "p3.employee_details()"
   ]
  },
  {
   "cell_type": "code",
   "execution_count": 49,
   "id": "86ec15b1",
   "metadata": {},
   "outputs": [],
   "source": [
    "#in object oriented programiing there is very impotant concept in inheritance.\n",
    "#with inheritance we can take properties from another class.\n",
    "#super class\n",
    "#sub class\n",
    "#see exaample"
   ]
  },
  {
   "cell_type": "code",
   "execution_count": 50,
   "id": "b1711917",
   "metadata": {},
   "outputs": [],
   "source": [
    "class Vehicle:\n",
    "    def __init__(self,milege,cost):\n",
    "        self.milege=milege\n",
    "        self.cost=cost\n",
    "    def show_details(self):\n",
    "        print('i am a car',self)\n",
    "        print('milege of car',self.milege)\n",
    "        print('cost of car',self.cost)\n",
    "    "
   ]
  },
  {
   "cell_type": "code",
   "execution_count": 51,
   "id": "816ded05",
   "metadata": {},
   "outputs": [],
   "source": [
    "p4=Vehicle(50,20)"
   ]
  },
  {
   "cell_type": "code",
   "execution_count": 54,
   "id": "9a4bbc22",
   "metadata": {},
   "outputs": [
    {
     "name": "stdout",
     "output_type": "stream",
     "text": [
      "i am a car <__main__.Vehicle object at 0x000002113AB0F3A0>\n",
      "milege of car 50\n",
      "cost of car 20\n"
     ]
    }
   ],
   "source": [
    "p4.show_details()"
   ]
  },
  {
   "cell_type": "code",
   "execution_count": 55,
   "id": "1a9d9041",
   "metadata": {},
   "outputs": [],
   "source": [
    "#Child class/super class"
   ]
  },
  {
   "cell_type": "code",
   "execution_count": 73,
   "id": "21432a51",
   "metadata": {},
   "outputs": [],
   "source": [
    "class Car(Vehicle):\n",
    "    def __init__(self,milege,cost,tyre,hp):\n",
    "        super().__init__ (milege,cost)\n",
    "        self.tyre=tyre\n",
    "        self.hp=hp\n",
    "    def show_car(self):\n",
    "        print(\"i am a car\",self)\n",
    "        print(\"tyre of car is\",self.tyre)\n",
    "        print(\"hp of car is\",self.hp)"
   ]
  },
  {
   "cell_type": "code",
   "execution_count": 74,
   "id": "777b4ef7",
   "metadata": {},
   "outputs": [],
   "source": [
    "c1=Car(15,500000,'bridstone',168)"
   ]
  },
  {
   "cell_type": "code",
   "execution_count": 75,
   "id": "6cf69362",
   "metadata": {},
   "outputs": [
    {
     "name": "stdout",
     "output_type": "stream",
     "text": [
      "i am a car <__main__.Car object at 0x000002113AB0C5E0>\n",
      "tyre of car is bridstone\n",
      "hp of car is 168\n"
     ]
    }
   ],
   "source": [
    "c1.show_car()"
   ]
  },
  {
   "cell_type": "code",
   "execution_count": 76,
   "id": "0522d258",
   "metadata": {},
   "outputs": [],
   "source": [
    "#Types Of inheitance\n",
    "#1-Single inheritance\n",
    "#2-multiple inheritance\n",
    "#3-multilevel inheritance\n",
    "#4-hybrid inheritance\n",
    "#we already study about single inheritance ,  now we have to stude multi inhertitance."
   ]
  },
  {
   "cell_type": "code",
   "execution_count": 78,
   "id": "13f91690",
   "metadata": {},
   "outputs": [],
   "source": [
    "#what is multi inheritance- in multi inheritance ,the child inherits from more than one parents class.\n",
    "#lets see example"
   ]
  },
  {
   "cell_type": "code",
   "execution_count": 82,
   "id": "6f43c13c",
   "metadata": {},
   "outputs": [],
   "source": [
    "class Parents1():\n",
    "    def assing_string_one(self,str1):\n",
    "        self.str1=str1\n",
    "    def show_string_one(self):\n",
    "        return self.str1"
   ]
  },
  {
   "cell_type": "code",
   "execution_count": 92,
   "id": "d4ebf83f",
   "metadata": {},
   "outputs": [],
   "source": [
    "class Parents2():\n",
    "    def assign_string_two(self,str2):\n",
    "        self.str2=str2\n",
    "    def show_string_two(self):\n",
    "        return self.str2"
   ]
  },
  {
   "cell_type": "code",
   "execution_count": 96,
   "id": "8fb92dd4",
   "metadata": {},
   "outputs": [],
   "source": [
    "class Derived(Parents1,Parents2):\n",
    "    def assign_string_three(self,str3):\n",
    "        self.str3=str3\n",
    "    def show_string_three(self):\n",
    "        return self.str3"
   ]
  },
  {
   "cell_type": "code",
   "execution_count": 97,
   "id": "ae6c39ff",
   "metadata": {},
   "outputs": [],
   "source": [
    "d1=Derived()"
   ]
  },
  {
   "cell_type": "code",
   "execution_count": 98,
   "id": "f3697f97",
   "metadata": {},
   "outputs": [],
   "source": [
    "d1.assing_string_one('saurav')"
   ]
  },
  {
   "cell_type": "code",
   "execution_count": 99,
   "id": "c470d18b",
   "metadata": {},
   "outputs": [
    {
     "data": {
      "text/plain": [
       "'saurav'"
      ]
     },
     "execution_count": 99,
     "metadata": {},
     "output_type": "execute_result"
    }
   ],
   "source": [
    "d1.show_string_one()"
   ]
  },
  {
   "cell_type": "code",
   "execution_count": 100,
   "id": "bc915c20",
   "metadata": {},
   "outputs": [],
   "source": [
    "d1.assign_string_two(\"rohit\")"
   ]
  },
  {
   "cell_type": "code",
   "execution_count": 101,
   "id": "6d075990",
   "metadata": {},
   "outputs": [
    {
     "data": {
      "text/plain": [
       "'rohit'"
      ]
     },
     "execution_count": 101,
     "metadata": {},
     "output_type": "execute_result"
    }
   ],
   "source": [
    "d1.show_string_two()"
   ]
  },
  {
   "cell_type": "code",
   "execution_count": 102,
   "id": "0ea02c17",
   "metadata": {},
   "outputs": [],
   "source": [
    "d1.assign_string_three(\"Yashu\")"
   ]
  },
  {
   "cell_type": "code",
   "execution_count": 103,
   "id": "6e49add5",
   "metadata": {},
   "outputs": [
    {
     "data": {
      "text/plain": [
       "'Yashu'"
      ]
     },
     "execution_count": 103,
     "metadata": {},
     "output_type": "execute_result"
    }
   ],
   "source": [
    "d1.show_string_three()"
   ]
  },
  {
   "cell_type": "code",
   "execution_count": 104,
   "id": "5ed554a4",
   "metadata": {},
   "outputs": [],
   "source": [
    "# now we have to study about multilevel inheritance, we have parent class, child class and super child class.\n",
    "#now lets see how it will be work"
   ]
  },
  {
   "cell_type": "code",
   "execution_count": 105,
   "id": "74429233",
   "metadata": {},
   "outputs": [],
   "source": [
    "class Parents():\n",
    "    def assign_name(self,name):\n",
    "        self.name=name\n",
    "    def show_name(self):\n",
    "        return self. name"
   ]
  },
  {
   "cell_type": "code",
   "execution_count": 106,
   "id": "deaf1938",
   "metadata": {},
   "outputs": [],
   "source": [
    "#now we have to create child class"
   ]
  },
  {
   "cell_type": "code",
   "execution_count": 107,
   "id": "8d131be6",
   "metadata": {},
   "outputs": [],
   "source": [
    "class Child(Parents):\n",
    "    def assign_age(self,age):\n",
    "        self.age=age\n",
    "    def show_age(self):\n",
    "        return self.age"
   ]
  },
  {
   "cell_type": "code",
   "execution_count": 108,
   "id": "7b4b2119",
   "metadata": {},
   "outputs": [],
   "source": [
    "#not we hav to create super child class"
   ]
  },
  {
   "cell_type": "code",
   "execution_count": 112,
   "id": "b5ae33b7",
   "metadata": {},
   "outputs": [],
   "source": [
    "class Superchild(Child):\n",
    "    def assign_gender(self,gender):\n",
    "        self.gender=gender\n",
    "    def show_gender(self):\n",
    "        return self.gender"
   ]
  },
  {
   "cell_type": "code",
   "execution_count": 118,
   "id": "6424a361",
   "metadata": {},
   "outputs": [],
   "source": [
    "s1=Parents()"
   ]
  },
  {
   "cell_type": "code",
   "execution_count": 119,
   "id": "0c42af6a",
   "metadata": {},
   "outputs": [],
   "source": [
    "s1.assign_name(\"saurav\")"
   ]
  },
  {
   "cell_type": "code",
   "execution_count": 120,
   "id": "a97ab078",
   "metadata": {},
   "outputs": [
    {
     "data": {
      "text/plain": [
       "'saurav'"
      ]
     },
     "execution_count": 120,
     "metadata": {},
     "output_type": "execute_result"
    }
   ],
   "source": [
    "s1.show_name()"
   ]
  },
  {
   "cell_type": "code",
   "execution_count": 121,
   "id": "72c22b14",
   "metadata": {},
   "outputs": [],
   "source": [
    "s2=Superchild()"
   ]
  },
  {
   "cell_type": "code",
   "execution_count": 126,
   "id": "5a692b8f",
   "metadata": {},
   "outputs": [],
   "source": [
    "s2.assign_name(\"saurav\")\n",
    "s2.assign_age(52)\n",
    "s2.assign_gender(\"male\")"
   ]
  },
  {
   "cell_type": "code",
   "execution_count": 127,
   "id": "49ac5315",
   "metadata": {},
   "outputs": [
    {
     "data": {
      "text/plain": [
       "'male'"
      ]
     },
     "execution_count": 127,
     "metadata": {},
     "output_type": "execute_result"
    }
   ],
   "source": [
    "s2.show_gender()"
   ]
  },
  {
   "cell_type": "code",
   "execution_count": 128,
   "id": "13c69fa0",
   "metadata": {},
   "outputs": [
    {
     "data": {
      "text/plain": [
       "'saurav'"
      ]
     },
     "execution_count": 128,
     "metadata": {},
     "output_type": "execute_result"
    }
   ],
   "source": [
    "s2.show_name()"
   ]
  },
  {
   "cell_type": "code",
   "execution_count": 129,
   "id": "36474de5",
   "metadata": {},
   "outputs": [
    {
     "data": {
      "text/plain": [
       "52"
      ]
     },
     "execution_count": 129,
     "metadata": {},
     "output_type": "execute_result"
    }
   ],
   "source": [
    "s2.show_age()"
   ]
  },
  {
   "cell_type": "code",
   "execution_count": null,
   "id": "cb10b403",
   "metadata": {},
   "outputs": [],
   "source": [
    "#This is the basics of class.\n",
    "#Student from Datatrained - Saurav"
   ]
  }
 ],
 "metadata": {
  "kernelspec": {
   "display_name": "Python 3 (ipykernel)",
   "language": "python",
   "name": "python3"
  },
  "language_info": {
   "codemirror_mode": {
    "name": "ipython",
    "version": 3
   },
   "file_extension": ".py",
   "mimetype": "text/x-python",
   "name": "python",
   "nbconvert_exporter": "python",
   "pygments_lexer": "ipython3",
   "version": "3.9.7"
  }
 },
 "nbformat": 4,
 "nbformat_minor": 5
}
