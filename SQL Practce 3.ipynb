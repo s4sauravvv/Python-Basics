{
 "cells": [
  {
   "cell_type": "code",
   "execution_count": null,
   "id": "b7dab92c",
   "metadata": {},
   "outputs": [],
   "source": [
    "#SQLite Aggregate Functions and Group by [14 Exercises with Solutions]"
   ]
  },
  {
   "cell_type": "code",
   "execution_count": 1,
   "id": "38fe39c1",
   "metadata": {},
   "outputs": [],
   "source": [
    "import sqlite3"
   ]
  },
  {
   "cell_type": "code",
   "execution_count": 2,
   "id": "3a7b7d93",
   "metadata": {},
   "outputs": [],
   "source": [
    "db=sqlite3.connect(\"Employee.db\")"
   ]
  },
  {
   "cell_type": "code",
   "execution_count": 3,
   "id": "0c410fc6",
   "metadata": {},
   "outputs": [],
   "source": [
    "cursor=db.cursor()"
   ]
  },
  {
   "cell_type": "code",
   "execution_count": 4,
   "id": "706dc031",
   "metadata": {},
   "outputs": [
    {
     "data": {
      "text/plain": [
       "<sqlite3.Cursor at 0x221d04a0960>"
      ]
     },
     "execution_count": 4,
     "metadata": {},
     "output_type": "execute_result"
    }
   ],
   "source": [
    "cursor.execute(\"create table Employee4(employee_id int primary key,first_name text,last_name text,email text,phone_number text,hire_date text,C text,salary int,commission_pct text,manager_id int,department_id int)\")"
   ]
  },
  {
   "cell_type": "code",
   "execution_count": 5,
   "id": "94927184",
   "metadata": {},
   "outputs": [],
   "source": [
    "db.commit()"
   ]
  },
  {
   "cell_type": "code",
   "execution_count": 6,
   "id": "86a9247b",
   "metadata": {},
   "outputs": [
    {
     "name": "stdout",
     "output_type": "stream",
     "text": [
      "107 Record(s) Inserted\n"
     ]
    }
   ],
   "source": [
    "with open('Saurav.txt','r')as file:\n",
    "    row_count=0\n",
    "    for row in file:\n",
    "        cursor.execute(\"insert into Employee4 values(?,?,?,?,?,?,?,?,?,?,?)\",row.split(\",\"))\n",
    "        db.commit()\n",
    "        row_count+=1\n",
    "print(row_count,\"Record(s) Inserted\")\n",
    "        "
   ]
  },
  {
   "cell_type": "code",
   "execution_count": 7,
   "id": "76d3f45a",
   "metadata": {},
   "outputs": [
    {
     "name": "stdout",
     "output_type": "stream",
     "text": [
      "(100, ' Steven   ', 'King      ', 'SKING   ', '515.123.4567', '6/17/1987', 'AD_PRES   ', 24000, '    ', 100, 90)\n",
      "(101, ' Neena    ', 'Kochhar   ', 'NKOCHHAR', '515.123.4568', '6/18/1987', 'AD_VP     ', 17000, '    ', 100, 90)\n",
      "(102, ' Lex      ', 'De Haan   ', 'LDEHAAN ', '515.123.4569', '6/19/1987', 'AD_VP     ', 17000, '    ', 100, 90)\n",
      "(103, ' Alexander', 'Hunold    ', 'AHUNOLD ', '590.423.4567', '6/20/1987', 'IT_PROG   ', 9000, '    ', 102, 60)\n",
      "(104, ' Bruce    ', 'Ernst     ', 'BERNST  ', '590.423.4568', '6/21/1987', 'IT_PROG   ', 6000, '    ', 103, 60)\n",
      "(105, ' David    ', 'Austin    ', 'DAUSTIN ', '590.423.4569', '6/22/1987', 'IT_PROG   ', 4800, '    ', 103, 60)\n",
      "(106, ' Valli    ', 'Pataballa ', 'VPATABAL', '590.423.4560', '6/23/1987', 'IT_PROG   ', 4800, '    ', 103, 60)\n",
      "(107, ' Diana    ', 'Lorentz   ', 'DLORENTZ', '590.423.5567', '6/24/1987', 'IT_PROG   ', 4200, '    ', 103, 60)\n",
      "(108, ' Nancy    ', 'Greenberg ', 'NGREENBE', '515.124.4569', '6/25/1987', 'FI_MGR    ', 12000, '    ', 101, 100)\n",
      "(109, ' Daniel   ', 'Faviet    ', 'DFAVIET ', '515.124.4169', '6/26/1987', 'FI_ACCOUNT', 9000, '    ', 108, 100)\n",
      "(110, ' John     ', 'Chen      ', 'JCHEN   ', '515.124.4269', '6/27/1987', 'FI_ACCOUNT', 8200, '    ', 108, 100)\n",
      "(111, ' Ismael   ', 'Sciarra   ', 'ISCIARRA', '515.124.4369', '6/28/1987', 'FI_ACCOUNT', 7700, '    ', 108, 100)\n",
      "(112, ' Jose Manu', 'Urman     ', 'JMURMAN ', '515.124.4469', '6/29/1987', 'FI_ACCOUNT', 7800, '    ', 108, 100)\n",
      "(113, ' Luis     ', 'Popp      ', 'LPOPP   ', '515.124.4567', '6/30/1987', 'FI_ACCOUNT', 6900, '    ', 108, 100)\n",
      "(114, ' Den      ', 'Raphaely  ', 'DRAPHEAL', '515.127.4561', '7/1/1987 ', 'PU_MAN    ', 11000, '    ', 100, 30)\n",
      "(115, ' Alexander', 'Khoo      ', 'AKHOO   ', '515.127.4562', '7/2/1987 ', 'PU_CLERK  ', 3100, '    ', 114, 30)\n",
      "(116, ' Shelli   ', 'Baida     ', 'SBAIDA  ', '515.127.4563', '7/3/1987 ', 'PU_CLERK  ', 2900, '    ', 114, 30)\n",
      "(117, ' Sigal    ', 'Tobias    ', 'STOBIAS ', '515.127.4564', '7/4/1987 ', 'PU_CLERK  ', 2800, '    ', 114, 30)\n",
      "(118, ' Guy      ', 'Himuro    ', 'GHIMURO ', '515.127.4565', '7/5/1987 ', 'PU_CLERK  ', 2600, '    ', 114, 30)\n",
      "(119, ' Karen    ', 'Colmenares', 'KCOLMENA', '515.127.4566', '7/6/1987 ', 'PU_CLERK  ', 2500, '    ', 114, 30)\n",
      "(120, ' Matthew  ', 'Weiss     ', 'MWEISS  ', '650.123.1234', '7/7/1987 ', 'ST_MAN    ', 8000, '    ', 100, 50)\n",
      "(121, ' Adam     ', 'Fripp     ', 'AFRIPP  ', '650.123.2234', '7/8/1987 ', 'ST_MAN    ', 8200, '    ', 100, 50)\n",
      "(122, ' Payam    ', 'Kaufling  ', 'PKAUFLIN', '650.123.3234', '7/9/1987 ', 'ST_MAN    ', 7900, '    ', 100, 50)\n",
      "(123, ' Shanta   ', 'Vollman   ', 'SVOLLMAN', '650.123.4234', '7/10/1987', 'ST_MAN    ', 6500, '    ', 100, 50)\n",
      "(124, ' Kevin    ', 'Mourgos   ', 'KMOURGOS', '650.123.5234', '7/11/1987', 'ST_MAN    ', 5800, '    ', 100, 50)\n",
      "(125, ' Julia    ', 'Nayer     ', 'JNAYER  ', '650.124.1214', '7/12/1987', 'ST_CLERK  ', 3200, '    ', 120, 50)\n",
      "(126, ' Irene    ', 'Mikkilinen', 'IMIKKILI', '650.124.1224', '7/13/1987', 'ST_CLERK  ', 2700, '    ', 120, 50)\n",
      "(127, ' James    ', 'Landry    ', 'JLANDRY ', '650.124.1334', '7/14/1987', 'ST_CLERK  ', 2400, '    ', 120, 50)\n",
      "(128, ' Steven   ', 'Markle    ', 'SMARKLE ', '650.124.1434', '7/15/1987', 'ST_CLERK  ', 2200, '    ', 120, 50)\n",
      "(129, ' Laura    ', 'Bissot    ', 'LBISSOT ', '650.124.5234', '7/16/1987', 'ST_CLERK  ', 3300, '    ', 121, 50)\n",
      "(130, ' Mozhe    ', 'Atkinson  ', 'MATKINSO', '650.124.6234', '7/17/1987', 'ST_CLERK  ', 2800, '    ', 121, 50)\n",
      "(131, ' James    ', 'Marlow    ', 'JAMRLOW ', '650.124.7234', '7/18/1987', 'ST_CLERK  ', 2500, '    ', 121, 50)\n",
      "(132, ' TJ       ', 'Olson     ', 'TJOLSON ', '650.124.8234', '7/19/1987', 'ST_CLERK  ', 2100, '    ', 121, 50)\n",
      "(133, ' Jason    ', 'Mallin    ', 'JMALLIN ', '650.127.1934', '7/20/1987', 'ST_CLERK  ', 3300, '    ', 122, 50)\n",
      "(134, ' Michael  ', 'Rogers    ', 'MROGERS ', '650.127.1834', '7/21/1987', 'ST_CLERK  ', 2900, '    ', 122, 50)\n",
      "(135, ' Ki       ', 'Gee       ', 'KGEE    ', '650.127.1734', '7/22/1987', 'ST_CLERK  ', 2400, '    ', 122, 50)\n",
      "(136, ' Hazel    ', 'Philtanker', 'HPHILTAN', '650.127.1634', '7/23/1987', 'ST_CLERK  ', 2200, '    ', 122, 50)\n",
      "(137, ' Renske   ', 'Ladwig    ', 'RLADWIG ', '650.121.1234', '7/24/1987', 'ST_CLERK  ', 3600, '    ', 123, 50)\n",
      "(138, ' Stephen  ', 'Stiles    ', 'SSTILES ', '650.121.2034', '7/25/1987', 'ST_CLERK  ', 3200, '    ', 123, 50)\n",
      "(139, ' John     ', 'Seo       ', 'JSEO    ', '650.121.2019', '7/26/1987', 'ST_CLERK  ', 2700, '    ', 123, 50)\n",
      "(140, ' Joshua   ', 'Patel     ', 'JPATEL  ', '650.121.1834', '7/27/1987', 'ST_CLERK  ', 2500, '    ', 123, 50)\n",
      "(141, ' Trenna   ', 'Rajs      ', 'TRAJS   ', '650.121.8009', '7/28/1987', 'ST_CLERK  ', 3500, '    ', 124, 50)\n",
      "(142, ' Curtis   ', 'Davies    ', 'CDAVIES ', '650.121.2994', '7/29/1987', 'ST_CLERK  ', 3100, '    ', 124, 50)\n",
      "(143, ' Randall  ', 'Matos     ', 'RMATOS  ', '650.121.2874', '7/30/1987', 'ST_CLERK  ', 2600, '    ', 124, 50)\n",
      "(144, ' Peter    ', 'Vargas    ', 'PVARGAS ', '650.121.2004', '7/31/1987', 'ST_CLERK  ', 2500, '    ', 124, 50)\n",
      "(145, ' John     ', 'Russell   ', 'JRUSSEL ', '011.44.1344.', '8/1/1987 ', 'SA_MAN    ', 14000, '0.4 ', 100, 80)\n",
      "(146, ' Karen    ', 'Partners  ', 'KPARTNER', '011.44.1344.', '8/2/1987 ', 'SA_MAN    ', 13500, '0.3 ', 100, 80)\n",
      "(147, ' Alberto  ', 'Errazuriz ', 'AERRAZUR', '011.44.1344.', '8/3/1987 ', 'SA_MAN    ', 12000, '0.3 ', 100, 80)\n",
      "(148, ' Gerald   ', 'Cambrault ', 'GCAMBRAU', '011.44.1344.', '8/4/1987 ', 'SA_MAN    ', 11000, '0.3 ', 100, 80)\n",
      "(149, ' Eleni    ', 'Zlotkey   ', 'EZLOTKEY', '011.44.1344.', '8/5/1987 ', 'SA_MAN    ', 10500, '0.2 ', 100, 80)\n",
      "(150, ' Peter    ', 'Tucker    ', 'PTUCKER ', '011.44.1344.', '8/6/1987 ', 'SA_REP    ', 10000, '0.3 ', 145, 80)\n",
      "(151, ' David    ', 'Bernstein ', 'DBERNSTE', '011.44.1344.', '8/7/1987 ', 'SA_REP    ', 9500, '0.25', 145, 80)\n",
      "(152, ' Peter    ', 'Hall      ', 'PHALL   ', '011.44.1344.', '8/8/1987 ', 'SA_REP    ', 9000, '0.25', 145, 80)\n",
      "(153, ' Christoph', 'Olsen     ', 'COLSEN  ', '011.44.1344.', '8/9/1987 ', 'SA_REP    ', 8000, '0.2 ', 145, 80)\n",
      "(154, ' Nanette  ', 'Cambrault ', 'NCAMBRAU', '011.44.1344.', '8/10/1987', 'SA_REP    ', 7500, '0.2 ', 145, 80)\n",
      "(155, ' Oliver   ', 'Tuvault   ', 'OTUVAULT', '011.44.1344.', '8/11/1987', 'SA_REP    ', 7000, '0.15', 145, 80)\n",
      "(156, ' Janette  ', 'King      ', 'JKING   ', '011.44.1345.', '8/12/1987', 'SA_REP    ', 10000, '0.35', 146, 80)\n",
      "(157, ' Patrick  ', 'Sully     ', 'PSULLY  ', '011.44.1345.', '8/13/1987', 'SA_REP    ', 9500, '0.35', 146, 80)\n",
      "(158, ' Allan    ', 'McEwen    ', 'AMCEWEN ', '011.44.1345.', '8/14/1987', 'SA_REP    ', 9000, '0.35', 146, 80)\n",
      "(159, ' Lindsey  ', 'Smith     ', 'LSMITH  ', '011.44.1345.', '8/15/1987', 'SA_REP    ', 8000, '0.3 ', 146, 80)\n",
      "(160, ' Louise   ', 'Doran     ', 'LDORAN  ', '011.44.1345.', '8/16/1987', 'SA_REP    ', 7500, '0.3 ', 146, 80)\n",
      "(161, ' Sarath   ', 'Sewall    ', 'SSEWALL ', '011.44.1345.', '8/17/1987', 'SA_REP    ', 7000, '0.25', 146, 80)\n",
      "(162, ' Clara    ', 'Vishney   ', 'CVISHNEY', '011.44.1346.', '8/18/1987', 'SA_REP    ', 10500, '0.25', 147, 80)\n",
      "(163, ' Danielle ', 'Greene    ', 'DGREENE ', '011.44.1346.', '8/19/1987', 'SA_REP    ', 9500, '0.15', 147, 80)\n",
      "(164, ' Mattea   ', 'Marvins   ', 'MMARVINS', '011.44.1346.', '8/20/1987', 'SA_REP    ', 7200, '0.1 ', 147, 80)\n",
      "(165, ' David    ', 'Lee       ', 'DLEE    ', '011.44.1346.', '8/21/1987', 'SA_REP    ', 6800, '0.1 ', 147, 80)\n",
      "(166, ' Sundar   ', 'Ande      ', 'SANDE   ', '011.44.1346.', '8/22/1987', 'SA_REP    ', 6400, '0.1 ', 147, 80)\n",
      "(167, ' Amit     ', 'Banda     ', 'ABANDA  ', '011.44.1346.', '8/23/1987', 'SA_REP    ', 6200, '0.1 ', 147, 80)\n",
      "(168, ' Lisa     ', 'Ozer      ', 'LOZER   ', '011.44.1343.', '8/24/1987', 'SA_REP    ', 11500, '0.25', 148, 80)\n",
      "(169, ' Harrison ', 'Bloom     ', 'HBLOOM  ', '011.44.1343.', '8/25/1987', 'SA_REP    ', 10000, '0.2 ', 148, 80)\n",
      "(170, ' Tayler   ', 'Fox       ', 'TFOX    ', '011.44.1343.', '8/26/1987', 'SA_REP    ', 9600, '0.2 ', 148, 80)\n",
      "(171, ' William  ', 'Smith     ', 'WSMITH  ', '011.44.1343.', '8/27/1987', 'SA_REP    ', 7400, '0.15', 148, 80)\n",
      "(172, ' Elizabeth', 'Bates     ', 'EBATES  ', '011.44.1343.', '8/28/1987', 'SA_REP    ', 7300, '0.15', 148, 80)\n",
      "(173, ' Sundita  ', 'Kumar     ', 'SKUMAR  ', '011.44.1343.', '8/29/1987', 'SA_REP    ', 6100, '0.1 ', 148, 80)\n",
      "(174, ' Ellen    ', 'Abel      ', 'EABEL   ', '011.44.1644.', '8/30/1987', 'SA_REP    ', 11000, '0.3 ', 149, 80)\n",
      "(175, ' Alyssa   ', 'Hutton    ', 'AHUTTON ', '011.44.1644.', '8/31/1987', 'SA_REP    ', 8800, '0.25', 149, 80)\n",
      "(176, ' Jonathon ', 'Taylor    ', 'JTAYLOR ', '011.44.1644.', '9/1/1987 ', 'SA_REP    ', 8600, '0.2 ', 149, 80)\n",
      "(177, ' Jack     ', 'Livingston', 'JLIVINGS', '011.44.1644.', '9/2/1987 ', 'SA_REP    ', 8400, '0.2 ', 149, 80)\n",
      "(178, ' Kimberely', 'Grant     ', 'KGRANT  ', '011.44.1644.', '9/3/1987 ', 'SA_REP    ', 7000, '0.15', 149, 80)\n",
      "(179, ' harles   ', 'Johnson   ', 'CJOHNSON', '011.44.1644.', '9/4/1987 ', 'SA_REP    ', 6200, '0.1 ', 149, 80)\n",
      "(180, ' Winston  ', 'Taylor    ', 'WTAYLOR ', '650.507.9876', '9/5/1987 ', 'SH_CLERK  ', 3200, '    ', 120, 50)\n",
      "(181, ' Jean     ', 'Fleaur    ', 'JFLEAUR ', '650.507.9877', '9/6/1987 ', 'SH_CLERK  ', 3100, '    ', 120, 50)\n",
      "(182, ' Martha   ', 'Sullivan  ', 'MSULLIVA', '650.507.9878', '9/7/1987 ', 'SH_CLERK  ', 2500, '    ', 120, 50)\n",
      "(183, ' Girard   ', 'Geoni     ', 'GGEONI  ', '650.507.9879', '9/8/1987 ', 'SH_CLERK  ', 2800, '    ', 120, 50)\n",
      "(184, ' Nandita  ', 'Sarchand  ', 'NSARCHAN', '650.509.1876', '9/9/1987 ', 'SH_CLERK  ', 4200, '    ', 121, 50)\n",
      "(185, ' Alexis   ', 'Bull      ', 'ABULL   ', '650.509.2876', '9/10/1987', 'SH_CLERK  ', 4100, '    ', 121, 50)\n",
      "(186, ' Julia    ', 'Dellinger ', 'JDELLING', '650.509.3876', '9/11/1987', 'SH_CLERK  ', 3400, '    ', 121, 50)\n",
      "(187, ' Anthony  ', 'Cabrio    ', 'ACABRIO ', '650.509.4876', '9/12/1987', 'SH_CLERK  ', 3000, '    ', 121, 50)\n",
      "(188, ' Kelly    ', 'Chung     ', 'KCHUNG  ', '650.505.1876', '9/13/1987', 'SH_CLERK  ', 3800, '    ', 122, 50)\n",
      "(189, ' Jennifer ', 'Dilly     ', 'JDILLY  ', '650.505.2876', '9/14/1987', 'SH_CLERK  ', 3600, '    ', 122, 50)\n",
      "(190, ' Timothy  ', 'Gates     ', 'TGATES  ', '650.505.3876', '9/15/1987', 'SH_CLERK  ', 2900, '    ', 122, 50)\n",
      "(191, ' Randall  ', 'Perkins   ', 'RPERKINS', '650.505.4876', '9/16/1987', 'SH_CLERK  ', 2500, '    ', 122, 50)\n",
      "(192, ' Sarah    ', 'Bell      ', 'SBELL   ', '650.501.1876', '9/17/1987', 'SH_CLERK  ', 4000, '    ', 123, 50)\n",
      "(193, ' Britney  ', 'Everett   ', 'BEVERETT', '650.501.2876', '9/18/1987', 'SH_CLERK  ', 3900, '    ', 123, 50)\n",
      "(194, ' Samuel   ', 'McCain    ', 'SMCCAIN ', '650.501.3876', '9/19/1987', 'SH_CLERK  ', 3200, '    ', 123, 50)\n",
      "(195, ' Vance    ', 'Jones     ', 'VJONES  ', '650.501.4876', '9/20/1987', 'SH_CLERK  ', 2800, '    ', 123, 50)\n",
      "(196, ' Alana    ', 'Walsh     ', 'AWALSH  ', '650.507.9811', '9/21/1987', 'SH_CLERK  ', 3100, '    ', 124, 50)\n",
      "(197, ' Kevin    ', 'Feeney    ', 'KFEENEY ', '650.507.9822', '9/22/1987', 'SH_CLERK  ', 3000, '    ', 124, 50)\n",
      "(198, ' Donald   ', 'OConnell  ', 'DOCONNEL', '650.507.9833', '9/23/1987', 'SH_CLERK  ', 2600, '    ', 124, 50)\n",
      "(199, ' Douglas  ', 'Grant     ', 'DGRANT  ', '650.507.9844', '9/24/1987', 'SH_CLERK  ', 2600, '    ', 124, 50)\n",
      "(200, ' Jennifer ', 'Whalen    ', 'JWHALEN ', '515.123.4444', '9/25/1987', 'AD_ASST   ', 4400, '    ', 101, 10)\n",
      "(201, ' Michael  ', 'Hartstein ', 'MHARTSTE', '515.123.5555', '9/26/1987', 'MK_MAN    ', 13000, '    ', 100, 20)\n",
      "(202, ' Pat      ', 'Fay       ', 'PFAY    ', '603.123.6666', '9/27/1987', 'MK_REP    ', 6000, '    ', 201, 20)\n",
      "(203, ' Susan    ', 'Mavris    ', 'SMAVRIS ', '515.123.7777', '9/28/1987', 'HR_REP    ', 6500, '    ', 101, 40)\n",
      "(204, ' Hermann  ', 'Baer      ', 'HBAER   ', '515.123.8888', '9/29/1987', 'PR_REP    ', 10000, '    ', 101, 70)\n",
      "(205, ' Shelley  ', 'Higgins   ', 'SHIGGINS', '515.123.8080', '9/30/1987', 'AC_MGR    ', 12000, '    ', 101, 110)\n",
      "(206, ' William  ', 'Gietz     ', 'WGIETZ  ', '515.123.8181', '10/1/1987', 'AC_ACCOUNT', 8300, '    ', 205, 110)\n"
     ]
    }
   ],
   "source": [
    "result=cursor.execute(\"select * from Employee2\")\n",
    "for row in result:\n",
    "    print(row)"
   ]
  },
  {
   "cell_type": "code",
   "execution_count": 8,
   "id": "fc662ea7",
   "metadata": {},
   "outputs": [],
   "source": [
    "#1. Write a query to list the number of jobs available in the employees table."
   ]
  },
  {
   "cell_type": "code",
   "execution_count": 10,
   "id": "74f2b227",
   "metadata": {},
   "outputs": [
    {
     "name": "stdout",
     "output_type": "stream",
     "text": [
      "('AD_PRES   ',)\n",
      "('AD_VP     ',)\n",
      "('IT_PROG   ',)\n",
      "('FI_MGR    ',)\n",
      "('FI_ACCOUNT',)\n",
      "('PU_MAN    ',)\n",
      "('PU_CLERK  ',)\n",
      "('ST_MAN    ',)\n",
      "('ST_CLERK  ',)\n",
      "('SA_MAN    ',)\n",
      "('SA_REP    ',)\n",
      "('SH_CLERK  ',)\n",
      "('AD_ASST   ',)\n",
      "('MK_MAN    ',)\n",
      "('MK_REP    ',)\n",
      "('HR_REP    ',)\n",
      "('PR_REP    ',)\n",
      "('AC_MGR    ',)\n",
      "('AC_ACCOUNT',)\n"
     ]
    }
   ],
   "source": [
    "sql=\"select distinct(job_id) from Employee4\"\n",
    "result=cursor.execute(sql)\n",
    "for row in result:\n",
    "    print(row)"
   ]
  },
  {
   "cell_type": "code",
   "execution_count": 11,
   "id": "85e5b711",
   "metadata": {},
   "outputs": [],
   "source": [
    "#2. Write a query to get the total salaries payable to employees"
   ]
  },
  {
   "cell_type": "code",
   "execution_count": 15,
   "id": "c91f90f7",
   "metadata": {},
   "outputs": [
    {
     "name": "stdout",
     "output_type": "stream",
     "text": [
      "(691400,)\n"
     ]
    }
   ],
   "source": [
    "sql=\"select sum(salary) from Employee4\"\n",
    "result=cursor.execute(sql)\n",
    "for row in result:\n",
    "    print(row)"
   ]
  },
  {
   "cell_type": "code",
   "execution_count": 14,
   "id": "576fde40",
   "metadata": {},
   "outputs": [],
   "source": [
    "#3. Write a query to get the minimum salary from employees table"
   ]
  },
  {
   "cell_type": "code",
   "execution_count": 17,
   "id": "a10e2587",
   "metadata": {},
   "outputs": [
    {
     "name": "stdout",
     "output_type": "stream",
     "text": [
      "(2100,)\n"
     ]
    }
   ],
   "source": [
    "sql=\"select min(salary) from Employee4\"\n",
    "result=cursor.execute(sql)\n",
    "for row in result:\n",
    "    print(row)"
   ]
  },
  {
   "cell_type": "code",
   "execution_count": 18,
   "id": "8ba78d5d",
   "metadata": {},
   "outputs": [],
   "source": [
    "#4. Write a query to get the maximum salary of an employee working as a Programmer."
   ]
  },
  {
   "cell_type": "code",
   "execution_count": 19,
   "id": "230f7c2f",
   "metadata": {},
   "outputs": [
    {
     "name": "stdout",
     "output_type": "stream",
     "text": [
      "(9000,)\n"
     ]
    }
   ],
   "source": [
    "sql=\"select max(salary) from Employee4 where job_id='IT_PROG   '\"\n",
    "result=cursor.execute(sql)\n",
    "for row in result:\n",
    "    print(row)"
   ]
  },
  {
   "cell_type": "code",
   "execution_count": 20,
   "id": "105c3188",
   "metadata": {},
   "outputs": [],
   "source": [
    "#5. Write a query to get the average salary and number of employees working the department 90"
   ]
  },
  {
   "cell_type": "code",
   "execution_count": 23,
   "id": "31dffcfb",
   "metadata": {},
   "outputs": [
    {
     "name": "stdout",
     "output_type": "stream",
     "text": [
      "(19333.333333333332, 3)\n"
     ]
    }
   ],
   "source": [
    "sql=\"select avg(salary),count(*) from Employee4 where department_id=90 \"\n",
    "result=cursor.execute(sql)\n",
    "for row in result:\n",
    "    print(row)"
   ]
  },
  {
   "cell_type": "code",
   "execution_count": 24,
   "id": "78734a99",
   "metadata": {},
   "outputs": [],
   "source": [
    "#6. Write a query to get the highest, lowest, sum, and average salary of all employees."
   ]
  },
  {
   "cell_type": "code",
   "execution_count": 25,
   "id": "8d3cf5e5",
   "metadata": {},
   "outputs": [
    {
     "name": "stdout",
     "output_type": "stream",
     "text": [
      "(24000, 2100, 6461.682242990654)\n"
     ]
    }
   ],
   "source": [
    "sql=\"select max(salary),min(salary),avg(salary) from Employee4\"\n",
    "result=cursor.execute(sql)\n",
    "for row in result:\n",
    "    print(row)"
   ]
  },
  {
   "cell_type": "code",
   "execution_count": 26,
   "id": "73ee1216",
   "metadata": {},
   "outputs": [],
   "source": [
    "#7. Write a query to get the number of employees with the same job."
   ]
  },
  {
   "cell_type": "code",
   "execution_count": 28,
   "id": "f8a321f2",
   "metadata": {},
   "outputs": [
    {
     "name": "stdout",
     "output_type": "stream",
     "text": [
      "('AC_ACCOUNT', 1)\n",
      "('AC_MGR    ', 1)\n",
      "('AD_ASST   ', 1)\n",
      "('AD_PRES   ', 1)\n",
      "('AD_VP     ', 2)\n",
      "('FI_ACCOUNT', 5)\n",
      "('FI_MGR    ', 1)\n",
      "('HR_REP    ', 1)\n",
      "('IT_PROG   ', 5)\n",
      "('MK_MAN    ', 1)\n",
      "('MK_REP    ', 1)\n",
      "('PR_REP    ', 1)\n",
      "('PU_CLERK  ', 5)\n",
      "('PU_MAN    ', 1)\n",
      "('SA_MAN    ', 5)\n",
      "('SA_REP    ', 30)\n",
      "('SH_CLERK  ', 20)\n",
      "('ST_CLERK  ', 20)\n",
      "('ST_MAN    ', 5)\n"
     ]
    }
   ],
   "source": [
    "sql=\"select job_id,count(*) from Employee4 group by(job_id)\"\n",
    "result=cursor.execute(sql)\n",
    "for row in result:\n",
    "    print(row)"
   ]
  },
  {
   "cell_type": "code",
   "execution_count": 29,
   "id": "eb8b3d80",
   "metadata": {},
   "outputs": [],
   "source": [
    "#8. Write a query to get the difference between the highest and lowest salaries"
   ]
  },
  {
   "cell_type": "code",
   "execution_count": 40,
   "id": "fa5b67c2",
   "metadata": {},
   "outputs": [
    {
     "name": "stdout",
     "output_type": "stream",
     "text": [
      "(21900,)\n"
     ]
    }
   ],
   "source": [
    "sql='select max(salary)-min(salary) difference from Employee4'\n",
    "result=cursor.execute(sql)\n",
    "for row in result:\n",
    "    print(row)"
   ]
  },
  {
   "cell_type": "code",
   "execution_count": 41,
   "id": "86f0f2f1",
   "metadata": {},
   "outputs": [],
   "source": [
    "#9. Write a query to find the manager ID and the salary of the lowest-paid employee for that manager."
   ]
  },
  {
   "cell_type": "code",
   "execution_count": 42,
   "id": "92054897",
   "metadata": {},
   "outputs": [
    {
     "name": "stdout",
     "output_type": "stream",
     "text": [
      "(102, 9000)\n",
      "(205, 8300)\n",
      "(146, 7000)\n",
      "(145, 7000)\n",
      "(108, 6900)\n",
      "(149, 6200)\n",
      "(147, 6200)\n",
      "(148, 6100)\n",
      "(201, 6000)\n",
      "(100, 5800)\n",
      "(101, 4400)\n",
      "(103, 4200)\n",
      "(124, 2500)\n",
      "(123, 2500)\n",
      "(114, 2500)\n",
      "(122, 2200)\n",
      "(120, 2200)\n",
      "(121, 2100)\n"
     ]
    }
   ],
   "source": [
    "sql=\"select manager_id,min(salary) from Employee4 WHERE manager_id IS NOT NULL GROUP BY manager_id ORDER BY MIN(salary) DESC\"\n",
    "result=cursor.execute(sql)\n",
    "for row in result:\n",
    "    print(row)\n"
   ]
  },
  {
   "cell_type": "code",
   "execution_count": 43,
   "id": "9919f24a",
   "metadata": {},
   "outputs": [],
   "source": [
    "# 10. Write a query to get the department ID and the total salary payable in each department."
   ]
  },
  {
   "cell_type": "code",
   "execution_count": 44,
   "id": "a72c0876",
   "metadata": {},
   "outputs": [
    {
     "name": "stdout",
     "output_type": "stream",
     "text": [
      "(10, 4400)\n",
      "(20, 19000)\n",
      "(30, 24900)\n",
      "(40, 6500)\n",
      "(50, 156400)\n",
      "(60, 28800)\n",
      "(70, 10000)\n",
      "(80, 311500)\n",
      "(90, 58000)\n",
      "(100, 51600)\n",
      "(110, 20300)\n"
     ]
    }
   ],
   "source": [
    "sql=\"select department_id,sum(salary) from Employee4 group by department_id\"\n",
    "result=cursor.execute(sql)\n",
    "for row in result:\n",
    "    print(row)"
   ]
  },
  {
   "cell_type": "code",
   "execution_count": 46,
   "id": "bd756d9a",
   "metadata": {},
   "outputs": [],
   "source": [
    "#11. Write a query to get the average salary for each job ID excluding programmer"
   ]
  },
  {
   "cell_type": "code",
   "execution_count": 47,
   "id": "6fed08a4",
   "metadata": {},
   "outputs": [
    {
     "name": "stdout",
     "output_type": "stream",
     "text": [
      "('AC_ACCOUNT', 8300.0)\n",
      "('AC_MGR    ', 12000.0)\n",
      "('AD_ASST   ', 4400.0)\n",
      "('AD_PRES   ', 24000.0)\n",
      "('AD_VP     ', 17000.0)\n",
      "('FI_ACCOUNT', 7920.0)\n",
      "('FI_MGR    ', 12000.0)\n",
      "('HR_REP    ', 6500.0)\n",
      "('MK_MAN    ', 13000.0)\n",
      "('MK_REP    ', 6000.0)\n",
      "('PR_REP    ', 10000.0)\n",
      "('PU_CLERK  ', 2780.0)\n",
      "('PU_MAN    ', 11000.0)\n",
      "('SA_MAN    ', 12200.0)\n",
      "('SA_REP    ', 8350.0)\n",
      "('SH_CLERK  ', 3215.0)\n",
      "('ST_CLERK  ', 2785.0)\n",
      "('ST_MAN    ', 7280.0)\n"
     ]
    }
   ],
   "source": [
    "sql=\"select job_id,avg(salary) from Employee4 where job_id <>'IT_PROG   ' group by job_id\"\n",
    "result=cursor.execute(sql)\n",
    "for row in result:\n",
    "    print(row)"
   ]
  },
  {
   "cell_type": "code",
   "execution_count": 48,
   "id": "11b2a7e3",
   "metadata": {},
   "outputs": [
    {
     "ename": "SyntaxError",
     "evalue": "invalid syntax (1940167275.py, line 1)",
     "output_type": "error",
     "traceback": [
      "\u001b[1;36m  Input \u001b[1;32mIn [48]\u001b[1;36m\u001b[0m\n\u001b[1;33m    312. Write a query to get the total salary, maximum, minimum, average salary of employees (job ID wise), for department ID 90 only\u001b[0m\n\u001b[1;37m         ^\u001b[0m\n\u001b[1;31mSyntaxError\u001b[0m\u001b[1;31m:\u001b[0m invalid syntax\n"
     ]
    }
   ],
   "source": [
    "#12. Write a query to get the total salary, maximum, minimum, average salary of employees (job ID wise), for department ID 90 only"
   ]
  },
  {
   "cell_type": "code",
   "execution_count": 50,
   "id": "f095cdc1",
   "metadata": {},
   "outputs": [
    {
     "name": "stdout",
     "output_type": "stream",
     "text": [
      "('AD_PRES   ', 24000, 24000, 24000.0)\n",
      "('AD_VP     ', 34000, 17000, 17000.0)\n"
     ]
    }
   ],
   "source": [
    "sql=\"select job_id,sum(salary),min(salary),avg(salary) from Employee4  where department_id=90 group by job_id\"\n",
    "result=cursor.execute(sql)\n",
    "for row in result:\n",
    "    print(row)"
   ]
  },
  {
   "cell_type": "code",
   "execution_count": 51,
   "id": "14fc866e",
   "metadata": {},
   "outputs": [],
   "source": [
    "#13. Write a query to get the job ID and maximum salary of the employees where maximum salary is greater than or equal to $4000"
   ]
  },
  {
   "cell_type": "code",
   "execution_count": 57,
   "id": "519d6455",
   "metadata": {},
   "outputs": [
    {
     "name": "stdout",
     "output_type": "stream",
     "text": [
      "('AC_ACCOUNT', 8300)\n",
      "('AC_MGR    ', 12000)\n",
      "('AD_ASST   ', 4400)\n",
      "('AD_PRES   ', 24000)\n",
      "('AD_VP     ', 17000)\n",
      "('FI_ACCOUNT', 9000)\n",
      "('FI_MGR    ', 12000)\n",
      "('HR_REP    ', 6500)\n",
      "('IT_PROG   ', 9000)\n",
      "('MK_MAN    ', 13000)\n",
      "('MK_REP    ', 6000)\n",
      "('PR_REP    ', 10000)\n",
      "('PU_MAN    ', 11000)\n",
      "('SA_MAN    ', 14000)\n",
      "('SA_REP    ', 11500)\n",
      "('SH_CLERK  ', 4200)\n",
      "('ST_MAN    ', 8200)\n"
     ]
    }
   ],
   "source": [
    "sql=\"select job_id,max(salary) from Employee4 group by job_id having max(salary)>=4000\"\n",
    "result=cursor.execute(sql)\n",
    "for row in result:\n",
    "    print(row)"
   ]
  },
  {
   "cell_type": "code",
   "execution_count": 58,
   "id": "a2859f4e",
   "metadata": {},
   "outputs": [],
   "source": [
    "#14. Write a query to get the average salary for all departments employing more than 10 employees."
   ]
  },
  {
   "cell_type": "code",
   "execution_count": 60,
   "id": "a31a112b",
   "metadata": {},
   "outputs": [
    {
     "name": "stdout",
     "output_type": "stream",
     "text": [
      "(3475.5555555555557, 45)\n",
      "(8900.0, 35)\n"
     ]
    }
   ],
   "source": [
    "sql=\"select avg(salary),count(*) from Employee4 group by department_id having count(*)>10\"\n",
    "result=cursor.execute(sql)\n",
    "for row in result:\n",
    "    print(row)"
   ]
  },
  {
   "cell_type": "code",
   "execution_count": null,
   "id": "57e50fca",
   "metadata": {},
   "outputs": [],
   "source": [
    "#Student of DataScience\n",
    "#Student of DataTrained-Saurav\n",
    "#Date-14-july-2022\n",
    "#Time-21:43\n"
   ]
  }
 ],
 "metadata": {
  "kernelspec": {
   "display_name": "Python 3 (ipykernel)",
   "language": "python",
   "name": "python3"
  },
  "language_info": {
   "codemirror_mode": {
    "name": "ipython",
    "version": 3
   },
   "file_extension": ".py",
   "mimetype": "text/x-python",
   "name": "python",
   "nbconvert_exporter": "python",
   "pygments_lexer": "ipython3",
   "version": "3.9.12"
  }
 },
 "nbformat": 4,
 "nbformat_minor": 5
}
