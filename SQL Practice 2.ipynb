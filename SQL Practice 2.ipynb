{
 "cells": [
  {
   "cell_type": "code",
   "execution_count": null,
   "id": "126f4fa6",
   "metadata": {},
   "outputs": [],
   "source": [
    "#SQLite Restricting and Sorting Data - Exercises, Practice, Solution"
   ]
  },
  {
   "cell_type": "code",
   "execution_count": 1,
   "id": "d70c70fb",
   "metadata": {},
   "outputs": [],
   "source": [
    "import sqlite3"
   ]
  },
  {
   "cell_type": "code",
   "execution_count": 9,
   "id": "28c80449",
   "metadata": {},
   "outputs": [],
   "source": [
    "db=sqlite3.connect(\"Employee.db\")"
   ]
  },
  {
   "cell_type": "code",
   "execution_count": 10,
   "id": "940910b9",
   "metadata": {},
   "outputs": [],
   "source": [
    "cursor=db.cursor()"
   ]
  },
  {
   "cell_type": "code",
   "execution_count": 15,
   "id": "40a6594b",
   "metadata": {},
   "outputs": [
    {
     "data": {
      "text/plain": [
       "<sqlite3.Cursor at 0x2c0a16416c0>"
      ]
     },
     "execution_count": 15,
     "metadata": {},
     "output_type": "execute_result"
    }
   ],
   "source": [
    "cursor.execute(\"create table Employee2(employee_id int primary key,first_name text,last_name text,email text,phone_number text,hire_date text,job_id text,salary int,commission_pct text,manager_id int,department_id int)\")"
   ]
  },
  {
   "cell_type": "code",
   "execution_count": 16,
   "id": "177d6a1c",
   "metadata": {},
   "outputs": [],
   "source": [
    "db.commit()"
   ]
  },
  {
   "cell_type": "code",
   "execution_count": 18,
   "id": "55b3a66f",
   "metadata": {},
   "outputs": [
    {
     "name": "stdout",
     "output_type": "stream",
     "text": [
      "107 Record(s) Inserted\n"
     ]
    }
   ],
   "source": [
    "with open('Saurav.txt','r')as file:\n",
    "    row_count=0\n",
    "    for row in file:\n",
    "        cursor.execute(\"insert into Employee2 values(?,?,?,?,?,?,?,?,?,?,?)\",row.split(\",\"))\n",
    "        db.commit()\n",
    "        row_count+=1\n",
    "print(row_count,\"Record(s) Inserted\")\n",
    "        "
   ]
  },
  {
   "cell_type": "code",
   "execution_count": 19,
   "id": "11a4d4d4",
   "metadata": {},
   "outputs": [
    {
     "name": "stdout",
     "output_type": "stream",
     "text": [
      "(100, ' Steven   ', 'King      ', 'SKING   ', '515.123.4567', '6/17/1987', 'AD_PRES   ', 24000, '    ', 100, 90)\n",
      "(101, ' Neena    ', 'Kochhar   ', 'NKOCHHAR', '515.123.4568', '6/18/1987', 'AD_VP     ', 17000, '    ', 100, 90)\n",
      "(102, ' Lex      ', 'De Haan   ', 'LDEHAAN ', '515.123.4569', '6/19/1987', 'AD_VP     ', 17000, '    ', 100, 90)\n",
      "(103, ' Alexander', 'Hunold    ', 'AHUNOLD ', '590.423.4567', '6/20/1987', 'IT_PROG   ', 9000, '    ', 102, 60)\n",
      "(104, ' Bruce    ', 'Ernst     ', 'BERNST  ', '590.423.4568', '6/21/1987', 'IT_PROG   ', 6000, '    ', 103, 60)\n",
      "(105, ' David    ', 'Austin    ', 'DAUSTIN ', '590.423.4569', '6/22/1987', 'IT_PROG   ', 4800, '    ', 103, 60)\n",
      "(106, ' Valli    ', 'Pataballa ', 'VPATABAL', '590.423.4560', '6/23/1987', 'IT_PROG   ', 4800, '    ', 103, 60)\n",
      "(107, ' Diana    ', 'Lorentz   ', 'DLORENTZ', '590.423.5567', '6/24/1987', 'IT_PROG   ', 4200, '    ', 103, 60)\n",
      "(108, ' Nancy    ', 'Greenberg ', 'NGREENBE', '515.124.4569', '6/25/1987', 'FI_MGR    ', 12000, '    ', 101, 100)\n",
      "(109, ' Daniel   ', 'Faviet    ', 'DFAVIET ', '515.124.4169', '6/26/1987', 'FI_ACCOUNT', 9000, '    ', 108, 100)\n",
      "(110, ' John     ', 'Chen      ', 'JCHEN   ', '515.124.4269', '6/27/1987', 'FI_ACCOUNT', 8200, '    ', 108, 100)\n",
      "(111, ' Ismael   ', 'Sciarra   ', 'ISCIARRA', '515.124.4369', '6/28/1987', 'FI_ACCOUNT', 7700, '    ', 108, 100)\n",
      "(112, ' Jose Manu', 'Urman     ', 'JMURMAN ', '515.124.4469', '6/29/1987', 'FI_ACCOUNT', 7800, '    ', 108, 100)\n",
      "(113, ' Luis     ', 'Popp      ', 'LPOPP   ', '515.124.4567', '6/30/1987', 'FI_ACCOUNT', 6900, '    ', 108, 100)\n",
      "(114, ' Den      ', 'Raphaely  ', 'DRAPHEAL', '515.127.4561', '7/1/1987 ', 'PU_MAN    ', 11000, '    ', 100, 30)\n",
      "(115, ' Alexander', 'Khoo      ', 'AKHOO   ', '515.127.4562', '7/2/1987 ', 'PU_CLERK  ', 3100, '    ', 114, 30)\n",
      "(116, ' Shelli   ', 'Baida     ', 'SBAIDA  ', '515.127.4563', '7/3/1987 ', 'PU_CLERK  ', 2900, '    ', 114, 30)\n",
      "(117, ' Sigal    ', 'Tobias    ', 'STOBIAS ', '515.127.4564', '7/4/1987 ', 'PU_CLERK  ', 2800, '    ', 114, 30)\n",
      "(118, ' Guy      ', 'Himuro    ', 'GHIMURO ', '515.127.4565', '7/5/1987 ', 'PU_CLERK  ', 2600, '    ', 114, 30)\n",
      "(119, ' Karen    ', 'Colmenares', 'KCOLMENA', '515.127.4566', '7/6/1987 ', 'PU_CLERK  ', 2500, '    ', 114, 30)\n",
      "(120, ' Matthew  ', 'Weiss     ', 'MWEISS  ', '650.123.1234', '7/7/1987 ', 'ST_MAN    ', 8000, '    ', 100, 50)\n",
      "(121, ' Adam     ', 'Fripp     ', 'AFRIPP  ', '650.123.2234', '7/8/1987 ', 'ST_MAN    ', 8200, '    ', 100, 50)\n",
      "(122, ' Payam    ', 'Kaufling  ', 'PKAUFLIN', '650.123.3234', '7/9/1987 ', 'ST_MAN    ', 7900, '    ', 100, 50)\n",
      "(123, ' Shanta   ', 'Vollman   ', 'SVOLLMAN', '650.123.4234', '7/10/1987', 'ST_MAN    ', 6500, '    ', 100, 50)\n",
      "(124, ' Kevin    ', 'Mourgos   ', 'KMOURGOS', '650.123.5234', '7/11/1987', 'ST_MAN    ', 5800, '    ', 100, 50)\n",
      "(125, ' Julia    ', 'Nayer     ', 'JNAYER  ', '650.124.1214', '7/12/1987', 'ST_CLERK  ', 3200, '    ', 120, 50)\n",
      "(126, ' Irene    ', 'Mikkilinen', 'IMIKKILI', '650.124.1224', '7/13/1987', 'ST_CLERK  ', 2700, '    ', 120, 50)\n",
      "(127, ' James    ', 'Landry    ', 'JLANDRY ', '650.124.1334', '7/14/1987', 'ST_CLERK  ', 2400, '    ', 120, 50)\n",
      "(128, ' Steven   ', 'Markle    ', 'SMARKLE ', '650.124.1434', '7/15/1987', 'ST_CLERK  ', 2200, '    ', 120, 50)\n",
      "(129, ' Laura    ', 'Bissot    ', 'LBISSOT ', '650.124.5234', '7/16/1987', 'ST_CLERK  ', 3300, '    ', 121, 50)\n",
      "(130, ' Mozhe    ', 'Atkinson  ', 'MATKINSO', '650.124.6234', '7/17/1987', 'ST_CLERK  ', 2800, '    ', 121, 50)\n",
      "(131, ' James    ', 'Marlow    ', 'JAMRLOW ', '650.124.7234', '7/18/1987', 'ST_CLERK  ', 2500, '    ', 121, 50)\n",
      "(132, ' TJ       ', 'Olson     ', 'TJOLSON ', '650.124.8234', '7/19/1987', 'ST_CLERK  ', 2100, '    ', 121, 50)\n",
      "(133, ' Jason    ', 'Mallin    ', 'JMALLIN ', '650.127.1934', '7/20/1987', 'ST_CLERK  ', 3300, '    ', 122, 50)\n",
      "(134, ' Michael  ', 'Rogers    ', 'MROGERS ', '650.127.1834', '7/21/1987', 'ST_CLERK  ', 2900, '    ', 122, 50)\n",
      "(135, ' Ki       ', 'Gee       ', 'KGEE    ', '650.127.1734', '7/22/1987', 'ST_CLERK  ', 2400, '    ', 122, 50)\n",
      "(136, ' Hazel    ', 'Philtanker', 'HPHILTAN', '650.127.1634', '7/23/1987', 'ST_CLERK  ', 2200, '    ', 122, 50)\n",
      "(137, ' Renske   ', 'Ladwig    ', 'RLADWIG ', '650.121.1234', '7/24/1987', 'ST_CLERK  ', 3600, '    ', 123, 50)\n",
      "(138, ' Stephen  ', 'Stiles    ', 'SSTILES ', '650.121.2034', '7/25/1987', 'ST_CLERK  ', 3200, '    ', 123, 50)\n",
      "(139, ' John     ', 'Seo       ', 'JSEO    ', '650.121.2019', '7/26/1987', 'ST_CLERK  ', 2700, '    ', 123, 50)\n",
      "(140, ' Joshua   ', 'Patel     ', 'JPATEL  ', '650.121.1834', '7/27/1987', 'ST_CLERK  ', 2500, '    ', 123, 50)\n",
      "(141, ' Trenna   ', 'Rajs      ', 'TRAJS   ', '650.121.8009', '7/28/1987', 'ST_CLERK  ', 3500, '    ', 124, 50)\n",
      "(142, ' Curtis   ', 'Davies    ', 'CDAVIES ', '650.121.2994', '7/29/1987', 'ST_CLERK  ', 3100, '    ', 124, 50)\n",
      "(143, ' Randall  ', 'Matos     ', 'RMATOS  ', '650.121.2874', '7/30/1987', 'ST_CLERK  ', 2600, '    ', 124, 50)\n",
      "(144, ' Peter    ', 'Vargas    ', 'PVARGAS ', '650.121.2004', '7/31/1987', 'ST_CLERK  ', 2500, '    ', 124, 50)\n",
      "(145, ' John     ', 'Russell   ', 'JRUSSEL ', '011.44.1344.', '8/1/1987 ', 'SA_MAN    ', 14000, '0.4 ', 100, 80)\n",
      "(146, ' Karen    ', 'Partners  ', 'KPARTNER', '011.44.1344.', '8/2/1987 ', 'SA_MAN    ', 13500, '0.3 ', 100, 80)\n",
      "(147, ' Alberto  ', 'Errazuriz ', 'AERRAZUR', '011.44.1344.', '8/3/1987 ', 'SA_MAN    ', 12000, '0.3 ', 100, 80)\n",
      "(148, ' Gerald   ', 'Cambrault ', 'GCAMBRAU', '011.44.1344.', '8/4/1987 ', 'SA_MAN    ', 11000, '0.3 ', 100, 80)\n",
      "(149, ' Eleni    ', 'Zlotkey   ', 'EZLOTKEY', '011.44.1344.', '8/5/1987 ', 'SA_MAN    ', 10500, '0.2 ', 100, 80)\n",
      "(150, ' Peter    ', 'Tucker    ', 'PTUCKER ', '011.44.1344.', '8/6/1987 ', 'SA_REP    ', 10000, '0.3 ', 145, 80)\n",
      "(151, ' David    ', 'Bernstein ', 'DBERNSTE', '011.44.1344.', '8/7/1987 ', 'SA_REP    ', 9500, '0.25', 145, 80)\n",
      "(152, ' Peter    ', 'Hall      ', 'PHALL   ', '011.44.1344.', '8/8/1987 ', 'SA_REP    ', 9000, '0.25', 145, 80)\n",
      "(153, ' Christoph', 'Olsen     ', 'COLSEN  ', '011.44.1344.', '8/9/1987 ', 'SA_REP    ', 8000, '0.2 ', 145, 80)\n",
      "(154, ' Nanette  ', 'Cambrault ', 'NCAMBRAU', '011.44.1344.', '8/10/1987', 'SA_REP    ', 7500, '0.2 ', 145, 80)\n",
      "(155, ' Oliver   ', 'Tuvault   ', 'OTUVAULT', '011.44.1344.', '8/11/1987', 'SA_REP    ', 7000, '0.15', 145, 80)\n",
      "(156, ' Janette  ', 'King      ', 'JKING   ', '011.44.1345.', '8/12/1987', 'SA_REP    ', 10000, '0.35', 146, 80)\n",
      "(157, ' Patrick  ', 'Sully     ', 'PSULLY  ', '011.44.1345.', '8/13/1987', 'SA_REP    ', 9500, '0.35', 146, 80)\n",
      "(158, ' Allan    ', 'McEwen    ', 'AMCEWEN ', '011.44.1345.', '8/14/1987', 'SA_REP    ', 9000, '0.35', 146, 80)\n",
      "(159, ' Lindsey  ', 'Smith     ', 'LSMITH  ', '011.44.1345.', '8/15/1987', 'SA_REP    ', 8000, '0.3 ', 146, 80)\n",
      "(160, ' Louise   ', 'Doran     ', 'LDORAN  ', '011.44.1345.', '8/16/1987', 'SA_REP    ', 7500, '0.3 ', 146, 80)\n",
      "(161, ' Sarath   ', 'Sewall    ', 'SSEWALL ', '011.44.1345.', '8/17/1987', 'SA_REP    ', 7000, '0.25', 146, 80)\n",
      "(162, ' Clara    ', 'Vishney   ', 'CVISHNEY', '011.44.1346.', '8/18/1987', 'SA_REP    ', 10500, '0.25', 147, 80)\n",
      "(163, ' Danielle ', 'Greene    ', 'DGREENE ', '011.44.1346.', '8/19/1987', 'SA_REP    ', 9500, '0.15', 147, 80)\n",
      "(164, ' Mattea   ', 'Marvins   ', 'MMARVINS', '011.44.1346.', '8/20/1987', 'SA_REP    ', 7200, '0.1 ', 147, 80)\n",
      "(165, ' David    ', 'Lee       ', 'DLEE    ', '011.44.1346.', '8/21/1987', 'SA_REP    ', 6800, '0.1 ', 147, 80)\n",
      "(166, ' Sundar   ', 'Ande      ', 'SANDE   ', '011.44.1346.', '8/22/1987', 'SA_REP    ', 6400, '0.1 ', 147, 80)\n",
      "(167, ' Amit     ', 'Banda     ', 'ABANDA  ', '011.44.1346.', '8/23/1987', 'SA_REP    ', 6200, '0.1 ', 147, 80)\n",
      "(168, ' Lisa     ', 'Ozer      ', 'LOZER   ', '011.44.1343.', '8/24/1987', 'SA_REP    ', 11500, '0.25', 148, 80)\n",
      "(169, ' Harrison ', 'Bloom     ', 'HBLOOM  ', '011.44.1343.', '8/25/1987', 'SA_REP    ', 10000, '0.2 ', 148, 80)\n",
      "(170, ' Tayler   ', 'Fox       ', 'TFOX    ', '011.44.1343.', '8/26/1987', 'SA_REP    ', 9600, '0.2 ', 148, 80)\n",
      "(171, ' William  ', 'Smith     ', 'WSMITH  ', '011.44.1343.', '8/27/1987', 'SA_REP    ', 7400, '0.15', 148, 80)\n",
      "(172, ' Elizabeth', 'Bates     ', 'EBATES  ', '011.44.1343.', '8/28/1987', 'SA_REP    ', 7300, '0.15', 148, 80)\n",
      "(173, ' Sundita  ', 'Kumar     ', 'SKUMAR  ', '011.44.1343.', '8/29/1987', 'SA_REP    ', 6100, '0.1 ', 148, 80)\n",
      "(174, ' Ellen    ', 'Abel      ', 'EABEL   ', '011.44.1644.', '8/30/1987', 'SA_REP    ', 11000, '0.3 ', 149, 80)\n",
      "(175, ' Alyssa   ', 'Hutton    ', 'AHUTTON ', '011.44.1644.', '8/31/1987', 'SA_REP    ', 8800, '0.25', 149, 80)\n",
      "(176, ' Jonathon ', 'Taylor    ', 'JTAYLOR ', '011.44.1644.', '9/1/1987 ', 'SA_REP    ', 8600, '0.2 ', 149, 80)\n",
      "(177, ' Jack     ', 'Livingston', 'JLIVINGS', '011.44.1644.', '9/2/1987 ', 'SA_REP    ', 8400, '0.2 ', 149, 80)\n",
      "(178, ' Kimberely', 'Grant     ', 'KGRANT  ', '011.44.1644.', '9/3/1987 ', 'SA_REP    ', 7000, '0.15', 149, 80)\n",
      "(179, ' harles   ', 'Johnson   ', 'CJOHNSON', '011.44.1644.', '9/4/1987 ', 'SA_REP    ', 6200, '0.1 ', 149, 80)\n",
      "(180, ' Winston  ', 'Taylor    ', 'WTAYLOR ', '650.507.9876', '9/5/1987 ', 'SH_CLERK  ', 3200, '    ', 120, 50)\n",
      "(181, ' Jean     ', 'Fleaur    ', 'JFLEAUR ', '650.507.9877', '9/6/1987 ', 'SH_CLERK  ', 3100, '    ', 120, 50)\n",
      "(182, ' Martha   ', 'Sullivan  ', 'MSULLIVA', '650.507.9878', '9/7/1987 ', 'SH_CLERK  ', 2500, '    ', 120, 50)\n",
      "(183, ' Girard   ', 'Geoni     ', 'GGEONI  ', '650.507.9879', '9/8/1987 ', 'SH_CLERK  ', 2800, '    ', 120, 50)\n",
      "(184, ' Nandita  ', 'Sarchand  ', 'NSARCHAN', '650.509.1876', '9/9/1987 ', 'SH_CLERK  ', 4200, '    ', 121, 50)\n",
      "(185, ' Alexis   ', 'Bull      ', 'ABULL   ', '650.509.2876', '9/10/1987', 'SH_CLERK  ', 4100, '    ', 121, 50)\n",
      "(186, ' Julia    ', 'Dellinger ', 'JDELLING', '650.509.3876', '9/11/1987', 'SH_CLERK  ', 3400, '    ', 121, 50)\n",
      "(187, ' Anthony  ', 'Cabrio    ', 'ACABRIO ', '650.509.4876', '9/12/1987', 'SH_CLERK  ', 3000, '    ', 121, 50)\n",
      "(188, ' Kelly    ', 'Chung     ', 'KCHUNG  ', '650.505.1876', '9/13/1987', 'SH_CLERK  ', 3800, '    ', 122, 50)\n",
      "(189, ' Jennifer ', 'Dilly     ', 'JDILLY  ', '650.505.2876', '9/14/1987', 'SH_CLERK  ', 3600, '    ', 122, 50)\n",
      "(190, ' Timothy  ', 'Gates     ', 'TGATES  ', '650.505.3876', '9/15/1987', 'SH_CLERK  ', 2900, '    ', 122, 50)\n",
      "(191, ' Randall  ', 'Perkins   ', 'RPERKINS', '650.505.4876', '9/16/1987', 'SH_CLERK  ', 2500, '    ', 122, 50)\n",
      "(192, ' Sarah    ', 'Bell      ', 'SBELL   ', '650.501.1876', '9/17/1987', 'SH_CLERK  ', 4000, '    ', 123, 50)\n",
      "(193, ' Britney  ', 'Everett   ', 'BEVERETT', '650.501.2876', '9/18/1987', 'SH_CLERK  ', 3900, '    ', 123, 50)\n",
      "(194, ' Samuel   ', 'McCain    ', 'SMCCAIN ', '650.501.3876', '9/19/1987', 'SH_CLERK  ', 3200, '    ', 123, 50)\n",
      "(195, ' Vance    ', 'Jones     ', 'VJONES  ', '650.501.4876', '9/20/1987', 'SH_CLERK  ', 2800, '    ', 123, 50)\n",
      "(196, ' Alana    ', 'Walsh     ', 'AWALSH  ', '650.507.9811', '9/21/1987', 'SH_CLERK  ', 3100, '    ', 124, 50)\n",
      "(197, ' Kevin    ', 'Feeney    ', 'KFEENEY ', '650.507.9822', '9/22/1987', 'SH_CLERK  ', 3000, '    ', 124, 50)\n",
      "(198, ' Donald   ', 'OConnell  ', 'DOCONNEL', '650.507.9833', '9/23/1987', 'SH_CLERK  ', 2600, '    ', 124, 50)\n",
      "(199, ' Douglas  ', 'Grant     ', 'DGRANT  ', '650.507.9844', '9/24/1987', 'SH_CLERK  ', 2600, '    ', 124, 50)\n",
      "(200, ' Jennifer ', 'Whalen    ', 'JWHALEN ', '515.123.4444', '9/25/1987', 'AD_ASST   ', 4400, '    ', 101, 10)\n",
      "(201, ' Michael  ', 'Hartstein ', 'MHARTSTE', '515.123.5555', '9/26/1987', 'MK_MAN    ', 13000, '    ', 100, 20)\n",
      "(202, ' Pat      ', 'Fay       ', 'PFAY    ', '603.123.6666', '9/27/1987', 'MK_REP    ', 6000, '    ', 201, 20)\n",
      "(203, ' Susan    ', 'Mavris    ', 'SMAVRIS ', '515.123.7777', '9/28/1987', 'HR_REP    ', 6500, '    ', 101, 40)\n",
      "(204, ' Hermann  ', 'Baer      ', 'HBAER   ', '515.123.8888', '9/29/1987', 'PR_REP    ', 10000, '    ', 101, 70)\n",
      "(205, ' Shelley  ', 'Higgins   ', 'SHIGGINS', '515.123.8080', '9/30/1987', 'AC_MGR    ', 12000, '    ', 101, 110)\n",
      "(206, ' William  ', 'Gietz     ', 'WGIETZ  ', '515.123.8181', '10/1/1987', 'AC_ACCOUNT', 8300, '    ', 205, 110)\n"
     ]
    }
   ],
   "source": [
    "result=cursor.execute(\"select * from Employee2\")\n",
    "for row in result:\n",
    "    print(row)"
   ]
  },
  {
   "cell_type": "code",
   "execution_count": 20,
   "id": "820ce14f",
   "metadata": {},
   "outputs": [],
   "source": [
    "# 1. Write a query to display the names (first_name, last_name) and salary for all employees whose salary is not in the\n",
    "# range $10,000 through $15,000. "
   ]
  },
  {
   "cell_type": "code",
   "execution_count": null,
   "id": "95e4aa3f",
   "metadata": {},
   "outputs": [],
   "source": []
  },
  {
   "cell_type": "code",
   "execution_count": 23,
   "id": "245499e6",
   "metadata": {},
   "outputs": [
    {
     "name": "stdout",
     "output_type": "stream",
     "text": [
      "(' Steven   ', 'King      ', 24000)\n",
      "(' Neena    ', 'Kochhar   ', 17000)\n",
      "(' Lex      ', 'De Haan   ', 17000)\n",
      "(' Alexander', 'Hunold    ', 9000)\n",
      "(' Bruce    ', 'Ernst     ', 6000)\n",
      "(' David    ', 'Austin    ', 4800)\n",
      "(' Valli    ', 'Pataballa ', 4800)\n",
      "(' Diana    ', 'Lorentz   ', 4200)\n",
      "(' Daniel   ', 'Faviet    ', 9000)\n",
      "(' John     ', 'Chen      ', 8200)\n",
      "(' Ismael   ', 'Sciarra   ', 7700)\n",
      "(' Jose Manu', 'Urman     ', 7800)\n",
      "(' Luis     ', 'Popp      ', 6900)\n",
      "(' Alexander', 'Khoo      ', 3100)\n",
      "(' Shelli   ', 'Baida     ', 2900)\n",
      "(' Sigal    ', 'Tobias    ', 2800)\n",
      "(' Guy      ', 'Himuro    ', 2600)\n",
      "(' Karen    ', 'Colmenares', 2500)\n",
      "(' Matthew  ', 'Weiss     ', 8000)\n",
      "(' Adam     ', 'Fripp     ', 8200)\n",
      "(' Payam    ', 'Kaufling  ', 7900)\n",
      "(' Shanta   ', 'Vollman   ', 6500)\n",
      "(' Kevin    ', 'Mourgos   ', 5800)\n",
      "(' Julia    ', 'Nayer     ', 3200)\n",
      "(' Irene    ', 'Mikkilinen', 2700)\n",
      "(' James    ', 'Landry    ', 2400)\n",
      "(' Steven   ', 'Markle    ', 2200)\n",
      "(' Laura    ', 'Bissot    ', 3300)\n",
      "(' Mozhe    ', 'Atkinson  ', 2800)\n",
      "(' James    ', 'Marlow    ', 2500)\n",
      "(' TJ       ', 'Olson     ', 2100)\n",
      "(' Jason    ', 'Mallin    ', 3300)\n",
      "(' Michael  ', 'Rogers    ', 2900)\n",
      "(' Ki       ', 'Gee       ', 2400)\n",
      "(' Hazel    ', 'Philtanker', 2200)\n",
      "(' Renske   ', 'Ladwig    ', 3600)\n",
      "(' Stephen  ', 'Stiles    ', 3200)\n",
      "(' John     ', 'Seo       ', 2700)\n",
      "(' Joshua   ', 'Patel     ', 2500)\n",
      "(' Trenna   ', 'Rajs      ', 3500)\n",
      "(' Curtis   ', 'Davies    ', 3100)\n",
      "(' Randall  ', 'Matos     ', 2600)\n",
      "(' Peter    ', 'Vargas    ', 2500)\n",
      "(' David    ', 'Bernstein ', 9500)\n",
      "(' Peter    ', 'Hall      ', 9000)\n",
      "(' Christoph', 'Olsen     ', 8000)\n",
      "(' Nanette  ', 'Cambrault ', 7500)\n",
      "(' Oliver   ', 'Tuvault   ', 7000)\n",
      "(' Patrick  ', 'Sully     ', 9500)\n",
      "(' Allan    ', 'McEwen    ', 9000)\n",
      "(' Lindsey  ', 'Smith     ', 8000)\n",
      "(' Louise   ', 'Doran     ', 7500)\n",
      "(' Sarath   ', 'Sewall    ', 7000)\n",
      "(' Danielle ', 'Greene    ', 9500)\n",
      "(' Mattea   ', 'Marvins   ', 7200)\n",
      "(' David    ', 'Lee       ', 6800)\n",
      "(' Sundar   ', 'Ande      ', 6400)\n",
      "(' Amit     ', 'Banda     ', 6200)\n",
      "(' Tayler   ', 'Fox       ', 9600)\n",
      "(' William  ', 'Smith     ', 7400)\n",
      "(' Elizabeth', 'Bates     ', 7300)\n",
      "(' Sundita  ', 'Kumar     ', 6100)\n",
      "(' Alyssa   ', 'Hutton    ', 8800)\n",
      "(' Jonathon ', 'Taylor    ', 8600)\n",
      "(' Jack     ', 'Livingston', 8400)\n",
      "(' Kimberely', 'Grant     ', 7000)\n",
      "(' harles   ', 'Johnson   ', 6200)\n",
      "(' Winston  ', 'Taylor    ', 3200)\n",
      "(' Jean     ', 'Fleaur    ', 3100)\n",
      "(' Martha   ', 'Sullivan  ', 2500)\n",
      "(' Girard   ', 'Geoni     ', 2800)\n",
      "(' Nandita  ', 'Sarchand  ', 4200)\n",
      "(' Alexis   ', 'Bull      ', 4100)\n",
      "(' Julia    ', 'Dellinger ', 3400)\n",
      "(' Anthony  ', 'Cabrio    ', 3000)\n",
      "(' Kelly    ', 'Chung     ', 3800)\n",
      "(' Jennifer ', 'Dilly     ', 3600)\n",
      "(' Timothy  ', 'Gates     ', 2900)\n",
      "(' Randall  ', 'Perkins   ', 2500)\n",
      "(' Sarah    ', 'Bell      ', 4000)\n",
      "(' Britney  ', 'Everett   ', 3900)\n",
      "(' Samuel   ', 'McCain    ', 3200)\n",
      "(' Vance    ', 'Jones     ', 2800)\n",
      "(' Alana    ', 'Walsh     ', 3100)\n",
      "(' Kevin    ', 'Feeney    ', 3000)\n",
      "(' Donald   ', 'OConnell  ', 2600)\n",
      "(' Douglas  ', 'Grant     ', 2600)\n",
      "(' Jennifer ', 'Whalen    ', 4400)\n",
      "(' Pat      ', 'Fay       ', 6000)\n",
      "(' Susan    ', 'Mavris    ', 6500)\n",
      "(' William  ', 'Gietz     ', 8300)\n"
     ]
    }
   ],
   "source": [
    "sql=\"select first_name,last_name,salary from Employee2 where salary not between 10000 and 15000\"\n",
    "result=cursor.execute(sql)\n",
    "for row in result:\n",
    "    print(row)"
   ]
  },
  {
   "cell_type": "code",
   "execution_count": 24,
   "id": "62139719",
   "metadata": {},
   "outputs": [],
   "source": [
    "# 2. Write a query to display the names (first_name, last_name) and department ID of all employees in departments 30 or 100 in \n",
    "# ascending alphabetical order by department ID."
   ]
  },
  {
   "cell_type": "code",
   "execution_count": 30,
   "id": "a7e5266a",
   "metadata": {},
   "outputs": [
    {
     "name": "stdout",
     "output_type": "stream",
     "text": [
      "(' Den      ', 'Raphaely  ', 30)\n",
      "(' Alexander', 'Khoo      ', 30)\n",
      "(' Shelli   ', 'Baida     ', 30)\n",
      "(' Sigal    ', 'Tobias    ', 30)\n",
      "(' Guy      ', 'Himuro    ', 30)\n",
      "(' Karen    ', 'Colmenares', 30)\n",
      "(' Nancy    ', 'Greenberg ', 100)\n",
      "(' Daniel   ', 'Faviet    ', 100)\n",
      "(' John     ', 'Chen      ', 100)\n",
      "(' Ismael   ', 'Sciarra   ', 100)\n",
      "(' Jose Manu', 'Urman     ', 100)\n",
      "(' Luis     ', 'Popp      ', 100)\n"
     ]
    }
   ],
   "source": [
    "sql=\"select first_name,last_name,department_id from Employee2 where department_id in (30,100) order by department_id asc\"\n",
    "result=cursor.execute(sql)\n",
    "for row in result:\n",
    "    print(row)"
   ]
  },
  {
   "cell_type": "code",
   "execution_count": 31,
   "id": "95a350e6",
   "metadata": {},
   "outputs": [],
   "source": [
    "# 3. Write a query to display the names (first_name, last_name) and salary for all employees whose salary is not in\n",
    "# the range $10,000 through $15,000 and are in department 30 or 100."
   ]
  },
  {
   "cell_type": "code",
   "execution_count": 35,
   "id": "979f6ded",
   "metadata": {},
   "outputs": [
    {
     "name": "stdout",
     "output_type": "stream",
     "text": [
      "(' Daniel   ', 'Faviet    ', 9000)\n",
      "(' John     ', 'Chen      ', 8200)\n",
      "(' Ismael   ', 'Sciarra   ', 7700)\n",
      "(' Jose Manu', 'Urman     ', 7800)\n",
      "(' Luis     ', 'Popp      ', 6900)\n",
      "(' Alexander', 'Khoo      ', 3100)\n",
      "(' Shelli   ', 'Baida     ', 2900)\n",
      "(' Sigal    ', 'Tobias    ', 2800)\n",
      "(' Guy      ', 'Himuro    ', 2600)\n",
      "(' Karen    ', 'Colmenares', 2500)\n"
     ]
    }
   ],
   "source": [
    "sql=\"select first_name, last_name,salary from Employee2 where salary not between 10000 and 15000 and  department_id in  (30,100) \"\n",
    "result=cursor.execute(sql)\n",
    "for row in result:\n",
    "    print(row)"
   ]
  },
  {
   "cell_type": "code",
   "execution_count": 41,
   "id": "c7bf175a",
   "metadata": {},
   "outputs": [],
   "source": [
    "#4. Write a query to display the first_name of all employees who have both an \"b\" and \"c\" in their first name. "
   ]
  },
  {
   "cell_type": "code",
   "execution_count": 42,
   "id": "8f2ebd71",
   "metadata": {},
   "outputs": [
    {
     "name": "stdout",
     "output_type": "stream",
     "text": [
      "(' Bruce    ',)\n"
     ]
    }
   ],
   "source": [
    "sql=\"select first_name from Employee2 where first_name like '%b%' and first_name like '%c%'\"\n",
    "result=cursor.execute(sql)\n",
    "for row in result:\n",
    "    print(row)"
   ]
  },
  {
   "cell_type": "code",
   "execution_count": 43,
   "id": "c5f3e3fb",
   "metadata": {},
   "outputs": [],
   "source": [
    "# 5. Write a query to display the last name, job, and salary for all employees whose job is that of a Programmer or a Shipping Clerk, and whose salary is not equal to $4,500, $10,000, or $15,000."
   ]
  },
  {
   "cell_type": "code",
   "execution_count": 48,
   "id": "89dd6fe5",
   "metadata": {},
   "outputs": [
    {
     "name": "stdout",
     "output_type": "stream",
     "text": [
      "('Hunold    ', 'IT_PROG   ', 9000)\n",
      "('Ernst     ', 'IT_PROG   ', 6000)\n",
      "('Austin    ', 'IT_PROG   ', 4800)\n",
      "('Pataballa ', 'IT_PROG   ', 4800)\n",
      "('Lorentz   ', 'IT_PROG   ', 4200)\n",
      "('Taylor    ', 'SH_CLERK  ', 3200)\n",
      "('Fleaur    ', 'SH_CLERK  ', 3100)\n",
      "('Sullivan  ', 'SH_CLERK  ', 2500)\n",
      "('Geoni     ', 'SH_CLERK  ', 2800)\n",
      "('Sarchand  ', 'SH_CLERK  ', 4200)\n",
      "('Bull      ', 'SH_CLERK  ', 4100)\n",
      "('Dellinger ', 'SH_CLERK  ', 3400)\n",
      "('Cabrio    ', 'SH_CLERK  ', 3000)\n",
      "('Chung     ', 'SH_CLERK  ', 3800)\n",
      "('Dilly     ', 'SH_CLERK  ', 3600)\n",
      "('Gates     ', 'SH_CLERK  ', 2900)\n",
      "('Perkins   ', 'SH_CLERK  ', 2500)\n",
      "('Bell      ', 'SH_CLERK  ', 4000)\n",
      "('Everett   ', 'SH_CLERK  ', 3900)\n",
      "('McCain    ', 'SH_CLERK  ', 3200)\n",
      "('Jones     ', 'SH_CLERK  ', 2800)\n",
      "('Walsh     ', 'SH_CLERK  ', 3100)\n",
      "('Feeney    ', 'SH_CLERK  ', 3000)\n",
      "('OConnell  ', 'SH_CLERK  ', 2600)\n",
      "('Grant     ', 'SH_CLERK  ', 2600)\n"
     ]
    }
   ],
   "source": [
    "sql=\"select last_name,job_id,salary from Employee2 where job_id in ('IT_PROG   ','SH_CLERK  ')and salary not in (4500,1000,15000)\"\n",
    "result=cursor.execute(sql)\n",
    "for row in result:\n",
    "    print(row)"
   ]
  },
  {
   "cell_type": "code",
   "execution_count": 49,
   "id": "cfae7435",
   "metadata": {},
   "outputs": [],
   "source": [
    "# 6. Write a query to display the last names of employees whose names have exactly 6 characters."
   ]
  },
  {
   "cell_type": "code",
   "execution_count": 63,
   "id": "23891247",
   "metadata": {},
   "outputs": [],
   "source": [
    "sql=\"select last_name from Employee2 where last_name LIKE '______'\"\n"
   ]
  },
  {
   "cell_type": "code",
   "execution_count": 64,
   "id": "5bdfa8bc",
   "metadata": {},
   "outputs": [],
   "source": [
    "result=cursor.execute(sql)\n",
    "for row in result:\n",
    "    print(row)"
   ]
  },
  {
   "cell_type": "code",
   "execution_count": 65,
   "id": "a15e2d85",
   "metadata": {},
   "outputs": [],
   "source": [
    "#7=Write a query to display the last names of employees having 'e' as the third character."
   ]
  },
  {
   "cell_type": "code",
   "execution_count": 68,
   "id": "63800eb9",
   "metadata": {},
   "outputs": [
    {
     "ename": "OperationalError",
     "evalue": "unrecognized token: \"'__e%\"",
     "output_type": "error",
     "traceback": [
      "\u001b[1;31m---------------------------------------------------------------------------\u001b[0m",
      "\u001b[1;31mOperationalError\u001b[0m                          Traceback (most recent call last)",
      "Input \u001b[1;32mIn [68]\u001b[0m, in \u001b[0;36m<cell line: 2>\u001b[1;34m()\u001b[0m\n\u001b[0;32m      1\u001b[0m sql\u001b[38;5;241m=\u001b[39m\u001b[38;5;124m\"\u001b[39m\u001b[38;5;124mselect last_name from Employee2 where last_name like\u001b[39m\u001b[38;5;124m'\u001b[39m\u001b[38;5;124m__e\u001b[39m\u001b[38;5;124m%\u001b[39m\u001b[38;5;124m\"\u001b[39m\n\u001b[1;32m----> 2\u001b[0m result\u001b[38;5;241m=\u001b[39m\u001b[43mcursor\u001b[49m\u001b[38;5;241;43m.\u001b[39;49m\u001b[43mexecute\u001b[49m\u001b[43m(\u001b[49m\u001b[43msql\u001b[49m\u001b[43m)\u001b[49m\n\u001b[0;32m      3\u001b[0m \u001b[38;5;28;01mfor\u001b[39;00m row \u001b[38;5;129;01min\u001b[39;00m result:\n\u001b[0;32m      4\u001b[0m     \u001b[38;5;28mprint\u001b[39m(row)\n",
      "\u001b[1;31mOperationalError\u001b[0m: unrecognized token: \"'__e%\""
     ]
    }
   ],
   "source": [
    "sql=\"select last_name from Employee2 where last_name like'__e%\"\n",
    "result=cursor.execute(sql)\n",
    "for row in result:\n",
    "    print(row)"
   ]
  },
  {
   "cell_type": "code",
   "execution_count": 69,
   "id": "9139f889",
   "metadata": {},
   "outputs": [],
   "source": [
    "# 8Write a query to display the jobs/designations available in the employees table."
   ]
  },
  {
   "cell_type": "code",
   "execution_count": 70,
   "id": "5b089322",
   "metadata": {},
   "outputs": [
    {
     "name": "stdout",
     "output_type": "stream",
     "text": [
      "('AD_PRES   ',)\n",
      "('AD_VP     ',)\n",
      "('IT_PROG   ',)\n",
      "('FI_MGR    ',)\n",
      "('FI_ACCOUNT',)\n",
      "('PU_MAN    ',)\n",
      "('PU_CLERK  ',)\n",
      "('ST_MAN    ',)\n",
      "('ST_CLERK  ',)\n",
      "('SA_MAN    ',)\n",
      "('SA_REP    ',)\n",
      "('SH_CLERK  ',)\n",
      "('AD_ASST   ',)\n",
      "('MK_MAN    ',)\n",
      "('MK_REP    ',)\n",
      "('HR_REP    ',)\n",
      "('PR_REP    ',)\n",
      "('AC_MGR    ',)\n",
      "('AC_ACCOUNT',)\n"
     ]
    }
   ],
   "source": [
    "sql=\"select distinct(job_id) from Employee2\"\n",
    "result=cursor.execute(sql)\n",
    "for row in result:\n",
    "    print(row)"
   ]
  },
  {
   "cell_type": "code",
   "execution_count": 71,
   "id": "89bfdf91",
   "metadata": {},
   "outputs": [],
   "source": [
    "# 9. Write a query to display the names (first_name, last_name), salary and PF (15% of salary) of all employees"
   ]
  },
  {
   "cell_type": "code",
   "execution_count": 74,
   "id": "c7dd3138",
   "metadata": {},
   "outputs": [],
   "source": [
    "sql=\"select first_name,last_name,salary from Employee2 where salary*0.15 \""
   ]
  },
  {
   "cell_type": "code",
   "execution_count": 75,
   "id": "14c05ad3",
   "metadata": {},
   "outputs": [
    {
     "name": "stdout",
     "output_type": "stream",
     "text": [
      "(' Steven   ', 'King      ', 24000)\n",
      "(' Neena    ', 'Kochhar   ', 17000)\n",
      "(' Lex      ', 'De Haan   ', 17000)\n",
      "(' Alexander', 'Hunold    ', 9000)\n",
      "(' Bruce    ', 'Ernst     ', 6000)\n",
      "(' David    ', 'Austin    ', 4800)\n",
      "(' Valli    ', 'Pataballa ', 4800)\n",
      "(' Diana    ', 'Lorentz   ', 4200)\n",
      "(' Nancy    ', 'Greenberg ', 12000)\n",
      "(' Daniel   ', 'Faviet    ', 9000)\n",
      "(' John     ', 'Chen      ', 8200)\n",
      "(' Ismael   ', 'Sciarra   ', 7700)\n",
      "(' Jose Manu', 'Urman     ', 7800)\n",
      "(' Luis     ', 'Popp      ', 6900)\n",
      "(' Den      ', 'Raphaely  ', 11000)\n",
      "(' Alexander', 'Khoo      ', 3100)\n",
      "(' Shelli   ', 'Baida     ', 2900)\n",
      "(' Sigal    ', 'Tobias    ', 2800)\n",
      "(' Guy      ', 'Himuro    ', 2600)\n",
      "(' Karen    ', 'Colmenares', 2500)\n",
      "(' Matthew  ', 'Weiss     ', 8000)\n",
      "(' Adam     ', 'Fripp     ', 8200)\n",
      "(' Payam    ', 'Kaufling  ', 7900)\n",
      "(' Shanta   ', 'Vollman   ', 6500)\n",
      "(' Kevin    ', 'Mourgos   ', 5800)\n",
      "(' Julia    ', 'Nayer     ', 3200)\n",
      "(' Irene    ', 'Mikkilinen', 2700)\n",
      "(' James    ', 'Landry    ', 2400)\n",
      "(' Steven   ', 'Markle    ', 2200)\n",
      "(' Laura    ', 'Bissot    ', 3300)\n",
      "(' Mozhe    ', 'Atkinson  ', 2800)\n",
      "(' James    ', 'Marlow    ', 2500)\n",
      "(' TJ       ', 'Olson     ', 2100)\n",
      "(' Jason    ', 'Mallin    ', 3300)\n",
      "(' Michael  ', 'Rogers    ', 2900)\n",
      "(' Ki       ', 'Gee       ', 2400)\n",
      "(' Hazel    ', 'Philtanker', 2200)\n",
      "(' Renske   ', 'Ladwig    ', 3600)\n",
      "(' Stephen  ', 'Stiles    ', 3200)\n",
      "(' John     ', 'Seo       ', 2700)\n",
      "(' Joshua   ', 'Patel     ', 2500)\n",
      "(' Trenna   ', 'Rajs      ', 3500)\n",
      "(' Curtis   ', 'Davies    ', 3100)\n",
      "(' Randall  ', 'Matos     ', 2600)\n",
      "(' Peter    ', 'Vargas    ', 2500)\n",
      "(' John     ', 'Russell   ', 14000)\n",
      "(' Karen    ', 'Partners  ', 13500)\n",
      "(' Alberto  ', 'Errazuriz ', 12000)\n",
      "(' Gerald   ', 'Cambrault ', 11000)\n",
      "(' Eleni    ', 'Zlotkey   ', 10500)\n",
      "(' Peter    ', 'Tucker    ', 10000)\n",
      "(' David    ', 'Bernstein ', 9500)\n",
      "(' Peter    ', 'Hall      ', 9000)\n",
      "(' Christoph', 'Olsen     ', 8000)\n",
      "(' Nanette  ', 'Cambrault ', 7500)\n",
      "(' Oliver   ', 'Tuvault   ', 7000)\n",
      "(' Janette  ', 'King      ', 10000)\n",
      "(' Patrick  ', 'Sully     ', 9500)\n",
      "(' Allan    ', 'McEwen    ', 9000)\n",
      "(' Lindsey  ', 'Smith     ', 8000)\n",
      "(' Louise   ', 'Doran     ', 7500)\n",
      "(' Sarath   ', 'Sewall    ', 7000)\n",
      "(' Clara    ', 'Vishney   ', 10500)\n",
      "(' Danielle ', 'Greene    ', 9500)\n",
      "(' Mattea   ', 'Marvins   ', 7200)\n",
      "(' David    ', 'Lee       ', 6800)\n",
      "(' Sundar   ', 'Ande      ', 6400)\n",
      "(' Amit     ', 'Banda     ', 6200)\n",
      "(' Lisa     ', 'Ozer      ', 11500)\n",
      "(' Harrison ', 'Bloom     ', 10000)\n",
      "(' Tayler   ', 'Fox       ', 9600)\n",
      "(' William  ', 'Smith     ', 7400)\n",
      "(' Elizabeth', 'Bates     ', 7300)\n",
      "(' Sundita  ', 'Kumar     ', 6100)\n",
      "(' Ellen    ', 'Abel      ', 11000)\n",
      "(' Alyssa   ', 'Hutton    ', 8800)\n",
      "(' Jonathon ', 'Taylor    ', 8600)\n",
      "(' Jack     ', 'Livingston', 8400)\n",
      "(' Kimberely', 'Grant     ', 7000)\n",
      "(' harles   ', 'Johnson   ', 6200)\n",
      "(' Winston  ', 'Taylor    ', 3200)\n",
      "(' Jean     ', 'Fleaur    ', 3100)\n",
      "(' Martha   ', 'Sullivan  ', 2500)\n",
      "(' Girard   ', 'Geoni     ', 2800)\n",
      "(' Nandita  ', 'Sarchand  ', 4200)\n",
      "(' Alexis   ', 'Bull      ', 4100)\n",
      "(' Julia    ', 'Dellinger ', 3400)\n",
      "(' Anthony  ', 'Cabrio    ', 3000)\n",
      "(' Kelly    ', 'Chung     ', 3800)\n",
      "(' Jennifer ', 'Dilly     ', 3600)\n",
      "(' Timothy  ', 'Gates     ', 2900)\n",
      "(' Randall  ', 'Perkins   ', 2500)\n",
      "(' Sarah    ', 'Bell      ', 4000)\n",
      "(' Britney  ', 'Everett   ', 3900)\n",
      "(' Samuel   ', 'McCain    ', 3200)\n",
      "(' Vance    ', 'Jones     ', 2800)\n",
      "(' Alana    ', 'Walsh     ', 3100)\n",
      "(' Kevin    ', 'Feeney    ', 3000)\n",
      "(' Donald   ', 'OConnell  ', 2600)\n",
      "(' Douglas  ', 'Grant     ', 2600)\n",
      "(' Jennifer ', 'Whalen    ', 4400)\n",
      "(' Michael  ', 'Hartstein ', 13000)\n",
      "(' Pat      ', 'Fay       ', 6000)\n",
      "(' Susan    ', 'Mavris    ', 6500)\n",
      "(' Hermann  ', 'Baer      ', 10000)\n",
      "(' Shelley  ', 'Higgins   ', 12000)\n",
      "(' William  ', 'Gietz     ', 8300)\n"
     ]
    }
   ],
   "source": [
    "result=cursor.execute(sql)\n",
    "for row in result:\n",
    "    print(row)"
   ]
  },
  {
   "cell_type": "code",
   "execution_count": null,
   "id": "6059617a",
   "metadata": {},
   "outputs": [],
   "source": [
    "#Student of DataScience\n",
    "#Srudent of Data Trained -Saurav\n",
    "#Date-14 July 2022\n",
    "#Time-20:50"
   ]
  }
 ],
 "metadata": {
  "kernelspec": {
   "display_name": "Python 3 (ipykernel)",
   "language": "python",
   "name": "python3"
  },
  "language_info": {
   "codemirror_mode": {
    "name": "ipython",
    "version": 3
   },
   "file_extension": ".py",
   "mimetype": "text/x-python",
   "name": "python",
   "nbconvert_exporter": "python",
   "pygments_lexer": "ipython3",
   "version": "3.9.12"
  }
 },
 "nbformat": 4,
 "nbformat_minor": 5
}
