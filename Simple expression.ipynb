{
 "cells": [
  {
   "cell_type": "code",
   "execution_count": null,
   "id": "f5e5c31f",
   "metadata": {},
   "outputs": [],
   "source": [
    "# JAI HIND #JAI SHREE RAM == JAI SHREE RAM"
   ]
  },
  {
   "cell_type": "code",
   "execution_count": 1,
   "id": "88df421c",
   "metadata": {},
   "outputs": [],
   "source": [
    "#Learn Pyhton Programming"
   ]
  },
  {
   "cell_type": "code",
   "execution_count": 2,
   "id": "c382c8bb",
   "metadata": {},
   "outputs": [],
   "source": [
    "# 1 Simple Expression By Shankar Sir From Data Trained\n"
   ]
  },
  {
   "cell_type": "code",
   "execution_count": 3,
   "id": "38220929",
   "metadata": {},
   "outputs": [
    {
     "data": {
      "text/plain": [
       "False"
      ]
     },
     "execution_count": 3,
     "metadata": {},
     "output_type": "execute_result"
    }
   ],
   "source": [
    "True and False"
   ]
  },
  {
   "cell_type": "code",
   "execution_count": 4,
   "id": "4b7d32d0",
   "metadata": {},
   "outputs": [
    {
     "data": {
      "text/plain": [
       "True"
      ]
     },
     "execution_count": 4,
     "metadata": {},
     "output_type": "execute_result"
    }
   ],
   "source": [
    "True and True"
   ]
  },
  {
   "cell_type": "code",
   "execution_count": 5,
   "id": "23408970",
   "metadata": {},
   "outputs": [
    {
     "data": {
      "text/plain": [
       "True"
      ]
     },
     "execution_count": 5,
     "metadata": {},
     "output_type": "execute_result"
    }
   ],
   "source": [
    "True or False"
   ]
  },
  {
   "cell_type": "code",
   "execution_count": 6,
   "id": "23cd8b1c",
   "metadata": {},
   "outputs": [
    {
     "data": {
      "text/plain": [
       "False"
      ]
     },
     "execution_count": 6,
     "metadata": {},
     "output_type": "execute_result"
    }
   ],
   "source": [
    "not True"
   ]
  },
  {
   "cell_type": "code",
   "execution_count": 8,
   "id": "117e5f18",
   "metadata": {},
   "outputs": [
    {
     "data": {
      "text/plain": [
       "True"
      ]
     },
     "execution_count": 8,
     "metadata": {},
     "output_type": "execute_result"
    }
   ],
   "source": [
    "not False"
   ]
  },
  {
   "cell_type": "code",
   "execution_count": 9,
   "id": "56a8873c",
   "metadata": {},
   "outputs": [
    {
     "data": {
      "text/plain": [
       "True"
      ]
     },
     "execution_count": 9,
     "metadata": {},
     "output_type": "execute_result"
    }
   ],
   "source": [
    "True is True"
   ]
  },
  {
   "cell_type": "code",
   "execution_count": 11,
   "id": "f80e0cd3",
   "metadata": {},
   "outputs": [
    {
     "data": {
      "text/plain": [
       "False"
      ]
     },
     "execution_count": 11,
     "metadata": {},
     "output_type": "execute_result"
    }
   ],
   "source": [
    "False is True"
   ]
  },
  {
   "cell_type": "code",
   "execution_count": 12,
   "id": "7f97a5e9",
   "metadata": {},
   "outputs": [
    {
     "data": {
      "text/plain": [
       "False"
      ]
     },
     "execution_count": 12,
     "metadata": {},
     "output_type": "execute_result"
    }
   ],
   "source": [
    "True is False"
   ]
  },
  {
   "cell_type": "code",
   "execution_count": 13,
   "id": "0deaf9ae",
   "metadata": {},
   "outputs": [
    {
     "name": "stderr",
     "output_type": "stream",
     "text": [
      "<>:1: SyntaxWarning: \"is\" with a literal. Did you mean \"==\"?\n",
      "<>:1: SyntaxWarning: \"is\" with a literal. Did you mean \"==\"?\n",
      "C:\\Users\\saura\\AppData\\Local\\Temp/ipykernel_3408/4112465208.py:1: SyntaxWarning: \"is\" with a literal. Did you mean \"==\"?\n",
      "  'a' is 'a'\n"
     ]
    },
    {
     "data": {
      "text/plain": [
       "True"
      ]
     },
     "execution_count": 13,
     "metadata": {},
     "output_type": "execute_result"
    }
   ],
   "source": [
    "'a' is 'a'"
   ]
  },
  {
   "cell_type": "code",
   "execution_count": 14,
   "id": "c12a1e23",
   "metadata": {},
   "outputs": [
    {
     "data": {
      "text/plain": [
       "2"
      ]
     },
     "execution_count": 14,
     "metadata": {},
     "output_type": "execute_result"
    }
   ],
   "source": [
    "True + True"
   ]
  },
  {
   "cell_type": "code",
   "execution_count": 15,
   "id": "18a85782",
   "metadata": {},
   "outputs": [
    {
     "data": {
      "text/plain": [
       "0"
      ]
     },
     "execution_count": 15,
     "metadata": {},
     "output_type": "execute_result"
    }
   ],
   "source": [
    "False + False"
   ]
  },
  {
   "cell_type": "code",
   "execution_count": 18,
   "id": "3062ce11",
   "metadata": {},
   "outputs": [],
   "source": [
    "#Remember One Thing \n",
    "\n",
    "#True=1\n",
    "\n",
    "#False=0"
   ]
  },
  {
   "cell_type": "code",
   "execution_count": 19,
   "id": "82554be8",
   "metadata": {},
   "outputs": [
    {
     "data": {
      "text/plain": [
       "0"
      ]
     },
     "execution_count": 19,
     "metadata": {},
     "output_type": "execute_result"
    }
   ],
   "source": [
    "False - False"
   ]
  },
  {
   "cell_type": "code",
   "execution_count": 20,
   "id": "3f36d1a5",
   "metadata": {},
   "outputs": [
    {
     "data": {
      "text/plain": [
       "-1"
      ]
     },
     "execution_count": 20,
     "metadata": {},
     "output_type": "execute_result"
    }
   ],
   "source": [
    "False - True"
   ]
  },
  {
   "cell_type": "code",
   "execution_count": 21,
   "id": "ae3947ad",
   "metadata": {},
   "outputs": [
    {
     "data": {
      "text/plain": [
       "True"
      ]
     },
     "execution_count": 21,
     "metadata": {},
     "output_type": "execute_result"
    }
   ],
   "source": [
    "10==10"
   ]
  },
  {
   "cell_type": "code",
   "execution_count": 22,
   "id": "1b964286",
   "metadata": {},
   "outputs": [
    {
     "data": {
      "text/plain": [
       "True"
      ]
     },
     "execution_count": 22,
     "metadata": {},
     "output_type": "execute_result"
    }
   ],
   "source": [
    "True and False or True"
   ]
  },
  {
   "cell_type": "code",
   "execution_count": 23,
   "id": "f7253529",
   "metadata": {},
   "outputs": [],
   "source": [
    "#Variables in python"
   ]
  },
  {
   "cell_type": "code",
   "execution_count": 24,
   "id": "8b658ace",
   "metadata": {},
   "outputs": [],
   "source": [
    "#Integer"
   ]
  },
  {
   "cell_type": "code",
   "execution_count": 25,
   "id": "da2a1a22",
   "metadata": {},
   "outputs": [],
   "source": [
    "x=12"
   ]
  },
  {
   "cell_type": "code",
   "execution_count": 26,
   "id": "e5d471ec",
   "metadata": {},
   "outputs": [
    {
     "data": {
      "text/plain": [
       "int"
      ]
     },
     "execution_count": 26,
     "metadata": {},
     "output_type": "execute_result"
    }
   ],
   "source": [
    "type(x)"
   ]
  },
  {
   "cell_type": "code",
   "execution_count": 27,
   "id": "6a91ccd7",
   "metadata": {},
   "outputs": [],
   "source": [
    "#Float"
   ]
  },
  {
   "cell_type": "code",
   "execution_count": 28,
   "id": "361d8f5b",
   "metadata": {},
   "outputs": [],
   "source": [
    "x=1.245"
   ]
  },
  {
   "cell_type": "code",
   "execution_count": 29,
   "id": "21185c19",
   "metadata": {},
   "outputs": [
    {
     "data": {
      "text/plain": [
       "float"
      ]
     },
     "execution_count": 29,
     "metadata": {},
     "output_type": "execute_result"
    }
   ],
   "source": [
    "type(x)"
   ]
  },
  {
   "cell_type": "code",
   "execution_count": 30,
   "id": "afed843b",
   "metadata": {},
   "outputs": [],
   "source": [
    "#Boolean"
   ]
  },
  {
   "cell_type": "code",
   "execution_count": 31,
   "id": "7024b589",
   "metadata": {},
   "outputs": [],
   "source": [
    "b1=True\n",
    "b2=False"
   ]
  },
  {
   "cell_type": "code",
   "execution_count": 32,
   "id": "6228dd5d",
   "metadata": {},
   "outputs": [
    {
     "data": {
      "text/plain": [
       "bool"
      ]
     },
     "execution_count": 32,
     "metadata": {},
     "output_type": "execute_result"
    }
   ],
   "source": [
    "type(b1)"
   ]
  },
  {
   "cell_type": "code",
   "execution_count": 33,
   "id": "eb4799fe",
   "metadata": {},
   "outputs": [],
   "source": [
    "#String"
   ]
  },
  {
   "cell_type": "code",
   "execution_count": 34,
   "id": "f6ca283f",
   "metadata": {},
   "outputs": [],
   "source": [
    "x='Saurav is Ex Mining Engineer'"
   ]
  },
  {
   "cell_type": "code",
   "execution_count": 35,
   "id": "cc926cae",
   "metadata": {},
   "outputs": [
    {
     "data": {
      "text/plain": [
       "str"
      ]
     },
     "execution_count": 35,
     "metadata": {},
     "output_type": "execute_result"
    }
   ],
   "source": [
    "type(x)"
   ]
  },
  {
   "cell_type": "code",
   "execution_count": 36,
   "id": "4a2f917d",
   "metadata": {},
   "outputs": [],
   "source": [
    "#complex Number i==j"
   ]
  },
  {
   "cell_type": "code",
   "execution_count": 37,
   "id": "07f69b7f",
   "metadata": {},
   "outputs": [],
   "source": [
    "x=2+4j"
   ]
  },
  {
   "cell_type": "code",
   "execution_count": 38,
   "id": "8f4de8e0",
   "metadata": {},
   "outputs": [
    {
     "data": {
      "text/plain": [
       "complex"
      ]
     },
     "execution_count": 38,
     "metadata": {},
     "output_type": "execute_result"
    }
   ],
   "source": [
    "type(x)"
   ]
  },
  {
   "cell_type": "code",
   "execution_count": 39,
   "id": "9f2eb828",
   "metadata": {},
   "outputs": [],
   "source": [
    "#Variables"
   ]
  },
  {
   "cell_type": "code",
   "execution_count": 42,
   "id": "dd605c03",
   "metadata": {},
   "outputs": [
    {
     "data": {
      "text/plain": [
       "10"
      ]
     },
     "execution_count": 42,
     "metadata": {},
     "output_type": "execute_result"
    }
   ],
   "source": [
    "tenth=10\n",
    "tenth\n",
    "#variable=tenth"
   ]
  },
  {
   "cell_type": "code",
   "execution_count": 43,
   "id": "cca432f0",
   "metadata": {},
   "outputs": [],
   "source": [
    "#Dynamic Typing"
   ]
  },
  {
   "cell_type": "code",
   "execution_count": 44,
   "id": "a3b3801e",
   "metadata": {},
   "outputs": [],
   "source": [
    "ten=10"
   ]
  },
  {
   "cell_type": "code",
   "execution_count": 45,
   "id": "f0941c2c",
   "metadata": {},
   "outputs": [
    {
     "data": {
      "text/plain": [
       "10"
      ]
     },
     "execution_count": 45,
     "metadata": {},
     "output_type": "execute_result"
    }
   ],
   "source": [
    "ten"
   ]
  },
  {
   "cell_type": "code",
   "execution_count": 46,
   "id": "2a4473ec",
   "metadata": {},
   "outputs": [],
   "source": [
    "ten='ten'"
   ]
  },
  {
   "cell_type": "code",
   "execution_count": 47,
   "id": "99130ae4",
   "metadata": {},
   "outputs": [
    {
     "data": {
      "text/plain": [
       "'ten'"
      ]
     },
     "execution_count": 47,
     "metadata": {},
     "output_type": "execute_result"
    }
   ],
   "source": [
    "ten"
   ]
  },
  {
   "cell_type": "code",
   "execution_count": 48,
   "id": "bf2a5d77",
   "metadata": {},
   "outputs": [],
   "source": [
    "#how to add integer + string\n",
    "#see how to join"
   ]
  },
  {
   "cell_type": "code",
   "execution_count": 51,
   "id": "5a5c73f6",
   "metadata": {},
   "outputs": [],
   "source": [
    "x='Day'+str(10)"
   ]
  },
  {
   "cell_type": "code",
   "execution_count": 52,
   "id": "16d2547d",
   "metadata": {},
   "outputs": [
    {
     "data": {
      "text/plain": [
       "str"
      ]
     },
     "execution_count": 52,
     "metadata": {},
     "output_type": "execute_result"
    }
   ],
   "source": [
    "type(x)"
   ]
  },
  {
   "cell_type": "code",
   "execution_count": null,
   "id": "eeca9877",
   "metadata": {},
   "outputs": [],
   "source": [
    "#This Is For Today.. \n",
    "#Student of Datatrained.."
   ]
  }
 ],
 "metadata": {
  "kernelspec": {
   "display_name": "Python 3 (ipykernel)",
   "language": "python",
   "name": "python3"
  },
  "language_info": {
   "codemirror_mode": {
    "name": "ipython",
    "version": 3
   },
   "file_extension": ".py",
   "mimetype": "text/x-python",
   "name": "python",
   "nbconvert_exporter": "python",
   "pygments_lexer": "ipython3",
   "version": "3.9.7"
  }
 },
 "nbformat": 4,
 "nbformat_minor": 5
}
