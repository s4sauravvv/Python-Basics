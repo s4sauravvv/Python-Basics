{
 "cells": [
  {
   "cell_type": "code",
   "execution_count": null,
   "id": "c27ac47b",
   "metadata": {},
   "outputs": [],
   "source": [
    "#Jai Hind #Jai Shree Ram== Jai Shree Ram"
   ]
  },
  {
   "cell_type": "code",
   "execution_count": 1,
   "id": "d2c11525",
   "metadata": {},
   "outputs": [],
   "source": [
    "#Variables and Data Types"
   ]
  },
  {
   "cell_type": "code",
   "execution_count": 3,
   "id": "5b750cde",
   "metadata": {},
   "outputs": [
    {
     "name": "stdout",
     "output_type": "stream",
     "text": [
      "20 is a <class 'int'>\n"
     ]
    }
   ],
   "source": [
    "#1=Numbers\n",
    "a=20\n",
    "print(a,'is a',type(a))"
   ]
  },
  {
   "cell_type": "code",
   "execution_count": 5,
   "id": "446eae72",
   "metadata": {},
   "outputs": [
    {
     "name": "stdout",
     "output_type": "stream",
     "text": [
      "Saurav From Coal india Limited is a <class 'str'>\n"
     ]
    }
   ],
   "source": [
    "#2-String\n",
    "a='Saurav From Coal india Limited'\n",
    "print(a,'is a',type(a))"
   ]
  },
  {
   "cell_type": "code",
   "execution_count": 7,
   "id": "3475f20e",
   "metadata": {},
   "outputs": [
    {
     "name": "stdout",
     "output_type": "stream",
     "text": [
      "[12, 23, 44, 69, 78] is a <class 'list'>\n"
     ]
    }
   ],
   "source": [
    "#3-List\n",
    "l1=[12,23,44,69,78]\n",
    "print(l1,'is a',type(l1))"
   ]
  },
  {
   "cell_type": "code",
   "execution_count": 9,
   "id": "a1715179",
   "metadata": {},
   "outputs": [
    {
     "name": "stdout",
     "output_type": "stream",
     "text": [
      "(14, 25, 36, 47, 58, 69) is a <class 'tuple'>\n"
     ]
    }
   ],
   "source": [
    "#4-Tuple\n",
    "t1=(14,25,36,47,58,69)\n",
    "print(t1,'is a',type(t1))"
   ]
  },
  {
   "cell_type": "code",
   "execution_count": 10,
   "id": "66da5222",
   "metadata": {},
   "outputs": [
    {
     "name": "stdout",
     "output_type": "stream",
     "text": [
      "{36, 69, 25, 58, 14, 47} is a <class 'set'>\n"
     ]
    }
   ],
   "source": [
    "#5-set\n",
    "s1={14,25,36,47,58,69}\n",
    "print(s1,'is a',type(s1))"
   ]
  },
  {
   "cell_type": "code",
   "execution_count": 13,
   "id": "a2c046c3",
   "metadata": {},
   "outputs": [
    {
     "name": "stdout",
     "output_type": "stream",
     "text": [
      "{'saurav': 'always single', 'rohit': 'Pragya', 'Yashu': 'Garima'} is a <class 'dict'>\n"
     ]
    }
   ],
   "source": [
    "#6-Dictionary\n",
    "d1={'saurav':'always single','rohit':'Pragya','Yashu':'Garima'}\n",
    "print(d1,'is a',type(d1))"
   ]
  },
  {
   "cell_type": "code",
   "execution_count": null,
   "id": "942cbedd",
   "metadata": {},
   "outputs": [],
   "source": [
    "#Python by Shankar sir\n",
    "#Student of Datatrained"
   ]
  },
  {
   "cell_type": "code",
   "execution_count": null,
   "id": "37ebe027",
   "metadata": {},
   "outputs": [],
   "source": []
  },
  {
   "cell_type": "code",
   "execution_count": null,
   "id": "d04b93c1",
   "metadata": {},
   "outputs": [],
   "source": []
  }
 ],
 "metadata": {
  "kernelspec": {
   "display_name": "Python 3 (ipykernel)",
   "language": "python",
   "name": "python3"
  },
  "language_info": {
   "codemirror_mode": {
    "name": "ipython",
    "version": 3
   },
   "file_extension": ".py",
   "mimetype": "text/x-python",
   "name": "python",
   "nbconvert_exporter": "python",
   "pygments_lexer": "ipython3",
   "version": "3.9.7"
  }
 },
 "nbformat": 4,
 "nbformat_minor": 5
}
