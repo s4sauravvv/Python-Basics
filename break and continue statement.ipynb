{
 "cells": [
  {
   "cell_type": "code",
   "execution_count": 12,
   "id": "8057b80a",
   "metadata": {},
   "outputs": [],
   "source": [
    "#Break and Continue Statement\n",
    "#when we have a statement , then we have to break from the middile of the statement we can use break statement.\n",
    "#use break statement inside loop.\n",
    "#example:-"
   ]
  },
  {
   "cell_type": "code",
   "execution_count": 13,
   "id": "a9088f98",
   "metadata": {},
   "outputs": [
    {
     "name": "stdout",
     "output_type": "stream",
     "text": [
      "s\n",
      "t\n",
      "r\n",
      "i\n",
      "the end\n"
     ]
    }
   ],
   "source": [
    "for val in \"string\":\n",
    "    if val=='n':\n",
    "        break\n",
    "    print(val)\n",
    "print(\"the end\")    \n",
    "    "
   ]
  },
  {
   "cell_type": "code",
   "execution_count": 14,
   "id": "5e9e39ca",
   "metadata": {},
   "outputs": [],
   "source": [
    "#check in integer"
   ]
  },
  {
   "cell_type": "code",
   "execution_count": 15,
   "id": "0b31ca60",
   "metadata": {},
   "outputs": [
    {
     "name": "stdout",
     "output_type": "stream",
     "text": [
      "12\n",
      "25\n",
      "36\n",
      "47\n"
     ]
    }
   ],
   "source": [
    "for val in [12,25,36,47,58,69]:\n",
    "    if val==58:\n",
    "        break\n",
    "    print(val)    "
   ]
  },
  {
   "cell_type": "code",
   "execution_count": 16,
   "id": "b4812383",
   "metadata": {},
   "outputs": [],
   "source": [
    "#now use continue method"
   ]
  },
  {
   "cell_type": "code",
   "execution_count": 17,
   "id": "9baa33e4",
   "metadata": {},
   "outputs": [
    {
     "name": "stdout",
     "output_type": "stream",
     "text": [
      "s\n",
      "t\n",
      "r\n",
      "n\n",
      "g\n"
     ]
    }
   ],
   "source": [
    "for val in \"string\":\n",
    "    if val==\"i\":\n",
    "        continue\n",
    "    print(val)    \n",
    "        \n",
    "\n",
    "    "
   ]
  },
  {
   "cell_type": "code",
   "execution_count": 18,
   "id": "fefaad1a",
   "metadata": {},
   "outputs": [],
   "source": [
    "#how to use break and continue statement together."
   ]
  },
  {
   "cell_type": "code",
   "execution_count": 22,
   "id": "5836d532",
   "metadata": {},
   "outputs": [
    {
     "name": "stdout",
     "output_type": "stream",
     "text": [
      "s\n",
      "a\n",
      "u\n",
      "r\n",
      "a\n",
      "s\n",
      "h\n",
      "r\n",
      "i\n",
      "a\n",
      "The End\n"
     ]
    }
   ],
   "source": [
    "for val in \"sauravshrivatsva\":\n",
    "    if val==\"v\":\n",
    "        continue\n",
    "    else:\n",
    "        if val==\"t\":\n",
    "            break\n",
    "        else:\n",
    "            print(val)\n",
    "print(\"The End\")            \n",
    "            \n",
    "         \n",
    "        "
   ]
  },
  {
   "cell_type": "code",
   "execution_count": null,
   "id": "73baa187",
   "metadata": {},
   "outputs": [],
   "source": [
    "#Basics of Break and Continue statement\n",
    "#python by shankar sir\n",
    "#student of datatrained"
   ]
  }
 ],
 "metadata": {
  "kernelspec": {
   "display_name": "Python 3 (ipykernel)",
   "language": "python",
   "name": "python3"
  },
  "language_info": {
   "codemirror_mode": {
    "name": "ipython",
    "version": 3
   },
   "file_extension": ".py",
   "mimetype": "text/x-python",
   "name": "python",
   "nbconvert_exporter": "python",
   "pygments_lexer": "ipython3",
   "version": "3.9.7"
  }
 },
 "nbformat": 4,
 "nbformat_minor": 5
}
