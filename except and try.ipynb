{
 "cells": [
  {
   "cell_type": "code",
   "execution_count": 1,
   "id": "f2c3e81a",
   "metadata": {},
   "outputs": [],
   "source": [
    "#Exception Hnadling\n",
    "#Exceptional handling is a process of detecting error during execution of code and checking with try,except,else method."
   ]
  },
  {
   "cell_type": "code",
   "execution_count": 2,
   "id": "cdece49e",
   "metadata": {},
   "outputs": [
    {
     "name": "stdout",
     "output_type": "stream",
     "text": [
      "content are wrong\n"
     ]
    }
   ],
   "source": [
    "try:\n",
    "    f=open(\"text\",'r')\n",
    "    f.write()\n",
    "except:\n",
    "    print('content are wrong')\n",
    "else:\n",
    "    print('content written sucessfully')\n",
    "    f.close"
   ]
  },
  {
   "cell_type": "code",
   "execution_count": 3,
   "id": "46981e9e",
   "metadata": {},
   "outputs": [],
   "source": [
    "#its mean we have to write a name in write(\"text file\")."
   ]
  },
  {
   "cell_type": "code",
   "execution_count": 4,
   "id": "a5c4d72e",
   "metadata": {},
   "outputs": [
    {
     "name": "stdout",
     "output_type": "stream",
     "text": [
      "content written sucessfully\n"
     ]
    }
   ],
   "source": [
    "try:\n",
    "    f=open(\"text\",\"w\")\n",
    "    f.write('text file')\n",
    "except:\n",
    "    print(\"content not written\")\n",
    "else:\n",
    "    print(\"content written sucessfully\")\n",
    "    f.close()"
   ]
  },
  {
   "cell_type": "code",
   "execution_count": 5,
   "id": "77cc15a1",
   "metadata": {},
   "outputs": [],
   "source": [
    "#now check with other option,#why its not written because we command for read and multiply with write."
   ]
  },
  {
   "cell_type": "code",
   "execution_count": 6,
   "id": "757350da",
   "metadata": {},
   "outputs": [
    {
     "name": "stdout",
     "output_type": "stream",
     "text": [
      "content not written\n"
     ]
    }
   ],
   "source": [
    "try:\n",
    "    f=open(\"text\",\"r\")\n",
    "    f.write('text write')\n",
    "except:\n",
    "    print(\"content not written\")\n",
    "else:\n",
    "    print(\"content written sucessfully\")\n",
    "    f.close"
   ]
  },
  {
   "cell_type": "code",
   "execution_count": 7,
   "id": "9bd5af0b",
   "metadata": {},
   "outputs": [],
   "source": [
    "#lets introduce FINALLY :Its work with giving result all time.\n",
    "#lets check with example\n"
   ]
  },
  {
   "cell_type": "code",
   "execution_count": 8,
   "id": "d1b6c681",
   "metadata": {},
   "outputs": [
    {
     "name": "stdout",
     "output_type": "stream",
     "text": [
      "saurav is ex mining engineer\n"
     ]
    },
    {
     "ename": "TypeError",
     "evalue": "TextIOWrapper.write() takes exactly one argument (0 given)",
     "output_type": "error",
     "traceback": [
      "\u001b[1;31m---------------------------------------------------------------------------\u001b[0m",
      "\u001b[1;31mTypeError\u001b[0m                                 Traceback (most recent call last)",
      "\u001b[1;32m~\\AppData\\Local\\Temp/ipykernel_3164/3853641689.py\u001b[0m in \u001b[0;36m<module>\u001b[1;34m\u001b[0m\n\u001b[0;32m      1\u001b[0m \u001b[1;32mtry\u001b[0m\u001b[1;33m:\u001b[0m\u001b[1;33m\u001b[0m\u001b[1;33m\u001b[0m\u001b[0m\n\u001b[0;32m      2\u001b[0m     \u001b[0mf\u001b[0m\u001b[1;33m=\u001b[0m\u001b[0mopen\u001b[0m\u001b[1;33m(\u001b[0m\u001b[1;34m\"text\"\u001b[0m\u001b[1;33m,\u001b[0m\u001b[1;34m\"r\"\u001b[0m\u001b[1;33m)\u001b[0m\u001b[1;33m\u001b[0m\u001b[1;33m\u001b[0m\u001b[0m\n\u001b[1;32m----> 3\u001b[1;33m     \u001b[0mf\u001b[0m\u001b[1;33m.\u001b[0m\u001b[0mwrite\u001b[0m\u001b[1;33m(\u001b[0m\u001b[1;33m)\u001b[0m\u001b[1;33m\u001b[0m\u001b[1;33m\u001b[0m\u001b[0m\n\u001b[0m\u001b[0;32m      4\u001b[0m \u001b[1;33m\u001b[0m\u001b[0m\n\u001b[0;32m      5\u001b[0m \u001b[1;32mfinally\u001b[0m\u001b[1;33m:\u001b[0m\u001b[1;33m\u001b[0m\u001b[1;33m\u001b[0m\u001b[0m\n",
      "\u001b[1;31mTypeError\u001b[0m: TextIOWrapper.write() takes exactly one argument (0 given)"
     ]
    }
   ],
   "source": [
    "try:\n",
    "    f=open(\"text\",\"r\")\n",
    "    f.write()\n",
    "\n",
    "finally:\n",
    "    print(\"saurav is ex mining engineer\")\n",
    "    f.close\n",
    "    "
   ]
  },
  {
   "cell_type": "code",
   "execution_count": 9,
   "id": "b87d6ed0",
   "metadata": {},
   "outputs": [],
   "source": [
    "#we can you use conjuction with except, lets see a new example that will take into account a use putting in the writing input. "
   ]
  },
  {
   "cell_type": "code",
   "execution_count": 10,
   "id": "b988a46e",
   "metadata": {},
   "outputs": [],
   "source": [
    "def askint():\n",
    "    try:\n",
    "        val=int(input(\"enter an integer\"))\n",
    "    except:\n",
    "        print(\"look like you did not enter an integer\")\n",
    "    finally:\n",
    "        print(\"finally, i executed\")\n",
    "    print(val)"
   ]
  },
  {
   "cell_type": "code",
   "execution_count": 11,
   "id": "5a4180e8",
   "metadata": {},
   "outputs": [
    {
     "name": "stdout",
     "output_type": "stream",
     "text": [
      "enter an integer12\n",
      "finally, i executed\n",
      "12\n"
     ]
    }
   ],
   "source": [
    "askint()"
   ]
  },
  {
   "cell_type": "code",
   "execution_count": 12,
   "id": "4c5d7e51",
   "metadata": {},
   "outputs": [],
   "source": [
    "#if you did not wnter an integer they show you \"looks like you did not enter an integer\""
   ]
  },
  {
   "cell_type": "code",
   "execution_count": 13,
   "id": "13755fa1",
   "metadata": {},
   "outputs": [],
   "source": [
    "#lets try with other methods"
   ]
  },
  {
   "cell_type": "code",
   "execution_count": 19,
   "id": "b37e708e",
   "metadata": {},
   "outputs": [],
   "source": [
    "def askinput():\n",
    "    try:\n",
    "        val=int(input(\"enter an string\"))\n",
    "    except:\n",
    "        print(\"looks like you did not enter an integer\")\n",
    "        val=int(input(\"lets try again enter an string\"))\n",
    "    finally:\n",
    "        print('yee thats an string')\n",
    "        print(val)"
   ]
  },
  {
   "cell_type": "code",
   "execution_count": null,
   "id": "8c33e836",
   "metadata": {},
   "outputs": [
    {
     "name": "stdout",
     "output_type": "stream",
     "text": [
      "enter an stringas\n",
      "looks like you did not enter an integer\n"
     ]
    }
   ],
   "source": [
    "askinput()"
   ]
  },
  {
   "cell_type": "code",
   "execution_count": null,
   "id": "5f99dce3",
   "metadata": {},
   "outputs": [],
   "source": [
    "#lets try with break and continue method."
   ]
  },
  {
   "cell_type": "code",
   "execution_count": null,
   "id": "394519f2",
   "metadata": {},
   "outputs": [],
   "source": [
    "def askint():\n",
    "    while True:\n",
    "        try:\n",
    "            val=int(input(\"enter an integer\"))\n",
    "        except:\n",
    "            print('look like you did not enter an integer')\n",
    "            continue\n",
    "        else:\n",
    "            print('thata an integer')\n",
    "        finally:\n",
    "            print('saurav')\n",
    "        print(val) "
   ]
  },
  {
   "cell_type": "code",
   "execution_count": null,
   "id": "c90af5e5",
   "metadata": {},
   "outputs": [],
   "source": [
    "askint()\n",
    "#lets check and enjot because this code is right.\n",
    "#jab tak integer input nahi kroge tab tak \"enter an integer aata hi rahega\""
   ]
  },
  {
   "cell_type": "code",
   "execution_count": null,
   "id": "cca9c3e0",
   "metadata": {},
   "outputs": [],
   "source": [
    "#thats the basics of try ,except,else\n",
    "#student of datatrained-saurav"
   ]
  }
 ],
 "metadata": {
  "kernelspec": {
   "display_name": "Python 3 (ipykernel)",
   "language": "python",
   "name": "python3"
  },
  "language_info": {
   "codemirror_mode": {
    "name": "ipython",
    "version": 3
   },
   "file_extension": ".py",
   "mimetype": "text/x-python",
   "name": "python",
   "nbconvert_exporter": "python",
   "pygments_lexer": "ipython3",
   "version": "3.9.7"
  }
 },
 "nbformat": 4,
 "nbformat_minor": 5
}
