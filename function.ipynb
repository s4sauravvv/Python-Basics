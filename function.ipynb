{
 "cells": [
  {
   "cell_type": "code",
   "execution_count": 1,
   "id": "4cf59b3f",
   "metadata": {},
   "outputs": [],
   "source": [
    "#Function"
   ]
  },
  {
   "cell_type": "code",
   "execution_count": 2,
   "id": "3660ab7c",
   "metadata": {},
   "outputs": [],
   "source": [
    "def say_hello():\n",
    "    print('hello')"
   ]
  },
  {
   "cell_type": "code",
   "execution_count": 3,
   "id": "5f9ace2a",
   "metadata": {},
   "outputs": [
    {
     "name": "stdout",
     "output_type": "stream",
     "text": [
      "hello\n"
     ]
    }
   ],
   "source": [
    "say_hello()"
   ]
  },
  {
   "cell_type": "code",
   "execution_count": 4,
   "id": "a6ea2672",
   "metadata": {},
   "outputs": [],
   "source": [
    "#check with another example"
   ]
  },
  {
   "cell_type": "code",
   "execution_count": 5,
   "id": "54b0147f",
   "metadata": {},
   "outputs": [],
   "source": [
    "def greeting(name):\n",
    "    print('hello',name)"
   ]
  },
  {
   "cell_type": "code",
   "execution_count": 6,
   "id": "b51430c9",
   "metadata": {},
   "outputs": [
    {
     "name": "stdout",
     "output_type": "stream",
     "text": [
      "hello saurav\n"
     ]
    }
   ],
   "source": [
    "greeting(\"saurav\")"
   ]
  },
  {
   "cell_type": "code",
   "execution_count": 7,
   "id": "5854bd2b",
   "metadata": {},
   "outputs": [],
   "source": [
    "#using return fucntion to use mathematical uperation\\\n"
   ]
  },
  {
   "cell_type": "code",
   "execution_count": 9,
   "id": "8581c5e3",
   "metadata": {},
   "outputs": [],
   "source": [
    "def add_num(num1,num2):\n",
    "    return num1+num2"
   ]
  },
  {
   "cell_type": "code",
   "execution_count": 10,
   "id": "9def290c",
   "metadata": {},
   "outputs": [
    {
     "data": {
      "text/plain": [
       "4"
      ]
     },
     "execution_count": 10,
     "metadata": {},
     "output_type": "execute_result"
    }
   ],
   "source": [
    "add_num(2,2)"
   ]
  },
  {
   "cell_type": "code",
   "execution_count": 11,
   "id": "150bf9aa",
   "metadata": {},
   "outputs": [],
   "source": [
    "#we can easily store the number in different variable\n",
    "#like see example"
   ]
  },
  {
   "cell_type": "code",
   "execution_count": 13,
   "id": "3cb83a9d",
   "metadata": {},
   "outputs": [],
   "source": [
    "result=add_num(9,78)"
   ]
  },
  {
   "cell_type": "code",
   "execution_count": 14,
   "id": "fe4e46c9",
   "metadata": {},
   "outputs": [
    {
     "data": {
      "text/plain": [
       "87"
      ]
     },
     "execution_count": 14,
     "metadata": {},
     "output_type": "execute_result"
    }
   ],
   "source": [
    "result"
   ]
  },
  {
   "cell_type": "code",
   "execution_count": 15,
   "id": "955b295c",
   "metadata": {},
   "outputs": [],
   "source": [
    "#what happen in add the \"string\":"
   ]
  },
  {
   "cell_type": "code",
   "execution_count": 16,
   "id": "43d9df6d",
   "metadata": {},
   "outputs": [],
   "source": [
    "def add_string(str1,str2):\n",
    "    return str1+str2"
   ]
  },
  {
   "cell_type": "code",
   "execution_count": 19,
   "id": "26c9f161",
   "metadata": {},
   "outputs": [
    {
     "data": {
      "text/plain": [
       "'oneday'"
      ]
     },
     "execution_count": 19,
     "metadata": {},
     "output_type": "execute_result"
    }
   ],
   "source": [
    "add_string('one','day')"
   ]
  },
  {
   "cell_type": "code",
   "execution_count": 20,
   "id": "166ec7ed",
   "metadata": {},
   "outputs": [],
   "source": [
    "#like this see how we can add the string>"
   ]
  },
  {
   "cell_type": "code",
   "execution_count": 37,
   "id": "7760ed9b",
   "metadata": {},
   "outputs": [],
   "source": [
    "#now try with break and continue method.\n",
    "#lets check odd and even number"
   ]
  },
  {
   "cell_type": "code",
   "execution_count": 39,
   "id": "02ba54b1",
   "metadata": {},
   "outputs": [],
   "source": [
    "def odd_even(num):\n",
    "    for n in range(2,num):\n",
    "        if num%n==0:\n",
    "            print('its even')\n",
    "            break\n",
    "    else:\n",
    "        print('its odd')\n",
    "            "
   ]
  },
  {
   "cell_type": "code",
   "execution_count": 47,
   "id": "15f4ee74",
   "metadata": {},
   "outputs": [
    {
     "name": "stdout",
     "output_type": "stream",
     "text": [
      "its even\n"
     ]
    }
   ],
   "source": [
    "odd_even(10)\n"
   ]
  },
  {
   "cell_type": "code",
   "execution_count": 62,
   "id": "b935d4c5",
   "metadata": {},
   "outputs": [],
   "source": [
    "# **TASK**\n",
    "#-def funtion with 3 arguments:\n",
    "#-call function with 1 string and 2 integer\n",
    "#-apply any maths operation and when you print output should look like\n",
    "#-congrats your_name ,you have got 95 marks.\n",
    "\n",
    "\n",
    "\n",
    "\n",
    "\n",
    "\n",
    "\n",
    "\n",
    "#if you dont able to do, check my github profile and  go the top first post in my account you will get the solution with easy codes \n"
   ]
  },
  {
   "cell_type": "code",
   "execution_count": 48,
   "id": "6739b443",
   "metadata": {},
   "outputs": [],
   "source": [
    "#lets intoduce *args method.\n",
    "#what is args method = args in generally used in the place of agrument in function method.we can use args method for -\n",
    "#putting the val in position of args anytime. after executed fuction method.args generaly denote with *args.\n",
    "\n",
    "#lets see the example"
   ]
  },
  {
   "cell_type": "code",
   "execution_count": 52,
   "id": "5eb875bc",
   "metadata": {},
   "outputs": [],
   "source": [
    "def my_fun(*args):\n",
    "    for i in args:\n",
    "        print('my_args',i)"
   ]
  },
  {
   "cell_type": "code",
   "execution_count": 56,
   "id": "8ab6e117",
   "metadata": {},
   "outputs": [
    {
     "name": "stdout",
     "output_type": "stream",
     "text": [
      "my_args text funtion\n"
     ]
    }
   ],
   "source": [
    "my_fun('text funtion')"
   ]
  },
  {
   "cell_type": "code",
   "execution_count": 57,
   "id": "ccb32f54",
   "metadata": {},
   "outputs": [],
   "source": [
    "# **kwargs method.=kwargs method take key and value like dictionary "
   ]
  },
  {
   "cell_type": "code",
   "execution_count": 59,
   "id": "39b797f1",
   "metadata": {},
   "outputs": [],
   "source": [
    "def my_kwargs(**kwargs):\n",
    "    for key,value in kwargs.items():\n",
    "        print(key,value)"
   ]
  },
  {
   "cell_type": "code",
   "execution_count": 60,
   "id": "8e86127d",
   "metadata": {},
   "outputs": [
    {
     "name": "stdout",
     "output_type": "stream",
     "text": [
      "name ['saurav', 'rohit']\n",
      "occupation ['student', 'govt employee']\n"
     ]
    }
   ],
   "source": [
    "my_kwargs(name=['saurav','rohit'],occupation=['student','govt employee'])"
   ]
  },
  {
   "cell_type": "code",
   "execution_count": null,
   "id": "93aaea49",
   "metadata": {},
   "outputs": [],
   "source": [
    "#TASK\n",
    "#-def function,use  kwargs and printonly statement.\n",
    "#-Age=[25,30,35,40]\n",
    "#salary=[25000,30000,35000,40000]\n",
    "\n",
    "\n",
    "\n",
    "\n",
    "\n",
    "\n",
    "#if you dont able to do, check my github profile and  go the top first post in my account you will get the solution with easy codes "
   ]
  },
  {
   "cell_type": "code",
   "execution_count": null,
   "id": "1fb4bb9c",
   "metadata": {},
   "outputs": [],
   "source": [
    "#basics of funtion\n",
    "#student of datatrained-saurav"
   ]
  }
 ],
 "metadata": {
  "kernelspec": {
   "display_name": "Python 3 (ipykernel)",
   "language": "python",
   "name": "python3"
  },
  "language_info": {
   "codemirror_mode": {
    "name": "ipython",
    "version": 3
   },
   "file_extension": ".py",
   "mimetype": "text/x-python",
   "name": "python",
   "nbconvert_exporter": "python",
   "pygments_lexer": "ipython3",
   "version": "3.9.7"
  }
 },
 "nbformat": 4,
 "nbformat_minor": 5
}
