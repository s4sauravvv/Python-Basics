{
 "cells": [
  {
   "cell_type": "code",
   "execution_count": null,
   "id": "ed42d2d1",
   "metadata": {},
   "outputs": [],
   "source": [
    "#Basics Of Numpy\n"
   ]
  },
  {
   "cell_type": "code",
   "execution_count": 1,
   "id": "8e1cf640",
   "metadata": {},
   "outputs": [],
   "source": [
    "import numpy as np"
   ]
  },
  {
   "cell_type": "code",
   "execution_count": 2,
   "id": "58728e93",
   "metadata": {},
   "outputs": [],
   "source": [
    "n1=np.array([10,20,30,40,50,60])"
   ]
  },
  {
   "cell_type": "code",
   "execution_count": 5,
   "id": "813f4420",
   "metadata": {},
   "outputs": [
    {
     "data": {
      "text/plain": [
       "array([10, 20, 30, 40, 50, 60])"
      ]
     },
     "execution_count": 5,
     "metadata": {},
     "output_type": "execute_result"
    }
   ],
   "source": [
    "n1"
   ]
  },
  {
   "cell_type": "code",
   "execution_count": 6,
   "id": "759fde8e",
   "metadata": {},
   "outputs": [],
   "source": [
    "#Multi Dimensional array"
   ]
  },
  {
   "cell_type": "code",
   "execution_count": 10,
   "id": "ecd9f24a",
   "metadata": {},
   "outputs": [],
   "source": [
    "n2=np.array([[10,20,30],[40,50,60]])"
   ]
  },
  {
   "cell_type": "code",
   "execution_count": 11,
   "id": "8dd6cc29",
   "metadata": {},
   "outputs": [
    {
     "data": {
      "text/plain": [
       "array([[10, 20, 30],\n",
       "       [40, 50, 60]])"
      ]
     },
     "execution_count": 11,
     "metadata": {},
     "output_type": "execute_result"
    }
   ],
   "source": [
    "n2"
   ]
  },
  {
   "cell_type": "code",
   "execution_count": 13,
   "id": "fd1fec18",
   "metadata": {},
   "outputs": [],
   "source": [
    "#initializing numpy array\n",
    "#initializing numpy array with zero\n",
    "#they show us to how much we need row and column."
   ]
  },
  {
   "cell_type": "code",
   "execution_count": 15,
   "id": "917be953",
   "metadata": {},
   "outputs": [],
   "source": [
    "n1=np.zeros((1,2))"
   ]
  },
  {
   "cell_type": "code",
   "execution_count": 16,
   "id": "439451a7",
   "metadata": {},
   "outputs": [
    {
     "data": {
      "text/plain": [
       "array([[0., 0.]])"
      ]
     },
     "execution_count": 16,
     "metadata": {},
     "output_type": "execute_result"
    }
   ],
   "source": [
    "n1"
   ]
  },
  {
   "cell_type": "code",
   "execution_count": 17,
   "id": "d509ea1d",
   "metadata": {},
   "outputs": [],
   "source": [
    "n1=np.zeros((5,6))"
   ]
  },
  {
   "cell_type": "code",
   "execution_count": 18,
   "id": "e453caf6",
   "metadata": {},
   "outputs": [
    {
     "data": {
      "text/plain": [
       "array([[0., 0., 0., 0., 0., 0.],\n",
       "       [0., 0., 0., 0., 0., 0.],\n",
       "       [0., 0., 0., 0., 0., 0.],\n",
       "       [0., 0., 0., 0., 0., 0.],\n",
       "       [0., 0., 0., 0., 0., 0.]])"
      ]
     },
     "execution_count": 18,
     "metadata": {},
     "output_type": "execute_result"
    }
   ],
   "source": [
    "n1"
   ]
  },
  {
   "cell_type": "code",
   "execution_count": 23,
   "id": "1f436ba1",
   "metadata": {},
   "outputs": [],
   "source": [
    "#initializing numpy array with same number\n",
    "#in full method we also give the numbers for making a row and column"
   ]
  },
  {
   "cell_type": "code",
   "execution_count": 21,
   "id": "38a2e736",
   "metadata": {},
   "outputs": [],
   "source": [
    "n1=np.full((5,6),10)"
   ]
  },
  {
   "cell_type": "code",
   "execution_count": 22,
   "id": "2862ba66",
   "metadata": {},
   "outputs": [
    {
     "data": {
      "text/plain": [
       "array([[10, 10, 10, 10, 10, 10],\n",
       "       [10, 10, 10, 10, 10, 10],\n",
       "       [10, 10, 10, 10, 10, 10],\n",
       "       [10, 10, 10, 10, 10, 10],\n",
       "       [10, 10, 10, 10, 10, 10]])"
      ]
     },
     "execution_count": 22,
     "metadata": {},
     "output_type": "execute_result"
    }
   ],
   "source": [
    "n1"
   ]
  },
  {
   "cell_type": "code",
   "execution_count": 24,
   "id": "9dbe851e",
   "metadata": {},
   "outputs": [],
   "source": [
    "#initializing numpy with range"
   ]
  },
  {
   "cell_type": "code",
   "execution_count": 25,
   "id": "ad0b0ca5",
   "metadata": {},
   "outputs": [],
   "source": [
    "n1=np.arange(10,20)"
   ]
  },
  {
   "cell_type": "code",
   "execution_count": 26,
   "id": "83daf90d",
   "metadata": {},
   "outputs": [
    {
     "data": {
      "text/plain": [
       "array([10, 11, 12, 13, 14, 15, 16, 17, 18, 19])"
      ]
     },
     "execution_count": 26,
     "metadata": {},
     "output_type": "execute_result"
    }
   ],
   "source": [
    "n1"
   ]
  },
  {
   "cell_type": "code",
   "execution_count": 31,
   "id": "a3ade54d",
   "metadata": {},
   "outputs": [],
   "source": [
    "n1=np.arange(10,530,10)"
   ]
  },
  {
   "cell_type": "code",
   "execution_count": 32,
   "id": "d966e77a",
   "metadata": {},
   "outputs": [
    {
     "data": {
      "text/plain": [
       "array([ 10,  20,  30,  40,  50,  60,  70,  80,  90, 100, 110, 120, 130,\n",
       "       140, 150, 160, 170, 180, 190, 200, 210, 220, 230, 240, 250, 260,\n",
       "       270, 280, 290, 300, 310, 320, 330, 340, 350, 360, 370, 380, 390,\n",
       "       400, 410, 420, 430, 440, 450, 460, 470, 480, 490, 500, 510, 520])"
      ]
     },
     "execution_count": 32,
     "metadata": {},
     "output_type": "execute_result"
    }
   ],
   "source": [
    "n1"
   ]
  },
  {
   "cell_type": "code",
   "execution_count": 33,
   "id": "5a0bac7c",
   "metadata": {},
   "outputs": [],
   "source": [
    "#initializing numpy with random number\n"
   ]
  },
  {
   "cell_type": "code",
   "execution_count": 36,
   "id": "5a5dafe7",
   "metadata": {},
   "outputs": [],
   "source": [
    "n1=np.random.randint(1,100,10)"
   ]
  },
  {
   "cell_type": "code",
   "execution_count": 44,
   "id": "9ea55826",
   "metadata": {},
   "outputs": [
    {
     "data": {
      "text/plain": [
       "array([25, 91, 53, 91, 76, 85, 13, 38, 73, 58])"
      ]
     },
     "execution_count": 44,
     "metadata": {},
     "output_type": "execute_result"
    }
   ],
   "source": [
    "n1\n"
   ]
  },
  {
   "cell_type": "code",
   "execution_count": 46,
   "id": "97d225f9",
   "metadata": {},
   "outputs": [],
   "source": [
    "#checking the shape of numpy arrays"
   ]
  },
  {
   "cell_type": "code",
   "execution_count": 51,
   "id": "8760d4a1",
   "metadata": {},
   "outputs": [],
   "source": [
    "n1=np.array([[1,2,3],[4,5,6]])"
   ]
  },
  {
   "cell_type": "code",
   "execution_count": 52,
   "id": "e5c489be",
   "metadata": {},
   "outputs": [
    {
     "data": {
      "text/plain": [
       "array([[1, 2, 3],\n",
       "       [4, 5, 6]])"
      ]
     },
     "execution_count": 52,
     "metadata": {},
     "output_type": "execute_result"
    }
   ],
   "source": [
    "n1"
   ]
  },
  {
   "cell_type": "code",
   "execution_count": 53,
   "id": "f8654f93",
   "metadata": {},
   "outputs": [
    {
     "data": {
      "text/plain": [
       "(2, 3)"
      ]
     },
     "execution_count": 53,
     "metadata": {},
     "output_type": "execute_result"
    }
   ],
   "source": [
    "n1.shape"
   ]
  },
  {
   "cell_type": "code",
   "execution_count": 60,
   "id": "7274148b",
   "metadata": {},
   "outputs": [],
   "source": [
    "#how to join 2 numpy array\n",
    "#use vstack\n",
    "#first we have to make 2 array"
   ]
  },
  {
   "cell_type": "code",
   "execution_count": 67,
   "id": "fa240864",
   "metadata": {},
   "outputs": [],
   "source": [
    "n1=np.array([10,20,30])\n",
    "n2=np.array([40,50,60])"
   ]
  },
  {
   "cell_type": "markdown",
   "id": "bb81f382",
   "metadata": {},
   "source": [
    "n1"
   ]
  },
  {
   "cell_type": "code",
   "execution_count": 69,
   "id": "005e7413",
   "metadata": {},
   "outputs": [
    {
     "data": {
      "text/plain": [
       "array([[10, 20, 30],\n",
       "       [40, 50, 60]])"
      ]
     },
     "execution_count": 69,
     "metadata": {},
     "output_type": "execute_result"
    }
   ],
   "source": [
    "np.vstack((n1,n2))"
   ]
  },
  {
   "cell_type": "code",
   "execution_count": 70,
   "id": "c105fa70",
   "metadata": {},
   "outputs": [],
   "source": [
    "#now study about hstack\n",
    "#hstach means horizontal stack"
   ]
  },
  {
   "cell_type": "code",
   "execution_count": 71,
   "id": "2926f9f6",
   "metadata": {},
   "outputs": [],
   "source": [
    "n1=np.array([10,20,30])\n",
    "n2=np.array([40,50,60])"
   ]
  },
  {
   "cell_type": "code",
   "execution_count": 73,
   "id": "b05027f2",
   "metadata": {},
   "outputs": [
    {
     "data": {
      "text/plain": [
       "array([10, 20, 30, 40, 50, 60])"
      ]
     },
     "execution_count": 73,
     "metadata": {},
     "output_type": "execute_result"
    }
   ],
   "source": [
    "np.hstack((n1,n2))"
   ]
  },
  {
   "cell_type": "code",
   "execution_count": 74,
   "id": "156ae5c5",
   "metadata": {},
   "outputs": [],
   "source": [
    "#column stack"
   ]
  },
  {
   "cell_type": "code",
   "execution_count": 75,
   "id": "99aebac6",
   "metadata": {},
   "outputs": [],
   "source": [
    "n1=np.array([10,20,30])\n",
    "n2=np.array([40,50,60])"
   ]
  },
  {
   "cell_type": "code",
   "execution_count": 78,
   "id": "49ea58e4",
   "metadata": {},
   "outputs": [
    {
     "data": {
      "text/plain": [
       "array([[10, 40],\n",
       "       [20, 50],\n",
       "       [30, 60]])"
      ]
     },
     "execution_count": 78,
     "metadata": {},
     "output_type": "execute_result"
    }
   ],
   "source": [
    "np.column_stack((n1,n2))"
   ]
  },
  {
   "cell_type": "code",
   "execution_count": 79,
   "id": "e71eba34",
   "metadata": {},
   "outputs": [],
   "source": [
    "#how to find common element in numpy array\n"
   ]
  },
  {
   "cell_type": "code",
   "execution_count": 83,
   "id": "cb3fb4e7",
   "metadata": {},
   "outputs": [],
   "source": [
    "n1=np.array([10,40,30])\n",
    "n2=np.array([30,50,40])"
   ]
  },
  {
   "cell_type": "code",
   "execution_count": 84,
   "id": "68627f57",
   "metadata": {},
   "outputs": [
    {
     "data": {
      "text/plain": [
       "array([30, 40])"
      ]
     },
     "execution_count": 84,
     "metadata": {},
     "output_type": "execute_result"
    }
   ],
   "source": [
    "np.intersect1d(n1,n2)"
   ]
  },
  {
   "cell_type": "code",
   "execution_count": 85,
   "id": "b36b8fce",
   "metadata": {},
   "outputs": [],
   "source": [
    "#how to delete common element from numpy array."
   ]
  },
  {
   "cell_type": "code",
   "execution_count": 86,
   "id": "e831c25f",
   "metadata": {},
   "outputs": [],
   "source": [
    "n1=np.array([10,20,30,40,50,60,10,20,30,10,40,50,60])\n",
    "n2=np.array([10,70,80,90,58,69,10,50,60,40,50,98,78])"
   ]
  },
  {
   "cell_type": "code",
   "execution_count": 90,
   "id": "333561d8",
   "metadata": {},
   "outputs": [
    {
     "data": {
      "text/plain": [
       "array([20, 30])"
      ]
     },
     "execution_count": 90,
     "metadata": {},
     "output_type": "execute_result"
    }
   ],
   "source": [
    "np.setdiff1d(n1,n2) #thats not work properly"
   ]
  },
  {
   "cell_type": "code",
   "execution_count": 92,
   "id": "74a2191b",
   "metadata": {},
   "outputs": [],
   "source": [
    "#if we have to minus n2-n1\n",
    "#we can use setdiff1d but use minus - sign in the place ','\n",
    "#see with exmaple"
   ]
  },
  {
   "cell_type": "code",
   "execution_count": 94,
   "id": "b8050717",
   "metadata": {},
   "outputs": [],
   "source": [
    "n1=np.array([10,20,30])\n",
    "n2=np.array([17,16,15])"
   ]
  },
  {
   "cell_type": "code",
   "execution_count": 101,
   "id": "9094b4ea",
   "metadata": {},
   "outputs": [
    {
     "data": {
      "text/plain": [
       "array([10, 20, 30])"
      ]
     },
     "execution_count": 101,
     "metadata": {},
     "output_type": "execute_result"
    }
   ],
   "source": [
    "np.setdiff1d(n1,-n2)"
   ]
  },
  {
   "cell_type": "code",
   "execution_count": 107,
   "id": "9ba8bbce",
   "metadata": {},
   "outputs": [],
   "source": [
    "#addition of numpy in column"
   ]
  },
  {
   "cell_type": "code",
   "execution_count": 108,
   "id": "fb2dae38",
   "metadata": {},
   "outputs": [],
   "source": [
    "n1=np.array([10,20,30])\n",
    "n2=np.array([20,30,40])"
   ]
  },
  {
   "cell_type": "code",
   "execution_count": 109,
   "id": "1dcd33d7",
   "metadata": {},
   "outputs": [
    {
     "data": {
      "text/plain": [
       "array([30, 50, 70])"
      ]
     },
     "execution_count": 109,
     "metadata": {},
     "output_type": "execute_result"
    }
   ],
   "source": [
    "np.sum([n1,n2],axis=0)"
   ]
  },
  {
   "cell_type": "code",
   "execution_count": 110,
   "id": "fc63af22",
   "metadata": {},
   "outputs": [],
   "source": [
    "#addition in rows"
   ]
  },
  {
   "cell_type": "code",
   "execution_count": 111,
   "id": "7509433d",
   "metadata": {},
   "outputs": [],
   "source": [
    "n1=np.array([10,20,30])\n",
    "n2=np.array([40,50,60])"
   ]
  },
  {
   "cell_type": "code",
   "execution_count": 112,
   "id": "d1e1618d",
   "metadata": {},
   "outputs": [
    {
     "data": {
      "text/plain": [
       "array([ 60, 150])"
      ]
     },
     "execution_count": 112,
     "metadata": {},
     "output_type": "execute_result"
    }
   ],
   "source": [
    "np.sum([n1,n2],axis=1)"
   ]
  },
  {
   "cell_type": "code",
   "execution_count": 5,
   "id": "cecc6080",
   "metadata": {},
   "outputs": [],
   "source": [
    "import numpy as np"
   ]
  },
  {
   "cell_type": "code",
   "execution_count": 1,
   "id": "6fa0a1a7",
   "metadata": {},
   "outputs": [],
   "source": [
    "#Basic addition"
   ]
  },
  {
   "cell_type": "code",
   "execution_count": 6,
   "id": "3be6836b",
   "metadata": {},
   "outputs": [],
   "source": [
    "n1=np.array([10,20,30,40])"
   ]
  },
  {
   "cell_type": "code",
   "execution_count": 8,
   "id": "042e5af4",
   "metadata": {},
   "outputs": [],
   "source": [
    "n1=n1+1"
   ]
  },
  {
   "cell_type": "code",
   "execution_count": 11,
   "id": "75dc9610",
   "metadata": {},
   "outputs": [
    {
     "data": {
      "text/plain": [
       "array([11, 21, 31, 41])"
      ]
     },
     "execution_count": 11,
     "metadata": {},
     "output_type": "execute_result"
    }
   ],
   "source": [
    "n1"
   ]
  },
  {
   "cell_type": "code",
   "execution_count": 12,
   "id": "f368013c",
   "metadata": {},
   "outputs": [],
   "source": [
    "#Basic multiplication"
   ]
  },
  {
   "cell_type": "code",
   "execution_count": 13,
   "id": "505e9bc4",
   "metadata": {},
   "outputs": [],
   "source": [
    "n1=np.array([2,4,5,6])"
   ]
  },
  {
   "cell_type": "code",
   "execution_count": 14,
   "id": "f1726c98",
   "metadata": {},
   "outputs": [],
   "source": [
    "n1=n1*2"
   ]
  },
  {
   "cell_type": "code",
   "execution_count": 15,
   "id": "e33c9247",
   "metadata": {},
   "outputs": [
    {
     "data": {
      "text/plain": [
       "array([ 4,  8, 10, 12])"
      ]
     },
     "execution_count": 15,
     "metadata": {},
     "output_type": "execute_result"
    }
   ],
   "source": [
    "n1"
   ]
  },
  {
   "cell_type": "code",
   "execution_count": 16,
   "id": "ba906e3b",
   "metadata": {},
   "outputs": [],
   "source": [
    "#Basic Division"
   ]
  },
  {
   "cell_type": "code",
   "execution_count": 18,
   "id": "5754ed23",
   "metadata": {},
   "outputs": [],
   "source": [
    "n1=np.array([4,8,6,12])"
   ]
  },
  {
   "cell_type": "code",
   "execution_count": 19,
   "id": "1cfa1062",
   "metadata": {},
   "outputs": [],
   "source": [
    "n1=n1/2"
   ]
  },
  {
   "cell_type": "code",
   "execution_count": 20,
   "id": "87cbd6a7",
   "metadata": {},
   "outputs": [
    {
     "data": {
      "text/plain": [
       "array([2., 4., 3., 6.])"
      ]
     },
     "execution_count": 20,
     "metadata": {},
     "output_type": "execute_result"
    }
   ],
   "source": [
    "n1"
   ]
  },
  {
   "cell_type": "code",
   "execution_count": 21,
   "id": "0bcc198f",
   "metadata": {},
   "outputs": [],
   "source": [
    "#Basic Subtraction"
   ]
  },
  {
   "cell_type": "code",
   "execution_count": 22,
   "id": "96d8ede7",
   "metadata": {},
   "outputs": [],
   "source": [
    "n1=np.array([8,4,12,16,18])"
   ]
  },
  {
   "cell_type": "code",
   "execution_count": 23,
   "id": "d249c449",
   "metadata": {},
   "outputs": [],
   "source": [
    "n1=n1-2"
   ]
  },
  {
   "cell_type": "code",
   "execution_count": 24,
   "id": "0b536b62",
   "metadata": {},
   "outputs": [
    {
     "data": {
      "text/plain": [
       "array([ 6,  2, 10, 14, 16])"
      ]
     },
     "execution_count": 24,
     "metadata": {},
     "output_type": "execute_result"
    }
   ],
   "source": [
    "n1"
   ]
  },
  {
   "cell_type": "code",
   "execution_count": 25,
   "id": "b036d0a6",
   "metadata": {},
   "outputs": [],
   "source": [
    "#Mean"
   ]
  },
  {
   "cell_type": "code",
   "execution_count": 26,
   "id": "67478dab",
   "metadata": {},
   "outputs": [],
   "source": [
    "n1=np.array([10,20,30,50,40])"
   ]
  },
  {
   "cell_type": "code",
   "execution_count": 27,
   "id": "80a0f5cd",
   "metadata": {},
   "outputs": [
    {
     "data": {
      "text/plain": [
       "array([10, 20, 30, 50, 40])"
      ]
     },
     "execution_count": 27,
     "metadata": {},
     "output_type": "execute_result"
    }
   ],
   "source": [
    "n1"
   ]
  },
  {
   "cell_type": "code",
   "execution_count": 28,
   "id": "9337b5ce",
   "metadata": {},
   "outputs": [
    {
     "data": {
      "text/plain": [
       "30.0"
      ]
     },
     "execution_count": 28,
     "metadata": {},
     "output_type": "execute_result"
    }
   ],
   "source": [
    "np.mean(n1)"
   ]
  },
  {
   "cell_type": "code",
   "execution_count": 29,
   "id": "d784bbaa",
   "metadata": {},
   "outputs": [],
   "source": [
    "#median"
   ]
  },
  {
   "cell_type": "code",
   "execution_count": 30,
   "id": "0bd8000c",
   "metadata": {},
   "outputs": [
    {
     "data": {
      "text/plain": [
       "array([10, 20, 30, 50, 40])"
      ]
     },
     "execution_count": 30,
     "metadata": {},
     "output_type": "execute_result"
    }
   ],
   "source": [
    "n1"
   ]
  },
  {
   "cell_type": "code",
   "execution_count": 31,
   "id": "ab9ee26b",
   "metadata": {},
   "outputs": [
    {
     "data": {
      "text/plain": [
       "30.0"
      ]
     },
     "execution_count": 31,
     "metadata": {},
     "output_type": "execute_result"
    }
   ],
   "source": [
    "np.median(n1)"
   ]
  },
  {
   "cell_type": "code",
   "execution_count": 32,
   "id": "c006490f",
   "metadata": {},
   "outputs": [],
   "source": [
    "#Standard Division"
   ]
  },
  {
   "cell_type": "code",
   "execution_count": 33,
   "id": "2adc9e1c",
   "metadata": {},
   "outputs": [
    {
     "data": {
      "text/plain": [
       "array([10, 20, 30, 50, 40])"
      ]
     },
     "execution_count": 33,
     "metadata": {},
     "output_type": "execute_result"
    }
   ],
   "source": [
    "n1"
   ]
  },
  {
   "cell_type": "code",
   "execution_count": 35,
   "id": "2c48ed74",
   "metadata": {},
   "outputs": [
    {
     "data": {
      "text/plain": [
       "14.142135623730951"
      ]
     },
     "execution_count": 35,
     "metadata": {},
     "output_type": "execute_result"
    }
   ],
   "source": [
    "np.std(n1)"
   ]
  },
  {
   "cell_type": "code",
   "execution_count": 36,
   "id": "725078f9",
   "metadata": {},
   "outputs": [],
   "source": [
    "#Saving Numpy Array"
   ]
  },
  {
   "cell_type": "code",
   "execution_count": 37,
   "id": "5f607653",
   "metadata": {},
   "outputs": [
    {
     "data": {
      "text/plain": [
       "array([10, 20, 30, 50, 40])"
      ]
     },
     "execution_count": 37,
     "metadata": {},
     "output_type": "execute_result"
    }
   ],
   "source": [
    "n1"
   ]
  },
  {
   "cell_type": "code",
   "execution_count": 48,
   "id": "ce93c838",
   "metadata": {},
   "outputs": [],
   "source": [
    "n2=np.save('my_numpy',n1)"
   ]
  },
  {
   "cell_type": "code",
   "execution_count": 49,
   "id": "9a7bc89d",
   "metadata": {},
   "outputs": [],
   "source": [
    "#Basics Of Numpy\n",
    "#Student Of Data Science - Saurav\n",
    "# Datatrained \n",
    "#Batch np- DS0522"
   ]
  },
  {
   "cell_type": "code",
   "execution_count": 47,
   "id": "9575009e",
   "metadata": {},
   "outputs": [],
   "source": []
  },
  {
   "cell_type": "code",
   "execution_count": null,
   "id": "ff1900dc",
   "metadata": {},
   "outputs": [],
   "source": []
  }
 ],
 "metadata": {
  "kernelspec": {
   "display_name": "Python 3 (ipykernel)",
   "language": "python",
   "name": "python3"
  },
  "language_info": {
   "codemirror_mode": {
    "name": "ipython",
    "version": 3
   },
   "file_extension": ".py",
   "mimetype": "text/x-python",
   "name": "python",
   "nbconvert_exporter": "python",
   "pygments_lexer": "ipython3",
   "version": "3.9.7"
  }
 },
 "nbformat": 4,
 "nbformat_minor": 5
}
