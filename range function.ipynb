{
 "cells": [
  {
   "cell_type": "code",
   "execution_count": 2,
   "id": "60ae1c9a",
   "metadata": {},
   "outputs": [],
   "source": [
    "#The Range Function\n",
    "#How to use range ,and what they can do"
   ]
  },
  {
   "cell_type": "code",
   "execution_count": 3,
   "id": "9b67a704",
   "metadata": {},
   "outputs": [
    {
     "name": "stdout",
     "output_type": "stream",
     "text": [
      "range(0, 14)\n"
     ]
    }
   ],
   "source": [
    "print(range(14))"
   ]
  },
  {
   "cell_type": "code",
   "execution_count": 4,
   "id": "fc57fed5",
   "metadata": {},
   "outputs": [
    {
     "name": "stdout",
     "output_type": "stream",
     "text": [
      "[0, 1, 2, 3, 4, 5, 6, 7, 8, 9]\n"
     ]
    }
   ],
   "source": [
    "print(list(range(10)))"
   ]
  },
  {
   "cell_type": "code",
   "execution_count": 5,
   "id": "6c0009cb",
   "metadata": {},
   "outputs": [
    {
     "name": "stdout",
     "output_type": "stream",
     "text": [
      "[1, 2, 3, 4, 5, 6, 7, 8, 9, 10, 11, 12, 13, 14, 15, 16, 17, 18, 19]\n"
     ]
    }
   ],
   "source": [
    "print(list(range(1,20)))"
   ]
  },
  {
   "cell_type": "code",
   "execution_count": 7,
   "id": "76735c09",
   "metadata": {},
   "outputs": [
    {
     "name": "stdout",
     "output_type": "stream",
     "text": [
      "[1, 6, 11, 16, 21, 26, 31, 36, 41, 46]\n"
     ]
    }
   ],
   "source": [
    "print(list(range(1,50,5)))"
   ]
  },
  {
   "cell_type": "code",
   "execution_count": 8,
   "id": "426f22ab",
   "metadata": {},
   "outputs": [],
   "source": [
    "#process to iterate through a list usind indexing."
   ]
  },
  {
   "cell_type": "code",
   "execution_count": 9,
   "id": "3c934a6a",
   "metadata": {},
   "outputs": [],
   "source": [
    "device=['mobile','tv','radio','laptop']"
   ]
  },
  {
   "cell_type": "code",
   "execution_count": 10,
   "id": "8e1621fb",
   "metadata": {},
   "outputs": [],
   "source": [
    "#iterate over  using index."
   ]
  },
  {
   "cell_type": "code",
   "execution_count": 16,
   "id": "05b21633",
   "metadata": {},
   "outputs": [
    {
     "name": "stdout",
     "output_type": "stream",
     "text": [
      "i love mobile\n",
      "i love tv\n",
      "i love radio\n",
      "i love laptop\n"
     ]
    }
   ],
   "source": [
    "for i in range(len(device)):\n",
    "    print('i love',device[i])"
   ]
  },
  {
   "cell_type": "code",
   "execution_count": null,
   "id": "9f7d3f97",
   "metadata": {},
   "outputs": [],
   "source": [
    "#python by shnkar sir\n",
    "#student of datatrained-Saurav"
   ]
  }
 ],
 "metadata": {
  "kernelspec": {
   "display_name": "Python 3 (ipykernel)",
   "language": "python",
   "name": "python3"
  },
  "language_info": {
   "codemirror_mode": {
    "name": "ipython",
    "version": 3
   },
   "file_extension": ".py",
   "mimetype": "text/x-python",
   "name": "python",
   "nbconvert_exporter": "python",
   "pygments_lexer": "ipython3",
   "version": "3.9.7"
  }
 },
 "nbformat": 4,
 "nbformat_minor": 5
}
