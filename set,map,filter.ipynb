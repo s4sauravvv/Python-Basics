{
 "cells": [
  {
   "cell_type": "code",
   "execution_count": 1,
   "id": "7af84442",
   "metadata": {},
   "outputs": [],
   "source": [
    "#SET,FILTER,MAP"
   ]
  },
  {
   "cell_type": "code",
   "execution_count": 2,
   "id": "aa81c237",
   "metadata": {},
   "outputs": [],
   "source": [
    "x=()"
   ]
  },
  {
   "cell_type": "code",
   "execution_count": 3,
   "id": "4d3ae1ea",
   "metadata": {},
   "outputs": [],
   "source": [
    "s=set()"
   ]
  },
  {
   "cell_type": "code",
   "execution_count": 5,
   "id": "e1c99d10",
   "metadata": {},
   "outputs": [
    {
     "data": {
      "text/plain": [
       "set()"
      ]
     },
     "execution_count": 5,
     "metadata": {},
     "output_type": "execute_result"
    }
   ],
   "source": [
    "s"
   ]
  },
  {
   "cell_type": "code",
   "execution_count": 6,
   "id": "a1294864",
   "metadata": {},
   "outputs": [
    {
     "data": {
      "text/plain": [
       "set"
      ]
     },
     "execution_count": 6,
     "metadata": {},
     "output_type": "execute_result"
    }
   ],
   "source": [
    "type(s)"
   ]
  },
  {
   "cell_type": "code",
   "execution_count": 7,
   "id": "c2ccf9ee",
   "metadata": {},
   "outputs": [
    {
     "data": {
      "text/plain": [
       "set"
      ]
     },
     "execution_count": 7,
     "metadata": {},
     "output_type": "execute_result"
    }
   ],
   "source": [
    "type(s)"
   ]
  },
  {
   "cell_type": "code",
   "execution_count": 8,
   "id": "70e48b71",
   "metadata": {},
   "outputs": [
    {
     "data": {
      "text/plain": [
       "set()"
      ]
     },
     "execution_count": 8,
     "metadata": {},
     "output_type": "execute_result"
    }
   ],
   "source": [
    "s"
   ]
  },
  {
   "cell_type": "code",
   "execution_count": 14,
   "id": "59872076",
   "metadata": {},
   "outputs": [],
   "source": [
    "s.add(1)"
   ]
  },
  {
   "cell_type": "code",
   "execution_count": 9,
   "id": "2e152d81",
   "metadata": {},
   "outputs": [],
   "source": [
    "s.add(4)"
   ]
  },
  {
   "cell_type": "code",
   "execution_count": 15,
   "id": "d44b5cae",
   "metadata": {},
   "outputs": [
    {
     "data": {
      "text/plain": [
       "{1, 4}"
      ]
     },
     "execution_count": 15,
     "metadata": {},
     "output_type": "execute_result"
    }
   ],
   "source": [
    "s"
   ]
  },
  {
   "cell_type": "code",
   "execution_count": 11,
   "id": "e66a321d",
   "metadata": {},
   "outputs": [],
   "source": [
    "#Set only take unique element."
   ]
  },
  {
   "cell_type": "code",
   "execution_count": 12,
   "id": "a625a7dd",
   "metadata": {},
   "outputs": [],
   "source": [
    "s.add(4)"
   ]
  },
  {
   "cell_type": "code",
   "execution_count": 16,
   "id": "4e68b717",
   "metadata": {},
   "outputs": [
    {
     "data": {
      "text/plain": [
       "{1, 4}"
      ]
     },
     "execution_count": 16,
     "metadata": {},
     "output_type": "execute_result"
    }
   ],
   "source": [
    "s"
   ]
  },
  {
   "cell_type": "code",
   "execution_count": 17,
   "id": "6a0c8d93",
   "metadata": {},
   "outputs": [],
   "source": [
    "s.add(5)"
   ]
  },
  {
   "cell_type": "code",
   "execution_count": 18,
   "id": "1820f098",
   "metadata": {},
   "outputs": [
    {
     "data": {
      "text/plain": [
       "{1, 4, 5}"
      ]
     },
     "execution_count": 18,
     "metadata": {},
     "output_type": "execute_result"
    }
   ],
   "source": [
    "s"
   ]
  },
  {
   "cell_type": "code",
   "execution_count": 19,
   "id": "2424820d",
   "metadata": {},
   "outputs": [],
   "source": [
    "#creating a list then see how set will take unique element"
   ]
  },
  {
   "cell_type": "code",
   "execution_count": 20,
   "id": "0dde1e43",
   "metadata": {},
   "outputs": [],
   "source": [
    "list2=['saurav','rohit','yashu','amisha','lovely','amisha','saurav','rohit']"
   ]
  },
  {
   "cell_type": "code",
   "execution_count": 21,
   "id": "116c00d2",
   "metadata": {},
   "outputs": [
    {
     "data": {
      "text/plain": [
       "['saurav', 'rohit', 'yashu', 'amisha', 'lovely', 'amisha', 'saurav', 'rohit']"
      ]
     },
     "execution_count": 21,
     "metadata": {},
     "output_type": "execute_result"
    }
   ],
   "source": [
    "list2"
   ]
  },
  {
   "cell_type": "code",
   "execution_count": 22,
   "id": "48e903c6",
   "metadata": {},
   "outputs": [],
   "source": [
    "#Now convert in a set to get a unique element"
   ]
  },
  {
   "cell_type": "code",
   "execution_count": 23,
   "id": "eb71a31d",
   "metadata": {},
   "outputs": [
    {
     "data": {
      "text/plain": [
       "{'amisha', 'lovely', 'rohit', 'saurav', 'yashu'}"
      ]
     },
     "execution_count": 23,
     "metadata": {},
     "output_type": "execute_result"
    }
   ],
   "source": [
    "set(list2)"
   ]
  },
  {
   "cell_type": "code",
   "execution_count": 24,
   "id": "388a2614",
   "metadata": {},
   "outputs": [],
   "source": [
    "list1=[1,2,3,4,5,6,1,2,3,4,5,6,7,8,9,1,2,3,4,5,6,7,8,9]"
   ]
  },
  {
   "cell_type": "code",
   "execution_count": 25,
   "id": "5c304b04",
   "metadata": {},
   "outputs": [
    {
     "data": {
      "text/plain": [
       "{1, 2, 3, 4, 5, 6, 7, 8, 9}"
      ]
     },
     "execution_count": 25,
     "metadata": {},
     "output_type": "execute_result"
    }
   ],
   "source": [
    "set(list1)"
   ]
  },
  {
   "cell_type": "code",
   "execution_count": 26,
   "id": "c9843f8d",
   "metadata": {},
   "outputs": [],
   "source": [
    "#Map \n",
    "#map has two agruments=1-A function\n",
    "                      #2-A Sequence Iterable "
   ]
  },
  {
   "cell_type": "code",
   "execution_count": 27,
   "id": "14114780",
   "metadata": {},
   "outputs": [],
   "source": [
    "def fahrenheit(T):\n",
    "    return((float(9)/5)*T+32)\n",
    "def celcius(T):\n",
    "    return((float(5)/9)*T-32)\n",
    "temp=[0,22.5,40,100]"
   ]
  },
  {
   "cell_type": "code",
   "execution_count": 28,
   "id": "f85875a5",
   "metadata": {},
   "outputs": [],
   "source": [
    "#lest see map funtion how to use"
   ]
  },
  {
   "cell_type": "code",
   "execution_count": 29,
   "id": "6ddcaf64",
   "metadata": {},
   "outputs": [],
   "source": [
    "final_list=list(map(fahrenheit,temp))"
   ]
  },
  {
   "cell_type": "code",
   "execution_count": 30,
   "id": "36637206",
   "metadata": {},
   "outputs": [
    {
     "data": {
      "text/plain": [
       "[32.0, 72.5, 104.0, 212.0]"
      ]
     },
     "execution_count": 30,
     "metadata": {},
     "output_type": "execute_result"
    }
   ],
   "source": [
    "final_list"
   ]
  },
  {
   "cell_type": "code",
   "execution_count": 31,
   "id": "dc28e913",
   "metadata": {},
   "outputs": [],
   "source": [
    "#covert back "
   ]
  },
  {
   "cell_type": "code",
   "execution_count": 32,
   "id": "c76a7893",
   "metadata": {},
   "outputs": [],
   "source": [
    "list_final=list(map(celcius,temp))"
   ]
  },
  {
   "cell_type": "code",
   "execution_count": 33,
   "id": "1d7dda0a",
   "metadata": {},
   "outputs": [
    {
     "data": {
      "text/plain": [
       "[-32.0, -19.5, -9.777777777777779, 23.555555555555557]"
      ]
     },
     "execution_count": 33,
     "metadata": {},
     "output_type": "execute_result"
    }
   ],
   "source": [
    "list_final"
   ]
  },
  {
   "cell_type": "code",
   "execution_count": 34,
   "id": "14d05896",
   "metadata": {},
   "outputs": [],
   "source": [
    "#Use Labmda funtion\n"
   ]
  },
  {
   "cell_type": "code",
   "execution_count": 35,
   "id": "b34d3deb",
   "metadata": {},
   "outputs": [],
   "source": [
    "lam1=lambda x:x*x*x"
   ]
  },
  {
   "cell_type": "code",
   "execution_count": 38,
   "id": "28c216e5",
   "metadata": {},
   "outputs": [
    {
     "data": {
      "text/plain": [
       "8"
      ]
     },
     "execution_count": 38,
     "metadata": {},
     "output_type": "execute_result"
    }
   ],
   "source": [
    "lam1(2)"
   ]
  },
  {
   "cell_type": "code",
   "execution_count": 39,
   "id": "cde8c8a5",
   "metadata": {},
   "outputs": [],
   "source": [
    "#this is how lammbda fucntion use with map function in python"
   ]
  },
  {
   "cell_type": "code",
   "execution_count": 40,
   "id": "c9e3f9a8",
   "metadata": {},
   "outputs": [
    {
     "data": {
      "text/plain": [
       "[-17.77777777777778, -5.277777777777778, 4.444444444444445, 37.77777777777778]"
      ]
     },
     "execution_count": 40,
     "metadata": {},
     "output_type": "execute_result"
    }
   ],
   "source": [
    "list(map(lambda x:(5.0/9)*(x-32),temp))"
   ]
  },
  {
   "cell_type": "code",
   "execution_count": 41,
   "id": "6fdee39c",
   "metadata": {},
   "outputs": [],
   "source": [
    "#filter\n",
    "#lets se example how to use filter method"
   ]
  },
  {
   "cell_type": "code",
   "execution_count": 42,
   "id": "5e8a6f93",
   "metadata": {},
   "outputs": [],
   "source": [
    "def even(num):\n",
    "    if num%2==0:\n",
    "        return('True')"
   ]
  },
  {
   "cell_type": "code",
   "execution_count": 43,
   "id": "7790d2a9",
   "metadata": {},
   "outputs": [
    {
     "data": {
      "text/plain": [
       "'True'"
      ]
     },
     "execution_count": 43,
     "metadata": {},
     "output_type": "execute_result"
    }
   ],
   "source": [
    "even(6)"
   ]
  },
  {
   "cell_type": "code",
   "execution_count": 44,
   "id": "73b31970",
   "metadata": {},
   "outputs": [],
   "source": [
    "lst=[1,2,3,4,5,6,7,8,9,10,11,12,13,14,15,16,17,18,19,20]"
   ]
  },
  {
   "cell_type": "code",
   "execution_count": 45,
   "id": "2ab9483b",
   "metadata": {},
   "outputs": [],
   "source": [
    "final_list=list(filter(even,lst))"
   ]
  },
  {
   "cell_type": "code",
   "execution_count": 46,
   "id": "b5daab89",
   "metadata": {},
   "outputs": [
    {
     "data": {
      "text/plain": [
       "[2, 4, 6, 8, 10, 12, 14, 16, 18, 20]"
      ]
     },
     "execution_count": 46,
     "metadata": {},
     "output_type": "execute_result"
    }
   ],
   "source": [
    "final_list"
   ]
  },
  {
   "cell_type": "code",
   "execution_count": 48,
   "id": "18876832",
   "metadata": {},
   "outputs": [],
   "source": [
    "#All even numbers is shown below the final list\n",
    "#filter function with lamda funtion"
   ]
  },
  {
   "cell_type": "code",
   "execution_count": 49,
   "id": "49095444",
   "metadata": {},
   "outputs": [],
   "source": [
    "list_final=list(filter(lambda x:x%2==0,lst))"
   ]
  },
  {
   "cell_type": "code",
   "execution_count": 50,
   "id": "b36ae102",
   "metadata": {},
   "outputs": [
    {
     "data": {
      "text/plain": [
       "[2, 4, 6, 8, 10, 12, 14, 16, 18, 20]"
      ]
     },
     "execution_count": 50,
     "metadata": {},
     "output_type": "execute_result"
    }
   ],
   "source": [
    "list_final"
   ]
  },
  {
   "cell_type": "code",
   "execution_count": null,
   "id": "6ae3cf19",
   "metadata": {},
   "outputs": [],
   "source": [
    "\n",
    "#python by shankar sir\n",
    "#student of datatrained"
   ]
  }
 ],
 "metadata": {
  "kernelspec": {
   "display_name": "Python 3 (ipykernel)",
   "language": "python",
   "name": "python3"
  },
  "language_info": {
   "codemirror_mode": {
    "name": "ipython",
    "version": 3
   },
   "file_extension": ".py",
   "mimetype": "text/x-python",
   "name": "python",
   "nbconvert_exporter": "python",
   "pygments_lexer": "ipython3",
   "version": "3.9.7"
  }
 },
 "nbformat": 4,
 "nbformat_minor": 5
}
