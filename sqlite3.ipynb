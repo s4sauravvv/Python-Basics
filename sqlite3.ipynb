{
 "cells": [
  {
   "cell_type": "code",
   "execution_count": 4,
   "id": "224ff6e7",
   "metadata": {},
   "outputs": [],
   "source": [
    " #SQLite - structural querry python\n",
    "    #database connectivity and operation using python,\n",
    "    #for , example , the follwing is the example of connectivity with my SQL Database\n",
    "    #\"my_database\" and creating a table grades1 and inserting the value inside\n",
    "    \n",
    "    #its meaning of whole paragraph is ,we have to create a table but we have to leanrn how to create a table.\n",
    "    #Lets see..    \n",
    "    #like numpy and pandas SQL is also imported by python"
   ]
  },
  {
   "cell_type": "code",
   "execution_count": 5,
   "id": "c25cbe6f",
   "metadata": {},
   "outputs": [],
   "source": [
    "import sqlite3 "
   ]
  },
  {
   "cell_type": "code",
   "execution_count": 14,
   "id": "e634925d",
   "metadata": {},
   "outputs": [
    {
     "data": {
      "text/plain": [
       "<sqlite3.Cursor at 0x1b1d04978f0>"
      ]
     },
     "execution_count": 14,
     "metadata": {},
     "output_type": "execute_result"
    }
   ],
   "source": [
    "db=sqlite3.connect(\"my_database1.db\")\n",
    "db.execute(\"drop table if exists table1\")\n",
    "db.execute(\"create table table1(id int,name text,score int)\")\n",
    "db.execute(\"insert into table1(id,name,score)values(101,'saurav',98)\")\n",
    "db.execute(\"insert into table1(id,name,score)values(102,'rohit',92)\")\n",
    "db.execute(\"insert into table1(id,name,score)values(103,'gaurav',99)\")"
   ]
  },
  {
   "cell_type": "code",
   "execution_count": 16,
   "id": "b5e5d9f3",
   "metadata": {},
   "outputs": [],
   "source": [
    "db.commit()"
   ]
  },
  {
   "cell_type": "code",
   "execution_count": 17,
   "id": "5e2682e0",
   "metadata": {},
   "outputs": [],
   "source": [
    "#lets check our table with different orders>\n",
    "#lets know onething- * means-everything\n",
    "#lets check with example\n"
   ]
  },
  {
   "cell_type": "code",
   "execution_count": 22,
   "id": "e71c4b7d",
   "metadata": {},
   "outputs": [
    {
     "name": "stdout",
     "output_type": "stream",
     "text": [
      "(101, 'saurav', 98)\n",
      "(102, 'rohit', 92)\n",
      "(103, 'gaurav', 99)\n"
     ]
    }
   ],
   "source": [
    "result=db.execute(\"select * from table1 order by id\")\n",
    "for row in result:\n",
    "    print(row)"
   ]
  },
  {
   "cell_type": "code",
   "execution_count": 24,
   "id": "e0e0388f",
   "metadata": {},
   "outputs": [
    {
     "name": "stdout",
     "output_type": "stream",
     "text": [
      "(102, 'rohit', 92)\n"
     ]
    }
   ],
   "source": [
    "result=db.execute(\"select * from table1 where score<95\")\n",
    "for row in result:\n",
    "    print(row)"
   ]
  },
  {
   "cell_type": "code",
   "execution_count": 25,
   "id": "96efb301",
   "metadata": {},
   "outputs": [
    {
     "name": "stdout",
     "output_type": "stream",
     "text": [
      "(101, 'saurav', 98)\n"
     ]
    }
   ],
   "source": [
    "result=db.execute(\"select * from table1 where name='saurav'\")\n",
    "for row in result:\n",
    "    print(row)"
   ]
  },
  {
   "cell_type": "code",
   "execution_count": 31,
   "id": "2649aae1",
   "metadata": {},
   "outputs": [
    {
     "name": "stdout",
     "output_type": "stream",
     "text": [
      "(102, 'rohit', 92)\n",
      "(101, 'saurav', 98)\n",
      "(103, 'gaurav', 99)\n"
     ]
    }
   ],
   "source": [
    "result=db.execute(\"select * from table1 order by score\")\n",
    "for row in result:\n",
    "    print(row)"
   ]
  },
  {
   "cell_type": "code",
   "execution_count": null,
   "id": "86ccafa0",
   "metadata": {},
   "outputs": [],
   "source": [
    "#Task\n",
    "#create a table with below column name- emp_id,salary,gender,age\n",
    "#emp_id-10001 to 10010\n",
    "#salary- 20200,30200,45200,90200,70200,15200,45200,34500,874200\n",
    "#Age- 25,35,20,35,47,50,24,25,52,32,58\n",
    "#gender- M,F,M,M,F,M,M,F,M,M\n",
    "\n"
   ]
  },
  {
   "cell_type": "code",
   "execution_count": null,
   "id": "af26e00c",
   "metadata": {},
   "outputs": [],
   "source": [
    "#the basics of sqlite3\n",
    "#student of datatrained:- Saurav\n",
    "#Datatrained"
   ]
  }
 ],
 "metadata": {
  "kernelspec": {
   "display_name": "Python 3 (ipykernel)",
   "language": "python",
   "name": "python3"
  },
  "language_info": {
   "codemirror_mode": {
    "name": "ipython",
    "version": 3
   },
   "file_extension": ".py",
   "mimetype": "text/x-python",
   "name": "python",
   "nbconvert_exporter": "python",
   "pygments_lexer": "ipython3",
   "version": "3.9.7"
  }
 },
 "nbformat": 4,
 "nbformat_minor": 5
}
