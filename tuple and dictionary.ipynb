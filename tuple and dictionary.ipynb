{
 "cells": [
  {
   "cell_type": "code",
   "execution_count": 1,
   "id": "3640f7cf",
   "metadata": {},
   "outputs": [],
   "source": [
    "#Tuple                                                                                           #Dictionary\n",
    "#Tuple are Immutable                                                                             #tuple k bad hai dictionary:-\n",
    "#Tuple in()paranthesis\n",
    "#lets start"
   ]
  },
  {
   "cell_type": "code",
   "execution_count": 2,
   "id": "db8e109e",
   "metadata": {},
   "outputs": [],
   "source": [
    "tup1=('saurav',985,'rohit',12)"
   ]
  },
  {
   "cell_type": "code",
   "execution_count": 3,
   "id": "32a7e6f1",
   "metadata": {},
   "outputs": [
    {
     "data": {
      "text/plain": [
       "('saurav', 985, 'rohit', 12)"
      ]
     },
     "execution_count": 3,
     "metadata": {},
     "output_type": "execute_result"
    }
   ],
   "source": [
    "tup1"
   ]
  },
  {
   "cell_type": "code",
   "execution_count": 4,
   "id": "9bed9275",
   "metadata": {},
   "outputs": [
    {
     "data": {
      "text/plain": [
       "tuple"
      ]
     },
     "execution_count": 4,
     "metadata": {},
     "output_type": "execute_result"
    }
   ],
   "source": [
    "type(tup1)"
   ]
  },
  {
   "cell_type": "code",
   "execution_count": 5,
   "id": "77994a1d",
   "metadata": {},
   "outputs": [],
   "source": [
    "#how to convert tuple in list"
   ]
  },
  {
   "cell_type": "code",
   "execution_count": 6,
   "id": "c100812b",
   "metadata": {},
   "outputs": [
    {
     "data": {
      "text/plain": [
       "['saurav', 985, 'rohit', 12]"
      ]
     },
     "execution_count": 6,
     "metadata": {},
     "output_type": "execute_result"
    }
   ],
   "source": [
    "list(tup1)"
   ]
  },
  {
   "cell_type": "code",
   "execution_count": 7,
   "id": "5ed9fd43",
   "metadata": {},
   "outputs": [],
   "source": [
    "lst1=list(tup1)"
   ]
  },
  {
   "cell_type": "code",
   "execution_count": 8,
   "id": "ea042b5c",
   "metadata": {},
   "outputs": [
    {
     "data": {
      "text/plain": [
       "['saurav', 985, 'rohit', 12]"
      ]
     },
     "execution_count": 8,
     "metadata": {},
     "output_type": "execute_result"
    }
   ],
   "source": [
    "lst1"
   ]
  },
  {
   "cell_type": "code",
   "execution_count": 9,
   "id": "56f7f32e",
   "metadata": {},
   "outputs": [],
   "source": [
    "#convert back in tuple"
   ]
  },
  {
   "cell_type": "code",
   "execution_count": 11,
   "id": "fc9bcf1d",
   "metadata": {},
   "outputs": [
    {
     "data": {
      "text/plain": [
       "('saurav', 985, 'rohit', 12)"
      ]
     },
     "execution_count": 11,
     "metadata": {},
     "output_type": "execute_result"
    }
   ],
   "source": [
    "tuple(lst1)"
   ]
  },
  {
   "cell_type": "code",
   "execution_count": 12,
   "id": "db76f4e0",
   "metadata": {},
   "outputs": [],
   "source": [
    "tup1=tuple(lst1)"
   ]
  },
  {
   "cell_type": "code",
   "execution_count": 13,
   "id": "b46d221d",
   "metadata": {},
   "outputs": [
    {
     "data": {
      "text/plain": [
       "('saurav', 985, 'rohit', 12)"
      ]
     },
     "execution_count": 13,
     "metadata": {},
     "output_type": "execute_result"
    }
   ],
   "source": [
    "tup1"
   ]
  },
  {
   "cell_type": "code",
   "execution_count": 14,
   "id": "8fc13a9e",
   "metadata": {},
   "outputs": [],
   "source": [
    "#indexing the tuple element like list."
   ]
  },
  {
   "cell_type": "code",
   "execution_count": 15,
   "id": "21a752e7",
   "metadata": {},
   "outputs": [
    {
     "data": {
      "text/plain": [
       "('saurav', 985, 'rohit', 12)"
      ]
     },
     "execution_count": 15,
     "metadata": {},
     "output_type": "execute_result"
    }
   ],
   "source": [
    "tup1"
   ]
  },
  {
   "cell_type": "code",
   "execution_count": 17,
   "id": "66c8396d",
   "metadata": {},
   "outputs": [
    {
     "data": {
      "text/plain": [
       "985"
      ]
     },
     "execution_count": 17,
     "metadata": {},
     "output_type": "execute_result"
    }
   ],
   "source": [
    "tup1[1]"
   ]
  },
  {
   "cell_type": "code",
   "execution_count": 18,
   "id": "36420af4",
   "metadata": {},
   "outputs": [],
   "source": [
    "#slicing tuple element"
   ]
  },
  {
   "cell_type": "code",
   "execution_count": 19,
   "id": "f4293a40",
   "metadata": {},
   "outputs": [
    {
     "data": {
      "text/plain": [
       "('saurav', 985, 'rohit', 12)"
      ]
     },
     "execution_count": 19,
     "metadata": {},
     "output_type": "execute_result"
    }
   ],
   "source": [
    "tup1"
   ]
  },
  {
   "cell_type": "code",
   "execution_count": 20,
   "id": "1e5b0408",
   "metadata": {},
   "outputs": [
    {
     "data": {
      "text/plain": [
       "12"
      ]
     },
     "execution_count": 20,
     "metadata": {},
     "output_type": "execute_result"
    }
   ],
   "source": [
    "tup1[-1]"
   ]
  },
  {
   "cell_type": "code",
   "execution_count": 21,
   "id": "d393d3b3",
   "metadata": {},
   "outputs": [
    {
     "data": {
      "text/plain": [
       "'rohit'"
      ]
     },
     "execution_count": 21,
     "metadata": {},
     "output_type": "execute_result"
    }
   ],
   "source": [
    "tup1[-2]"
   ]
  },
  {
   "cell_type": "code",
   "execution_count": 27,
   "id": "345c7a27",
   "metadata": {},
   "outputs": [],
   "source": [
    "#basics tuple method(index,count)"
   ]
  },
  {
   "cell_type": "code",
   "execution_count": 23,
   "id": "a423b3fc",
   "metadata": {},
   "outputs": [
    {
     "data": {
      "text/plain": [
       "('saurav', 985, 'rohit', 12)"
      ]
     },
     "execution_count": 23,
     "metadata": {},
     "output_type": "execute_result"
    }
   ],
   "source": [
    "tup1"
   ]
  },
  {
   "cell_type": "code",
   "execution_count": 26,
   "id": "50e16cc8",
   "metadata": {},
   "outputs": [
    {
     "data": {
      "text/plain": [
       "1"
      ]
     },
     "execution_count": 26,
     "metadata": {},
     "output_type": "execute_result"
    }
   ],
   "source": [
    "tup1.index(985)"
   ]
  },
  {
   "cell_type": "code",
   "execution_count": 28,
   "id": "7bee1770",
   "metadata": {},
   "outputs": [
    {
     "data": {
      "text/plain": [
       "2"
      ]
     },
     "execution_count": 28,
     "metadata": {},
     "output_type": "execute_result"
    }
   ],
   "source": [
    "tup1.index('rohit')"
   ]
  },
  {
   "cell_type": "code",
   "execution_count": 31,
   "id": "bc8d285e",
   "metadata": {},
   "outputs": [],
   "source": [
    "#now use count . if we use count method we have to create new tuple ."
   ]
  },
  {
   "cell_type": "code",
   "execution_count": 32,
   "id": "2152dbca",
   "metadata": {},
   "outputs": [],
   "source": [
    "tup1=(1,2,3,4,5,6,7,8,9,1,2,3,4,5,6,7,8,9,1,2,3,4,5,6,7,89)"
   ]
  },
  {
   "cell_type": "code",
   "execution_count": 35,
   "id": "9bbe8247",
   "metadata": {},
   "outputs": [
    {
     "data": {
      "text/plain": [
       "3"
      ]
     },
     "execution_count": 35,
     "metadata": {},
     "output_type": "execute_result"
    }
   ],
   "source": [
    "tup1.count(1) #1 is three times in a tuple."
   ]
  },
  {
   "cell_type": "code",
   "execution_count": 37,
   "id": "a5d09421",
   "metadata": {},
   "outputs": [
    {
     "data": {
      "text/plain": [
       "3"
      ]
     },
     "execution_count": 37,
     "metadata": {},
     "output_type": "execute_result"
    }
   ],
   "source": [
    "tup1.count(3)#3 is alose 3 times in tuple"
   ]
  },
  {
   "cell_type": "code",
   "execution_count": 39,
   "id": "324c837b",
   "metadata": {},
   "outputs": [],
   "source": [
    "#dictionary\n",
    "#dictionary always done in curly brackets{}\n",
    "#dictionary have key:values\n",
    "#lets see how to make dicktionary"
   ]
  },
  {
   "cell_type": "code",
   "execution_count": 40,
   "id": "13037637",
   "metadata": {},
   "outputs": [],
   "source": [
    "  my_dict={\"saurav\":\"alwasys single\",\"rohit\":\"pragya\",\"yashu\":123}"
   ]
  },
  {
   "cell_type": "code",
   "execution_count": 41,
   "id": "84211fec",
   "metadata": {},
   "outputs": [
    {
     "data": {
      "text/plain": [
       "{'saurav': 'alwasys single', 'rohit': 'pragya', 'yashu': 123}"
      ]
     },
     "execution_count": 41,
     "metadata": {},
     "output_type": "execute_result"
    }
   ],
   "source": [
    "my_dict"
   ]
  },
  {
   "cell_type": "code",
   "execution_count": 42,
   "id": "28835957",
   "metadata": {},
   "outputs": [],
   "source": [
    "#call value by using keys:"
   ]
  },
  {
   "cell_type": "code",
   "execution_count": 43,
   "id": "be425687",
   "metadata": {},
   "outputs": [
    {
     "data": {
      "text/plain": [
       "'alwasys single'"
      ]
     },
     "execution_count": 43,
     "metadata": {},
     "output_type": "execute_result"
    }
   ],
   "source": [
    "my_dict['saurav']"
   ]
  },
  {
   "cell_type": "code",
   "execution_count": 44,
   "id": "dc925e37",
   "metadata": {},
   "outputs": [],
   "source": [
    "#create new dictionary:\n"
   ]
  },
  {
   "cell_type": "code",
   "execution_count": 45,
   "id": "43253b9a",
   "metadata": {},
   "outputs": [],
   "source": [
    "my_dict1={'saurav':123,\"yashu\":[14,25,36],\"rohit\":['pragya','swarnim']}"
   ]
  },
  {
   "cell_type": "code",
   "execution_count": 46,
   "id": "79f14fe2",
   "metadata": {},
   "outputs": [
    {
     "data": {
      "text/plain": [
       "{'saurav': 123, 'yashu': [14, 25, 36], 'rohit': ['pragya', 'swarnim']}"
      ]
     },
     "execution_count": 46,
     "metadata": {},
     "output_type": "execute_result"
    }
   ],
   "source": [
    "my_dict1"
   ]
  },
  {
   "cell_type": "code",
   "execution_count": 47,
   "id": "fb4077ad",
   "metadata": {},
   "outputs": [],
   "source": [
    "#call the selected value by keys"
   ]
  },
  {
   "cell_type": "code",
   "execution_count": 48,
   "id": "5ff457c6",
   "metadata": {},
   "outputs": [
    {
     "data": {
      "text/plain": [
       "36"
      ]
     },
     "execution_count": 48,
     "metadata": {},
     "output_type": "execute_result"
    }
   ],
   "source": [
    "my_dict1[\"yashu\"][2]"
   ]
  },
  {
   "cell_type": "code",
   "execution_count": 49,
   "id": "f2307bb0",
   "metadata": {},
   "outputs": [],
   "source": [
    "#how to do all letter are capital"
   ]
  },
  {
   "cell_type": "code",
   "execution_count": 51,
   "id": "896c9cba",
   "metadata": {},
   "outputs": [
    {
     "data": {
      "text/plain": [
       "'SWARNIM'"
      ]
     },
     "execution_count": 51,
     "metadata": {},
     "output_type": "execute_result"
    }
   ],
   "source": [
    "my_dict1[\"rohit\"][1].upper()"
   ]
  },
  {
   "cell_type": "code",
   "execution_count": 52,
   "id": "775079a5",
   "metadata": {},
   "outputs": [],
   "source": [
    "#how to subtract 123 from key 'saurav'"
   ]
  },
  {
   "cell_type": "code",
   "execution_count": 53,
   "id": "f512263c",
   "metadata": {},
   "outputs": [],
   "source": [
    "my_dict1['saurav']=my_dict1['saurav']-123"
   ]
  },
  {
   "cell_type": "code",
   "execution_count": 54,
   "id": "b7fb5dee",
   "metadata": {},
   "outputs": [
    {
     "data": {
      "text/plain": [
       "{'saurav': 0, 'yashu': [14, 25, 36], 'rohit': ['pragya', 'swarnim']}"
      ]
     },
     "execution_count": 54,
     "metadata": {},
     "output_type": "execute_result"
    }
   ],
   "source": [
    "my_dict1"
   ]
  },
  {
   "cell_type": "code",
   "execution_count": 55,
   "id": "833e0079",
   "metadata": {},
   "outputs": [],
   "source": [
    "# quick  method to do + - in dictionary"
   ]
  },
  {
   "cell_type": "code",
   "execution_count": 58,
   "id": "8d482176",
   "metadata": {},
   "outputs": [],
   "source": [
    "my_dict1['saurav']+=123"
   ]
  },
  {
   "cell_type": "code",
   "execution_count": 59,
   "id": "064cf5b0",
   "metadata": {},
   "outputs": [
    {
     "data": {
      "text/plain": [
       "{'saurav': 123, 'yashu': [14, 25, 36], 'rohit': ['pragya', 'swarnim']}"
      ]
     },
     "execution_count": 59,
     "metadata": {},
     "output_type": "execute_result"
    }
   ],
   "source": [
    "my_dict1"
   ]
  },
  {
   "cell_type": "code",
   "execution_count": 61,
   "id": "d1e2619c",
   "metadata": {},
   "outputs": [],
   "source": [
    "#other way to create a dictionary\n",
    "#lets see how we can make dictionary without {} curly brackets\n",
    "#craete a black dictionary"
   ]
  },
  {
   "cell_type": "code",
   "execution_count": 62,
   "id": "aec820df",
   "metadata": {},
   "outputs": [],
   "source": [
    "d={}"
   ]
  },
  {
   "cell_type": "code",
   "execution_count": 63,
   "id": "528aa69a",
   "metadata": {},
   "outputs": [
    {
     "data": {
      "text/plain": [
       "{}"
      ]
     },
     "execution_count": 63,
     "metadata": {},
     "output_type": "execute_result"
    }
   ],
   "source": [
    "d"
   ]
  },
  {
   "cell_type": "code",
   "execution_count": 64,
   "id": "56a8acb1",
   "metadata": {},
   "outputs": [],
   "source": [
    "#create a new key"
   ]
  },
  {
   "cell_type": "code",
   "execution_count": 65,
   "id": "fd4a1388",
   "metadata": {},
   "outputs": [],
   "source": [
    "d['animal']='dog'"
   ]
  },
  {
   "cell_type": "code",
   "execution_count": 66,
   "id": "c97efeae",
   "metadata": {},
   "outputs": [
    {
     "data": {
      "text/plain": [
       "{'animal': 'dog'}"
      ]
     },
     "execution_count": 66,
     "metadata": {},
     "output_type": "execute_result"
    }
   ],
   "source": [
    "d"
   ]
  },
  {
   "cell_type": "code",
   "execution_count": 67,
   "id": "9a775e37",
   "metadata": {},
   "outputs": [],
   "source": [
    "d['fruits']='mango'"
   ]
  },
  {
   "cell_type": "code",
   "execution_count": 68,
   "id": "9551efc5",
   "metadata": {},
   "outputs": [
    {
     "data": {
      "text/plain": [
       "{'animal': 'dog', 'fruits': 'mango'}"
      ]
     },
     "execution_count": 68,
     "metadata": {},
     "output_type": "execute_result"
    }
   ],
   "source": [
    "d"
   ]
  },
  {
   "cell_type": "code",
   "execution_count": 69,
   "id": "4855d2ee",
   "metadata": {},
   "outputs": [],
   "source": [
    "d['amisha dont love']='saurav'"
   ]
  },
  {
   "cell_type": "code",
   "execution_count": 70,
   "id": "761fb0da",
   "metadata": {},
   "outputs": [
    {
     "data": {
      "text/plain": [
       "{'animal': 'dog', 'fruits': 'mango', 'amisha dont love': 'saurav'}"
      ]
     },
     "execution_count": 70,
     "metadata": {},
     "output_type": "execute_result"
    }
   ],
   "source": [
    "d"
   ]
  },
  {
   "cell_type": "code",
   "execution_count": 71,
   "id": "2a72540d",
   "metadata": {},
   "outputs": [],
   "source": [
    "#Nesting with dictionary"
   ]
  },
  {
   "cell_type": "code",
   "execution_count": 79,
   "id": "f2f29414",
   "metadata": {},
   "outputs": [],
   "source": [
    "d={\"key\":{\"nestkey\":{\"subnestkey\":{10,20,30}}}}"
   ]
  },
  {
   "cell_type": "code",
   "execution_count": 80,
   "id": "43026eaa",
   "metadata": {},
   "outputs": [
    {
     "data": {
      "text/plain": [
       "{'key': {'nestkey': {'subnestkey': {10, 20, 30}}}}"
      ]
     },
     "execution_count": 80,
     "metadata": {},
     "output_type": "execute_result"
    }
   ],
   "source": [
    "d"
   ]
  },
  {
   "cell_type": "code",
   "execution_count": 81,
   "id": "7730e0fc",
   "metadata": {},
   "outputs": [
    {
     "data": {
      "text/plain": [
       "{'nestkey': {'subnestkey': {10, 20, 30}}}"
      ]
     },
     "execution_count": 81,
     "metadata": {},
     "output_type": "execute_result"
    }
   ],
   "source": [
    "d['key']"
   ]
  },
  {
   "cell_type": "code",
   "execution_count": 85,
   "id": "4986ee90",
   "metadata": {},
   "outputs": [
    {
     "data": {
      "text/plain": [
       "{'subnestkey': {10, 20, 30}}"
      ]
     },
     "execution_count": 85,
     "metadata": {},
     "output_type": "execute_result"
    }
   ],
   "source": [
    "d[\"key\"]['nestkey']"
   ]
  },
  {
   "cell_type": "code",
   "execution_count": 86,
   "id": "66e2b685",
   "metadata": {},
   "outputs": [
    {
     "data": {
      "text/plain": [
       "{10, 20, 30}"
      ]
     },
     "execution_count": 86,
     "metadata": {},
     "output_type": "execute_result"
    }
   ],
   "source": [
    "d['key']['nestkey']['subnestkey']"
   ]
  },
  {
   "cell_type": "code",
   "execution_count": 92,
   "id": "2c84970e",
   "metadata": {},
   "outputs": [],
   "source": [
    "# ithink you dont understand anything\n",
    "#lets check with another example\n",
    "#i want to make diet of my frineds.\n",
    "#lets see"
   ]
  },
  {
   "cell_type": "code",
   "execution_count": 88,
   "id": "8a66ad68",
   "metadata": {},
   "outputs": [],
   "source": [
    "my_dict={\"rohit\":{'lunch':'roti','dinner':'paratha'},'yashu':{\"lunch\":'rice',\"dinner\":\"rice with curry\"}}"
   ]
  },
  {
   "cell_type": "code",
   "execution_count": 89,
   "id": "3072c6bb",
   "metadata": {},
   "outputs": [
    {
     "data": {
      "text/plain": [
       "'paratha'"
      ]
     },
     "execution_count": 89,
     "metadata": {},
     "output_type": "execute_result"
    }
   ],
   "source": [
    "my_dict['rohit']['dinner']"
   ]
  },
  {
   "cell_type": "code",
   "execution_count": 91,
   "id": "a7422408",
   "metadata": {},
   "outputs": [
    {
     "data": {
      "text/plain": [
       "'rice'"
      ]
     },
     "execution_count": 91,
     "metadata": {},
     "output_type": "execute_result"
    }
   ],
   "source": [
    "my_dict['yashu']['lunch']"
   ]
  },
  {
   "cell_type": "code",
   "execution_count": 94,
   "id": "be5260d3",
   "metadata": {},
   "outputs": [],
   "source": [
    "#dictionary methods\n",
    "#create a new dictionary"
   ]
  },
  {
   "cell_type": "code",
   "execution_count": 95,
   "id": "8a8e1e14",
   "metadata": {},
   "outputs": [],
   "source": [
    "my_dict={\"saurav\":\"always single\",'rohit':\"engage\",\"ratnesh\":'single'}"
   ]
  },
  {
   "cell_type": "code",
   "execution_count": 96,
   "id": "52651552",
   "metadata": {},
   "outputs": [
    {
     "data": {
      "text/plain": [
       "{'saurav': 'always single', 'rohit': 'engage', 'ratnesh': 'single'}"
      ]
     },
     "execution_count": 96,
     "metadata": {},
     "output_type": "execute_result"
    }
   ],
   "source": [
    "my_dict"
   ]
  },
  {
   "cell_type": "code",
   "execution_count": 97,
   "id": "dcefa204",
   "metadata": {},
   "outputs": [],
   "source": [
    "#lets see the dictionary methods\n",
    "#grab all keys"
   ]
  },
  {
   "cell_type": "code",
   "execution_count": 98,
   "id": "abb85043",
   "metadata": {},
   "outputs": [
    {
     "data": {
      "text/plain": [
       "dict_keys(['saurav', 'rohit', 'ratnesh'])"
      ]
     },
     "execution_count": 98,
     "metadata": {},
     "output_type": "execute_result"
    }
   ],
   "source": [
    "my_dict.keys()"
   ]
  },
  {
   "cell_type": "code",
   "execution_count": 99,
   "id": "3a9454f5",
   "metadata": {},
   "outputs": [],
   "source": [
    "#grab all values"
   ]
  },
  {
   "cell_type": "code",
   "execution_count": 100,
   "id": "677e4e60",
   "metadata": {},
   "outputs": [
    {
     "data": {
      "text/plain": [
       "dict_values(['always single', 'engage', 'single'])"
      ]
     },
     "execution_count": 100,
     "metadata": {},
     "output_type": "execute_result"
    }
   ],
   "source": [
    "my_dict.values()"
   ]
  },
  {
   "cell_type": "code",
   "execution_count": null,
   "id": "6a8086ca",
   "metadata": {},
   "outputs": [],
   "source": [
    "#basics of tuple and dictionary\n",
    "#python by shankar sir\n",
    "#student of datatraine - Saurav"
   ]
  }
 ],
 "metadata": {
  "kernelspec": {
   "display_name": "Python 3 (ipykernel)",
   "language": "python",
   "name": "python3"
  },
  "language_info": {
   "codemirror_mode": {
    "name": "ipython",
    "version": 3
   },
   "file_extension": ".py",
   "mimetype": "text/x-python",
   "name": "python",
   "nbconvert_exporter": "python",
   "pygments_lexer": "ipython3",
   "version": "3.9.7"
  }
 },
 "nbformat": 4,
 "nbformat_minor": 5
}
